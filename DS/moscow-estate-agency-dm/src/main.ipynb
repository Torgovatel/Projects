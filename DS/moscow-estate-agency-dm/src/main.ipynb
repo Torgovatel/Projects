{
 "cells": [
  {
   "cell_type": "code",
   "execution_count": 276,
   "metadata": {},
   "outputs": [],
   "source": [
    "import numpy as np\n",
    "import pandas as pd\n",
    "import matplotlib.pyplot as plt\n",
    "import scipy\n",
    "import os\n",
    "import scipy.stats as stats\n",
    "import seaborn as sns\n",
    "import re"
   ]
  },
  {
   "cell_type": "markdown",
   "metadata": {},
   "source": [
    "# Предварительный просмотр данных"
   ]
  },
  {
   "cell_type": "code",
   "execution_count": 277,
   "metadata": {},
   "outputs": [
    {
     "data": {
      "text/html": [
       "<div>\n",
       "<style scoped>\n",
       "    .dataframe tbody tr th:only-of-type {\n",
       "        vertical-align: middle;\n",
       "    }\n",
       "\n",
       "    .dataframe tbody tr th {\n",
       "        vertical-align: top;\n",
       "    }\n",
       "\n",
       "    .dataframe thead th {\n",
       "        text-align: right;\n",
       "    }\n",
       "</style>\n",
       "<table border=\"1\" class=\"dataframe\">\n",
       "  <thead>\n",
       "    <tr style=\"text-align: right;\">\n",
       "      <th></th>\n",
       "      <th>url</th>\n",
       "      <th>Заголовок</th>\n",
       "      <th>Новостройка</th>\n",
       "      <th>Этап строительства</th>\n",
       "      <th>Год постройки</th>\n",
       "      <th>Класс жилья</th>\n",
       "      <th>МЦК</th>\n",
       "      <th>Кол-во просмотров</th>\n",
       "      <th>Кол-во просмотров сегодня</th>\n",
       "      <th>Описание</th>\n",
       "      <th>...</th>\n",
       "      <th>Ближайшая станция метро</th>\n",
       "      <th>Расстояние до метро</th>\n",
       "      <th>Ближайшая школа</th>\n",
       "      <th>Рейтинг школы</th>\n",
       "      <th>Адрес ближайшей школы</th>\n",
       "      <th>Расстояние до ближайшей школы</th>\n",
       "      <th>Район</th>\n",
       "      <th>Рейтинг района</th>\n",
       "      <th>Номер этажа</th>\n",
       "      <th>Очищенная цена за м²</th>\n",
       "    </tr>\n",
       "  </thead>\n",
       "  <tbody>\n",
       "    <tr>\n",
       "      <th>0</th>\n",
       "      <td>https://move.ru/objects/moskva_ulica_baykalska...</td>\n",
       "      <td>Продажа 1-комнатной квартиры, 31 м², Москва, у...</td>\n",
       "      <td>NaN</td>\n",
       "      <td>NaN</td>\n",
       "      <td>1967.0</td>\n",
       "      <td>NaN</td>\n",
       "      <td>NaN</td>\n",
       "      <td>125</td>\n",
       "      <td>3.0</td>\n",
       "      <td>ВП-738 СВОБОДНАЯ ПРОДАЖА. ДОМ ПОД СНОС. ЮРИДИЧ...</td>\n",
       "      <td>...</td>\n",
       "      <td>м. Щелковская</td>\n",
       "      <td>1294 м.</td>\n",
       "      <td>ГБОУ школа № 1352</td>\n",
       "      <td>Место в рейтинге №47</td>\n",
       "      <td>107207,г.Москва, Щелковское ш., д. 77 А</td>\n",
       "      <td>190 м</td>\n",
       "      <td>NaN</td>\n",
       "      <td>NaN</td>\n",
       "      <td>3</td>\n",
       "      <td>169355</td>\n",
       "    </tr>\n",
       "    <tr>\n",
       "      <th>1</th>\n",
       "      <td>https://move.ru/objects/prodaetsya_2-komn_kvar...</td>\n",
       "      <td>Продам 2-комнатную квартиру, 83.2 м², Москва, ...</td>\n",
       "      <td>ЖК City Park («Сити Парк»), м. Выставочная</td>\n",
       "      <td>Отделка</td>\n",
       "      <td>2020.0</td>\n",
       "      <td>Элит класс</td>\n",
       "      <td>МЦК Деловой центр</td>\n",
       "      <td>202</td>\n",
       "      <td>1.0</td>\n",
       "      <td>Квартира премиум класса в ЖК CITY PARK с видам...</td>\n",
       "      <td>...</td>\n",
       "      <td>м. Выставочная</td>\n",
       "      <td>510 м.</td>\n",
       "      <td>ГБОУ школа № 2055</td>\n",
       "      <td>Место в рейтинге №456</td>\n",
       "      <td>123100, г. Москва, ул. 2-я Черногрязская, дом 7</td>\n",
       "      <td>776 м</td>\n",
       "      <td>Пресненский</td>\n",
       "      <td>14 место из 58 в рейтинге районов</td>\n",
       "      <td>4</td>\n",
       "      <td>268000</td>\n",
       "    </tr>\n",
       "    <tr>\n",
       "      <th>2</th>\n",
       "      <td>https://move.ru/objects/prodaetsya_2-komn_kvar...</td>\n",
       "      <td>Продаю 2-комнатную квартиру, 89.6 м², Москва, ...</td>\n",
       "      <td>ЖК Silver (ЖК «Резиденции кинематографистов»),...</td>\n",
       "      <td>Отделка</td>\n",
       "      <td>2018.0</td>\n",
       "      <td>Бизнес класс</td>\n",
       "      <td>МЦК Ботанический сад</td>\n",
       "      <td>20</td>\n",
       "      <td>1.0</td>\n",
       "      <td>Продается 2-комн. квартира, площадью 89.6 м2 в...</td>\n",
       "      <td>...</td>\n",
       "      <td>м. Свиблово</td>\n",
       "      <td>12 мин,             1 км</td>\n",
       "      <td>ГБОУ Гимназия «Свиблово»</td>\n",
       "      <td>Место в рейтинге №28</td>\n",
       "      <td>129323, г. Москва, ул. Седова, д. 4, корп. 1</td>\n",
       "      <td>619 м</td>\n",
       "      <td>Свиблово</td>\n",
       "      <td>15 место из 58 в рейтинге районов</td>\n",
       "      <td>2</td>\n",
       "      <td>174786</td>\n",
       "    </tr>\n",
       "  </tbody>\n",
       "</table>\n",
       "<p>3 rows × 37 columns</p>\n",
       "</div>"
      ],
      "text/plain": [
       "                                                 url  \\\n",
       "0  https://move.ru/objects/moskva_ulica_baykalska...   \n",
       "1  https://move.ru/objects/prodaetsya_2-komn_kvar...   \n",
       "2  https://move.ru/objects/prodaetsya_2-komn_kvar...   \n",
       "\n",
       "                                           Заголовок  \\\n",
       "0  Продажа 1-комнатной квартиры, 31 м², Москва, у...   \n",
       "1  Продам 2-комнатную квартиру, 83.2 м², Москва, ...   \n",
       "2  Продаю 2-комнатную квартиру, 89.6 м², Москва, ...   \n",
       "\n",
       "                                         Новостройка Этап строительства  \\\n",
       "0                                                NaN                NaN   \n",
       "1         ЖК City Park («Сити Парк»), м. Выставочная            Отделка   \n",
       "2  ЖК Silver (ЖК «Резиденции кинематографистов»),...            Отделка   \n",
       "\n",
       "   Год постройки   Класс жилья                   МЦК  Кол-во просмотров  \\\n",
       "0         1967.0           NaN                   NaN                125   \n",
       "1         2020.0    Элит класс     МЦК Деловой центр                202   \n",
       "2         2018.0  Бизнес класс  МЦК Ботанический сад                 20   \n",
       "\n",
       "   Кол-во просмотров сегодня  \\\n",
       "0                        3.0   \n",
       "1                        1.0   \n",
       "2                        1.0   \n",
       "\n",
       "                                            Описание  ...  \\\n",
       "0  ВП-738 СВОБОДНАЯ ПРОДАЖА. ДОМ ПОД СНОС. ЮРИДИЧ...  ...   \n",
       "1  Квартира премиум класса в ЖК CITY PARK с видам...  ...   \n",
       "2  Продается 2-комн. квартира, площадью 89.6 м2 в...  ...   \n",
       "\n",
       "  Ближайшая станция метро       Расстояние до метро           Ближайшая школа  \\\n",
       "0           м. Щелковская                   1294 м.         ГБОУ школа № 1352   \n",
       "1          м. Выставочная                    510 м.         ГБОУ школа № 2055   \n",
       "2             м. Свиблово  12 мин,             1 км  ГБОУ Гимназия «Свиблово»   \n",
       "\n",
       "           Рейтинг школы                            Адрес ближайшей школы  \\\n",
       "0   Место в рейтинге №47          107207,г.Москва, Щелковское ш., д. 77 А   \n",
       "1  Место в рейтинге №456  123100, г. Москва, ул. 2-я Черногрязская, дом 7   \n",
       "2   Место в рейтинге №28     129323, г. Москва, ул. Седова, д. 4, корп. 1   \n",
       "\n",
       "  Расстояние до ближайшей школы        Район  \\\n",
       "0                         190 м          NaN   \n",
       "1                         776 м  Пресненский   \n",
       "2                         619 м     Свиблово   \n",
       "\n",
       "                      Рейтинг района  Номер этажа Очищенная цена за м²  \n",
       "0                                NaN            3               169355  \n",
       "1  14 место из 58 в рейтинге районов            4               268000  \n",
       "2  15 место из 58 в рейтинге районов            2               174786  \n",
       "\n",
       "[3 rows x 37 columns]"
      ]
     },
     "execution_count": 277,
     "metadata": {},
     "output_type": "execute_result"
    }
   ],
   "source": [
    "data_path = os.path.abspath(os.path.join(os.getcwd(), os.pardir, 'dataset//housing_market_dataset.csv'))\n",
    "\n",
    "dataset = pd.read_csv(data_path)\n",
    "dataset.head(3)"
   ]
  },
  {
   "cell_type": "code",
   "execution_count": 278,
   "metadata": {},
   "outputs": [
    {
     "data": {
      "text/plain": [
       "(13001, 37)"
      ]
     },
     "execution_count": 278,
     "metadata": {},
     "output_type": "execute_result"
    }
   ],
   "source": [
    "dataset.shape"
   ]
  },
  {
   "cell_type": "code",
   "execution_count": 279,
   "metadata": {},
   "outputs": [
    {
     "name": "stdout",
     "output_type": "stream",
     "text": [
      "<class 'pandas.core.frame.DataFrame'>\n",
      "RangeIndex: 13001 entries, 0 to 13000\n",
      "Data columns (total 37 columns):\n",
      " #   Column                         Non-Null Count  Dtype  \n",
      "---  ------                         --------------  -----  \n",
      " 0   url                            13001 non-null  object \n",
      " 1   Заголовок                      13001 non-null  object \n",
      " 2   Новостройка                    6080 non-null   object \n",
      " 3   Этап строительства             5812 non-null   object \n",
      " 4   Год постройки                  7025 non-null   float64\n",
      " 5   Класс жилья                    5812 non-null   object \n",
      " 6   МЦК                            7633 non-null   object \n",
      " 7   Кол-во просмотров              13001 non-null  int64  \n",
      " 8   Кол-во просмотров сегодня      7224 non-null   float64\n",
      " 9   Описание                       12263 non-null  object \n",
      " 10  Информация                     13001 non-null  object \n",
      " 11  Адрес                          13001 non-null  object \n",
      " 12  Тип здания                     12897 non-null  object \n",
      " 13  Количество этажей              12510 non-null  float64\n",
      " 14  Цена                           13001 non-null  object \n",
      " 15  цена за м²                     13001 non-null  object \n",
      " 16  Комиссия агенту                5211 non-null   object \n",
      " 17  Количество комнат              13001 non-null  int64  \n",
      " 18  Этажность                      13001 non-null  int64  \n",
      " 19  Тип объекта                    13001 non-null  object \n",
      " 20  Тип объявления                 13001 non-null  object \n",
      " 21  Общая площадь                  13001 non-null  object \n",
      " 22  Дата публикации                13001 non-null  object \n",
      " 23  Дата  обновления               11234 non-null  object \n",
      " 24  Площадь кухни                  11821 non-null  object \n",
      " 25  Возможна ипотека               11368 non-null  object \n",
      " 26  Лифт                           9226 non-null   object \n",
      " 27  Ближайшая станция метро        13001 non-null  object \n",
      " 28  Расстояние до метро            13001 non-null  object \n",
      " 29  Ближайшая школа                13001 non-null  object \n",
      " 30  Рейтинг школы                  13001 non-null  object \n",
      " 31  Адрес ближайшей школы          13001 non-null  object \n",
      " 32  Расстояние до ближайшей школы  13001 non-null  object \n",
      " 33  Район                          3898 non-null   object \n",
      " 34  Рейтинг района                 3898 non-null   object \n",
      " 35  Номер этажа                    13001 non-null  int64  \n",
      " 36  Очищенная цена за м²           13001 non-null  int64  \n",
      "dtypes: float64(3), int64(5), object(29)\n",
      "memory usage: 3.7+ MB\n"
     ]
    }
   ],
   "source": [
    "dataset.info()"
   ]
  },
  {
   "cell_type": "markdown",
   "metadata": {},
   "source": [
    "# Предобработка данных"
   ]
  },
  {
   "cell_type": "code",
   "execution_count": 280,
   "metadata": {},
   "outputs": [
    {
     "data": {
      "text/plain": [
       "11"
      ]
     },
     "execution_count": 280,
     "metadata": {},
     "output_type": "execute_result"
    }
   ],
   "source": [
    "dataset.duplicated().sum()"
   ]
  },
  {
   "cell_type": "code",
   "execution_count": 281,
   "metadata": {},
   "outputs": [],
   "source": [
    "dataset.drop_duplicates(inplace=True)\n",
    "dataset.reset_index(drop=True, inplace=True)"
   ]
  },
  {
   "cell_type": "code",
   "execution_count": 282,
   "metadata": {},
   "outputs": [
    {
     "data": {
      "text/plain": [
       "(12990, 37)"
      ]
     },
     "execution_count": 282,
     "metadata": {},
     "output_type": "execute_result"
    }
   ],
   "source": [
    "dataset.shape"
   ]
  },
  {
   "cell_type": "markdown",
   "metadata": {},
   "source": [
    "## Выбор признаков для анализа"
   ]
  },
  {
   "cell_type": "code",
   "execution_count": 283,
   "metadata": {},
   "outputs": [
    {
     "data": {
      "text/plain": [
       "Index(['url', 'Заголовок', 'Новостройка', 'Этап строительства',\n",
       "       'Год постройки', 'Класс жилья', 'МЦК', 'Кол-во просмотров',\n",
       "       'Кол-во просмотров сегодня', 'Описание', 'Информация', 'Адрес',\n",
       "       'Тип здания', 'Количество этажей', 'Цена', 'цена за м²',\n",
       "       'Комиссия агенту', 'Количество комнат', 'Этажность', 'Тип объекта',\n",
       "       'Тип объявления', 'Общая площадь', 'Дата публикации',\n",
       "       'Дата  обновления', 'Площадь кухни', 'Возможна ипотека', 'Лифт',\n",
       "       'Ближайшая станция метро', 'Расстояние до метро', 'Ближайшая школа',\n",
       "       'Рейтинг школы', 'Адрес ближайшей школы',\n",
       "       'Расстояние до ближайшей школы', 'Район', 'Рейтинг района',\n",
       "       'Номер этажа', 'Очищенная цена за м²'],\n",
       "      dtype='object')"
      ]
     },
     "execution_count": 283,
     "metadata": {},
     "output_type": "execute_result"
    }
   ],
   "source": [
    "dataset.columns"
   ]
  },
  {
   "cell_type": "code",
   "execution_count": 284,
   "metadata": {},
   "outputs": [],
   "source": [
    "columns = ['url','МЦК', 'Описание', 'Информация', 'цена за м²','Дата публикации','Дата  обновления','Адрес ближайшей школы', 'Район',\n",
    "           'Рейтинг района', 'Кол-во просмотров сегодня','Новостройка','Площадь кухни','Количество этажей']"
   ]
  },
  {
   "cell_type": "code",
   "execution_count": 285,
   "metadata": {},
   "outputs": [
    {
     "data": {
      "text/plain": [
       "(12990, 23)"
      ]
     },
     "execution_count": 285,
     "metadata": {},
     "output_type": "execute_result"
    }
   ],
   "source": [
    "dataset.drop(columns=columns, inplace=True)\n",
    "dataset.shape"
   ]
  },
  {
   "cell_type": "markdown",
   "metadata": {},
   "source": [
    "## Проверка признаков"
   ]
  },
  {
   "cell_type": "markdown",
   "metadata": {},
   "source": [
    "### Этап строительства"
   ]
  },
  {
   "cell_type": "code",
   "execution_count": 286,
   "metadata": {},
   "outputs": [
    {
     "data": {
      "text/plain": [
       "array([nan, 'Отделка', 'Сдан', 'Возведение стен', 'В проекте', 'Площадка',\n",
       "       'Заморожено', 'Котлован'], dtype=object)"
      ]
     },
     "execution_count": 286,
     "metadata": {},
     "output_type": "execute_result"
    }
   ],
   "source": [
    "dataset['Этап строительства'].unique()"
   ]
  },
  {
   "cell_type": "code",
   "execution_count": 287,
   "metadata": {},
   "outputs": [
    {
     "data": {
      "text/plain": [
       "Этап строительства\n",
       "Возведение стен    3208\n",
       "Сдан               1050\n",
       "Отделка             803\n",
       "Площадка            541\n",
       "В проекте           159\n",
       "Котлован             41\n",
       "Заморожено            4\n",
       "Name: count, dtype: int64"
      ]
     },
     "execution_count": 287,
     "metadata": {},
     "output_type": "execute_result"
    }
   ],
   "source": [
    "dataset['Этап строительства'].value_counts()"
   ]
  },
  {
   "cell_type": "code",
   "execution_count": 288,
   "metadata": {},
   "outputs": [
    {
     "data": {
      "text/plain": [
       "7184"
      ]
     },
     "execution_count": 288,
     "metadata": {},
     "output_type": "execute_result"
    }
   ],
   "source": [
    "dataset['Этап строительства'].isnull().sum()"
   ]
  },
  {
   "cell_type": "code",
   "execution_count": 289,
   "metadata": {},
   "outputs": [],
   "source": [
    "# замена пропусков\n",
    "dataset.loc[dataset[dataset['Этап строительства'].isnull()].index, 'Этап строительства'] = 'Неизвестно'\n",
    "\n",
    "# замороженных мало, исключаем эти записи\n",
    "dataset = dataset[dataset['Этап строительства']!='Заморожено']\n",
    "\n",
    "# возможны неизвестные дома, которые явно прошли акт сдачи (условно, до 2000 года включительно)\n",
    "dataset.loc[dataset[dataset['Год постройки'] <= 2000].index, 'Этап строительства'] = 'Сдан'\n"
   ]
  },
  {
   "cell_type": "code",
   "execution_count": 290,
   "metadata": {},
   "outputs": [
    {
     "data": {
      "text/plain": [
       "Этап строительства\n",
       "Неизвестно         4812\n",
       "Сдан               3424\n",
       "Возведение стен    3208\n",
       "Отделка             803\n",
       "Площадка            541\n",
       "В проекте           158\n",
       "Котлован             40\n",
       "Name: count, dtype: int64"
      ]
     },
     "execution_count": 290,
     "metadata": {},
     "output_type": "execute_result"
    }
   ],
   "source": [
    "# проверка изменений\n",
    "dataset['Этап строительства'].value_counts()"
   ]
  },
  {
   "cell_type": "markdown",
   "metadata": {},
   "source": [
    "### Год постройки"
   ]
  },
  {
   "cell_type": "code",
   "execution_count": 291,
   "metadata": {},
   "outputs": [
    {
     "data": {
      "text/plain": [
       "5970"
      ]
     },
     "execution_count": 291,
     "metadata": {},
     "output_type": "execute_result"
    }
   ],
   "source": [
    "# пропуски не обрабатываем (нет смысла портить тип столбца)\n",
    "dataset['Год постройки'].isna().sum()"
   ]
  },
  {
   "cell_type": "code",
   "execution_count": 292,
   "metadata": {},
   "outputs": [
    {
     "data": {
      "text/plain": [
       "Год постройки\n",
       "2019.0    2111\n",
       "2018.0     795\n",
       "2021.0     564\n",
       "2020.0     298\n",
       "2011.0     150\n",
       "          ... \n",
       "1898.0       1\n",
       "1914.0       1\n",
       "1885.0       1\n",
       "1889.0       1\n",
       "1945.0       1\n",
       "Name: count, Length: 114, dtype: int64"
      ]
     },
     "execution_count": 292,
     "metadata": {},
     "output_type": "execute_result"
    }
   ],
   "source": [
    "dataset['Год постройки'].value_counts()"
   ]
  },
  {
   "cell_type": "code",
   "execution_count": 293,
   "metadata": {},
   "outputs": [],
   "source": [
    "# заменим на десятилетия, сократив уникальные значения\n",
    "dataset['Год постройки'] = dataset['Год постройки'] // 10 * 10"
   ]
  },
  {
   "cell_type": "code",
   "execution_count": 294,
   "metadata": {},
   "outputs": [
    {
     "data": {
      "text/plain": [
       "Год постройки\n",
       "2010.0    3401\n",
       "2020.0     862\n",
       "1960.0     737\n",
       "1970.0     521\n",
       "2000.0     400\n",
       "1980.0     336\n",
       "1950.0     335\n",
       "1990.0     258\n",
       "1930.0      57\n",
       "1920.0      40\n",
       "1940.0      30\n",
       "1910.0      21\n",
       "1900.0      11\n",
       "1880.0       5\n",
       "1890.0       1\n",
       "1870.0       1\n",
       "Name: count, dtype: int64"
      ]
     },
     "execution_count": 294,
     "metadata": {},
     "output_type": "execute_result"
    }
   ],
   "source": [
    "# проверка изменения\n",
    "dataset['Год постройки'].value_counts()"
   ]
  },
  {
   "cell_type": "markdown",
   "metadata": {},
   "source": [
    "### Класс жилья"
   ]
  },
  {
   "cell_type": "code",
   "execution_count": 295,
   "metadata": {},
   "outputs": [
    {
     "data": {
      "text/plain": [
       "array([nan, 'Элит класс', 'Бизнес класс', 'Эконом класс', 'Комфорт класс'],\n",
       "      dtype=object)"
      ]
     },
     "execution_count": 295,
     "metadata": {},
     "output_type": "execute_result"
    }
   ],
   "source": [
    "dataset['Класс жилья'].unique()"
   ]
  },
  {
   "cell_type": "code",
   "execution_count": 296,
   "metadata": {},
   "outputs": [],
   "source": [
    "# замена пропусков\n",
    "dataset.loc[dataset[dataset['Класс жилья'].isnull()].index, 'Класс жилья'] = 'Неизвестно'"
   ]
  },
  {
   "cell_type": "code",
   "execution_count": 297,
   "metadata": {},
   "outputs": [
    {
     "data": {
      "text/plain": [
       "Класс жилья\n",
       "Неизвестно       7184\n",
       "Бизнес класс     3411\n",
       "Комфорт класс    1871\n",
       "Элит класс        345\n",
       "Эконом класс      175\n",
       "Name: count, dtype: int64"
      ]
     },
     "execution_count": 297,
     "metadata": {},
     "output_type": "execute_result"
    }
   ],
   "source": [
    "# проверка изменений\n",
    "dataset['Класс жилья'].value_counts()"
   ]
  },
  {
   "cell_type": "markdown",
   "metadata": {},
   "source": [
    "### Тип здания"
   ]
  },
  {
   "cell_type": "code",
   "execution_count": 298,
   "metadata": {},
   "outputs": [
    {
     "data": {
      "text/plain": [
       "array(['Панельное', 'Монолитно-кирпичный', 'Монолитное', 'Монолитный',\n",
       "       'Кирпичное', nan, 'Блочное', 'Монолитно-кирпичное', 'Сталинское',\n",
       "       'Панельный', 'Панельно-кирпичное'], dtype=object)"
      ]
     },
     "execution_count": 298,
     "metadata": {},
     "output_type": "execute_result"
    }
   ],
   "source": [
    "dataset['Тип здания'].unique()"
   ]
  },
  {
   "cell_type": "code",
   "execution_count": 299,
   "metadata": {},
   "outputs": [
    {
     "data": {
      "text/plain": [
       "Тип здания\n",
       "Монолитное             5223\n",
       "Кирпичное              4487\n",
       "Блочное                1662\n",
       "Монолитно-кирпичное     703\n",
       "Панельное               593\n",
       "Монолитно-кирпичный     156\n",
       "Сталинское               45\n",
       "Монолитный               10\n",
       "Панельный                 2\n",
       "Панельно-кирпичное        1\n",
       "Name: count, dtype: int64"
      ]
     },
     "execution_count": 299,
     "metadata": {},
     "output_type": "execute_result"
    }
   ],
   "source": [
    "dataset['Тип здания'].value_counts()"
   ]
  },
  {
   "cell_type": "markdown",
   "metadata": {},
   "source": [
    "Исправим двойственные представления одного и того же признака"
   ]
  },
  {
   "cell_type": "code",
   "execution_count": 300,
   "metadata": {},
   "outputs": [],
   "source": [
    "# замена пропусков\n",
    "dataset.loc[dataset[dataset['Тип здания'].isnull()].index, 'Тип здания'] = 'Неизвестно'\n",
    "\n",
    "# приведение к единообразию записи признаков\n",
    "dataset.loc[dataset[dataset['Тип здания'] == 'Панельный'].index, 'Тип здания'] = 'Панельное'\n",
    "dataset.loc[dataset[dataset['Тип здания'] == 'Монолитный'].index, 'Тип здания'] = 'Монолитное'\n",
    "dataset.loc[dataset[dataset['Тип здания'] == 'Монолитно-кирпичный'].index, 'Тип здания'] = 'Монолитно-кирпичное'\n",
    "\n",
    "# удалим запись с одним наблюдением\n",
    "dataset = dataset[dataset['Тип здания'] != 'Панельно-кирпичное']"
   ]
  },
  {
   "cell_type": "code",
   "execution_count": 301,
   "metadata": {},
   "outputs": [
    {
     "data": {
      "text/plain": [
       "Тип здания\n",
       "Монолитное             5233\n",
       "Кирпичное              4487\n",
       "Блочное                1662\n",
       "Монолитно-кирпичное     859\n",
       "Панельное               595\n",
       "Неизвестно              104\n",
       "Сталинское               45\n",
       "Name: count, dtype: int64"
      ]
     },
     "execution_count": 301,
     "metadata": {},
     "output_type": "execute_result"
    }
   ],
   "source": [
    "# проверим изменения\n",
    "dataset['Тип здания'].value_counts()"
   ]
  },
  {
   "cell_type": "markdown",
   "metadata": {},
   "source": [
    "### Цена"
   ]
  },
  {
   "cell_type": "code",
   "execution_count": 302,
   "metadata": {},
   "outputs": [
    {
     "data": {
      "text/plain": [
       "9146      9 000 000 ₽\n",
       "4154     16 725 300 ₽\n",
       "1064     38 412 500 ₽\n",
       "6948      6 100 000 ₽\n",
       "10228     8 100 000 ₽\n",
       "Name: Цена, dtype: object"
      ]
     },
     "execution_count": 302,
     "metadata": {},
     "output_type": "execute_result"
    }
   ],
   "source": [
    "dataset['Цена'].sample(5)"
   ]
  },
  {
   "cell_type": "markdown",
   "metadata": {},
   "source": [
    "Преобразуем столбец к нормальному численному представлению"
   ]
  },
  {
   "cell_type": "code",
   "execution_count": 303,
   "metadata": {},
   "outputs": [],
   "source": [
    "# удалим знак ₽\n",
    "dataset['Цена'] = dataset['Цена'].apply(lambda x: x[:-1] if pd.notna(x) else np.nan)\n",
    "\n",
    "# заменим лишние пробелы\n",
    "dataset['Цена'] = dataset['Цена'].str.replace(' ', '')\n",
    "\n",
    "# приведем получившийся object к числовому типу\n",
    "dataset['Цена'] = dataset['Цена'].astype('int64')\n",
    "\n",
    "# опишем цену в млн. дабы в датасете не было больших численных значений\n",
    "dataset['Цена, млн'] = dataset['Цена'] / 1_000_000\n",
    "dataset.drop(columns=['Цена'], inplace=True)"
   ]
  },
  {
   "cell_type": "code",
   "execution_count": 304,
   "metadata": {},
   "outputs": [
    {
     "data": {
      "text/plain": [
       "0"
      ]
     },
     "execution_count": 304,
     "metadata": {},
     "output_type": "execute_result"
    }
   ],
   "source": [
    "# проверим на корректность (не должно быть отрицательных)\n",
    "len(dataset[dataset['Цена, млн'] < 0])"
   ]
  },
  {
   "cell_type": "code",
   "execution_count": 305,
   "metadata": {},
   "outputs": [
    {
     "data": {
      "text/plain": [
       "Цена, млн\n",
       "6.100000    328\n",
       "7.100000    309\n",
       "6.200000    272\n",
       "7.300000    272\n",
       "6.000000    196\n",
       "           ... \n",
       "8.345700      1\n",
       "8.373800      1\n",
       "8.401900      1\n",
       "8.458100      1\n",
       "5.733626      1\n",
       "Name: count, Length: 4859, dtype: int64"
      ]
     },
     "execution_count": 305,
     "metadata": {},
     "output_type": "execute_result"
    }
   ],
   "source": [
    "# и проверим изменения\n",
    "dataset['Цена, млн'].value_counts()"
   ]
  },
  {
   "cell_type": "markdown",
   "metadata": {},
   "source": [
    "### Очищенная цена за м², млн"
   ]
  },
  {
   "cell_type": "code",
   "execution_count": 306,
   "metadata": {},
   "outputs": [
    {
     "data": {
      "text/plain": [
       "0"
      ]
     },
     "execution_count": 306,
     "metadata": {},
     "output_type": "execute_result"
    }
   ],
   "source": [
    "# приведем к млн и другой валютный показатель\n",
    "dataset['Очищенная цена за м², млн'] = dataset['Очищенная цена за м²'] / 1000\n",
    "\n",
    "dataset.drop(columns=['Очищенная цена за м²'], inplace=True)\n",
    "\n",
    "# и сразу проверим неотрицательность\n",
    "len(dataset[dataset['Очищенная цена за м², млн'] < 0])"
   ]
  },
  {
   "cell_type": "markdown",
   "metadata": {},
   "source": [
    "### Комиссия агенту"
   ]
  },
  {
   "cell_type": "code",
   "execution_count": 307,
   "metadata": {},
   "outputs": [
    {
     "data": {
      "text/plain": [
       "array([nan, 'без комиссии', '3%', '2%', '1%', '100%'], dtype=object)"
      ]
     },
     "execution_count": 307,
     "metadata": {},
     "output_type": "execute_result"
    }
   ],
   "source": [
    "dataset['Комиссия агенту'].unique()"
   ]
  },
  {
   "cell_type": "code",
   "execution_count": 308,
   "metadata": {},
   "outputs": [
    {
     "data": {
      "text/plain": [
       "Комиссия агенту\n",
       "без комиссии    5183\n",
       "100%              17\n",
       "2%                 5\n",
       "3%                 1\n",
       "1%                 1\n",
       "Name: count, dtype: int64"
      ]
     },
     "execution_count": 308,
     "metadata": {},
     "output_type": "execute_result"
    }
   ],
   "source": [
    "dataset['Комиссия агенту'].value_counts()"
   ]
  },
  {
   "cell_type": "code",
   "execution_count": 309,
   "metadata": {},
   "outputs": [],
   "source": [
    "# заменим пропуски\n",
    "dataset.loc[dataset[dataset['Комиссия агенту'].isna()].index, 'Комиссия агенту'] = 'Неизвестно'\n",
    "\n",
    "# уберем наблюдения с малой частотой\n",
    "dataset = dataset[~dataset['Комиссия агенту'].isin(['1%', '2%', '3%'])]\n"
   ]
  },
  {
   "cell_type": "code",
   "execution_count": 310,
   "metadata": {},
   "outputs": [
    {
     "data": {
      "text/plain": [
       "Комиссия агенту\n",
       "Неизвестно      7778\n",
       "без комиссии    5183\n",
       "100%              17\n",
       "Name: count, dtype: int64"
      ]
     },
     "execution_count": 310,
     "metadata": {},
     "output_type": "execute_result"
    }
   ],
   "source": [
    "dataset['Комиссия агенту'].value_counts()"
   ]
  },
  {
   "cell_type": "markdown",
   "metadata": {},
   "source": [
    "Видим что комиссии либо нет, либо она неизвестна. Наблюдения с комиссией крайне разрежены относительно всего признака, поэтому просто его удалим."
   ]
  },
  {
   "cell_type": "code",
   "execution_count": 311,
   "metadata": {},
   "outputs": [],
   "source": [
    "dataset.drop(columns=['Комиссия агенту'], inplace=True)"
   ]
  },
  {
   "cell_type": "markdown",
   "metadata": {},
   "source": [
    "### Общая площадь"
   ]
  },
  {
   "cell_type": "code",
   "execution_count": 312,
   "metadata": {},
   "outputs": [
    {
     "data": {
      "text/plain": [
       "0"
      ]
     },
     "execution_count": 312,
     "metadata": {},
     "output_type": "execute_result"
    }
   ],
   "source": [
    "dataset['Общая площадь'].isna().sum()"
   ]
  },
  {
   "cell_type": "code",
   "execution_count": 313,
   "metadata": {},
   "outputs": [
    {
     "data": {
      "text/plain": [
       "4888    85.42 м²\n",
       "8573       52 м²\n",
       "2834       43 м²\n",
       "7032       42 м²\n",
       "4770     66.4 м²\n",
       "Name: Общая площадь, dtype: object"
      ]
     },
     "execution_count": 313,
     "metadata": {},
     "output_type": "execute_result"
    }
   ],
   "source": [
    "dataset['Общая площадь'].sample(5)"
   ]
  },
  {
   "cell_type": "code",
   "execution_count": 314,
   "metadata": {},
   "outputs": [],
   "source": [
    "# выделим число\n",
    "def extract_number(string) -> float | None:\n",
    "    match = re.search(r'\\d+(\\.\\d+)?', string)\n",
    "    if match:\n",
    "        return float(match.group())\n",
    "    else:\n",
    "        return None\n",
    "    \n",
    "dataset['Общая площадь'] = dataset['Общая площадь'].astype('str').apply(extract_number)"
   ]
  },
  {
   "cell_type": "code",
   "execution_count": 315,
   "metadata": {},
   "outputs": [
    {
     "data": {
      "text/plain": [
       "11470    117.00\n",
       "5853      86.41\n",
       "2681      47.00\n",
       "9660      30.00\n",
       "5252      33.40\n",
       "Name: Общая площадь, dtype: float64"
      ]
     },
     "execution_count": 315,
     "metadata": {},
     "output_type": "execute_result"
    }
   ],
   "source": [
    "# проверка\n",
    "dataset['Общая площадь'].sample(5)"
   ]
  },
  {
   "cell_type": "code",
   "execution_count": 316,
   "metadata": {},
   "outputs": [
    {
     "data": {
      "text/plain": [
       "0"
      ]
     },
     "execution_count": 316,
     "metadata": {},
     "output_type": "execute_result"
    }
   ],
   "source": [
    "dataset['Общая площадь'].isna().sum()"
   ]
  },
  {
   "cell_type": "code",
   "execution_count": 317,
   "metadata": {},
   "outputs": [
    {
     "data": {
      "text/plain": [
       "0"
      ]
     },
     "execution_count": 317,
     "metadata": {},
     "output_type": "execute_result"
    }
   ],
   "source": [
    "len(dataset[dataset['Общая площадь'] < 0])"
   ]
  },
  {
   "cell_type": "markdown",
   "metadata": {},
   "source": [
    "### Возможна ипотека"
   ]
  },
  {
   "cell_type": "code",
   "execution_count": 318,
   "metadata": {},
   "outputs": [
    {
     "data": {
      "text/plain": [
       "array(['да', nan], dtype=object)"
      ]
     },
     "execution_count": 318,
     "metadata": {},
     "output_type": "execute_result"
    }
   ],
   "source": [
    "dataset['Возможна ипотека'].unique()"
   ]
  },
  {
   "cell_type": "markdown",
   "metadata": {},
   "source": [
    "Замена этого nan по хорошему требует какого-то исследования, но т.к. сейчас не стоит задачи построить модель - заменим на \"нет\" (позднее увидим что таких значений будет менее 12%)"
   ]
  },
  {
   "cell_type": "code",
   "execution_count": 319,
   "metadata": {},
   "outputs": [],
   "source": [
    "dataset.loc[dataset[dataset['Возможна ипотека'].isna()].index, 'Возможна ипотека'] = 'нет'"
   ]
  },
  {
   "cell_type": "code",
   "execution_count": 320,
   "metadata": {},
   "outputs": [
    {
     "data": {
      "text/plain": [
       "Возможна ипотека\n",
       "да     11351\n",
       "нет     1627\n",
       "Name: count, dtype: int64"
      ]
     },
     "execution_count": 320,
     "metadata": {},
     "output_type": "execute_result"
    }
   ],
   "source": [
    "# проверим изменения\n",
    "dataset['Возможна ипотека'].value_counts()"
   ]
  },
  {
   "cell_type": "markdown",
   "metadata": {},
   "source": [
    "### Лифт"
   ]
  },
  {
   "cell_type": "code",
   "execution_count": 321,
   "metadata": {},
   "outputs": [
    {
     "data": {
      "text/plain": [
       "array([nan, 'да'], dtype=object)"
      ]
     },
     "execution_count": 321,
     "metadata": {},
     "output_type": "execute_result"
    }
   ],
   "source": [
    "dataset['Лифт'].unique()"
   ]
  },
  {
   "cell_type": "code",
   "execution_count": 323,
   "metadata": {},
   "outputs": [],
   "source": [
    "# аналогично ипотеке заменим пропуски на 'нет'\n",
    "dataset.loc[dataset[dataset['Лифт'].isna()].index, 'Лифт'] = 'нет'"
   ]
  },
  {
   "cell_type": "code",
   "execution_count": 324,
   "metadata": {},
   "outputs": [
    {
     "data": {
      "text/plain": [
       "Лифт\n",
       "да     9211\n",
       "нет    3767\n",
       "Name: count, dtype: int64"
      ]
     },
     "execution_count": 324,
     "metadata": {},
     "output_type": "execute_result"
    }
   ],
   "source": [
    "# перепроверим\n",
    "dataset['Лифт'].value_counts()"
   ]
  },
  {
   "cell_type": "markdown",
   "metadata": {},
   "source": [
    "### Рейтинг школы"
   ]
  },
  {
   "cell_type": "code",
   "execution_count": 326,
   "metadata": {},
   "outputs": [
    {
     "data": {
      "text/plain": [
       "Рейтинг школы\n",
       "Место в рейтинге №28     903\n",
       "Место в рейтинге №120    753\n",
       "Место в рейтинге №279    599\n",
       "Место в рейтинге №603    418\n",
       "Место в рейтинге №94     317\n",
       "                        ... \n",
       "Место в рейтинге №99       1\n",
       "Место в рейтинге №627      1\n",
       "Место в рейтинге №601      1\n",
       "Место в рейтинге №625      1\n",
       "Место в рейтинге №537      1\n",
       "Name: count, Length: 654, dtype: int64"
      ]
     },
     "execution_count": 326,
     "metadata": {},
     "output_type": "execute_result"
    }
   ],
   "source": [
    "dataset['Рейтинг школы'].value_counts()"
   ]
  },
  {
   "cell_type": "code",
   "execution_count": 327,
   "metadata": {},
   "outputs": [
    {
     "data": {
      "text/plain": [
       "0"
      ]
     },
     "execution_count": 327,
     "metadata": {},
     "output_type": "execute_result"
    }
   ],
   "source": [
    "dataset['Рейтинг школы'].isna().sum()"
   ]
  },
  {
   "cell_type": "markdown",
   "metadata": {},
   "source": [
    "Для преобразования к категориальной шкале вычленим номер в рейтинге"
   ]
  },
  {
   "cell_type": "code",
   "execution_count": 328,
   "metadata": {},
   "outputs": [],
   "source": [
    "dataset['Рейтинг школы'] = dataset['Рейтинг школы'].astype('str').apply(extract_number).astype('int64')"
   ]
  },
  {
   "cell_type": "code",
   "execution_count": 329,
   "metadata": {},
   "outputs": [
    {
     "data": {
      "text/plain": [
       "Рейтинг школы\n",
       "28     903\n",
       "120    753\n",
       "279    599\n",
       "603    418\n",
       "94     317\n",
       "      ... \n",
       "99       1\n",
       "627      1\n",
       "601      1\n",
       "625      1\n",
       "537      1\n",
       "Name: count, Length: 654, dtype: int64"
      ]
     },
     "execution_count": 329,
     "metadata": {},
     "output_type": "execute_result"
    }
   ],
   "source": [
    "# перепроверка\n",
    "dataset['Рейтинг школы'].value_counts()"
   ]
  },
  {
   "cell_type": "code",
   "execution_count": 331,
   "metadata": {},
   "outputs": [
    {
     "data": {
      "text/plain": [
       "0"
      ]
     },
     "execution_count": 331,
     "metadata": {},
     "output_type": "execute_result"
    }
   ],
   "source": [
    "len(dataset[dataset['Рейтинг школы'] <= 0])"
   ]
  },
  {
   "cell_type": "markdown",
   "metadata": {},
   "source": [
    "### Расстояние до метро"
   ]
  },
  {
   "cell_type": "code",
   "execution_count": 332,
   "metadata": {},
   "outputs": [
    {
     "data": {
      "text/plain": [
       "0"
      ]
     },
     "execution_count": 332,
     "metadata": {},
     "output_type": "execute_result"
    }
   ],
   "source": [
    "dataset['Расстояние до метро'].isna().sum()"
   ]
  },
  {
   "cell_type": "code",
   "execution_count": 337,
   "metadata": {},
   "outputs": [
    {
     "data": {
      "text/plain": [
       "Расстояние до метро\n",
       "995 м.                        742\n",
       "37 мин,             7.1 км    733\n",
       "1671 м.                       550\n",
       "2 км                          371\n",
       "36 мин,             8.5 км    365\n",
       "                             ... \n",
       "1079 м.                         1\n",
       "691 м.                          1\n",
       "1689 м.                         1\n",
       "29 мин,             2,4 км      1\n",
       "58 мин,             4,8 км      1\n",
       "Name: count, Length: 1812, dtype: int64"
      ]
     },
     "execution_count": 337,
     "metadata": {},
     "output_type": "execute_result"
    }
   ],
   "source": [
    "dataset['Расстояние до метро'].value_counts()"
   ]
  },
  {
   "cell_type": "code",
   "execution_count": 338,
   "metadata": {},
   "outputs": [],
   "source": [
    "# приводим к метрам\n",
    "to_replace = [r'\\d+\\s*мин,?\\s*', r'\\s*км\\.?', r'\\s*м\\.?'] \n",
    "new_vals = ['', '000', '']\n",
    "\n",
    "dataset['Расстояние до метро, м'] = pd.to_numeric(dataset['Расстояние до метро'].replace(to_replace, new_vals, regex=True), errors='coerce')\n",
    "\n",
    "dataset.drop(columns=['Расстояние до метро'], inplace=True)"
   ]
  },
  {
   "cell_type": "code",
   "execution_count": 339,
   "metadata": {},
   "outputs": [
    {
     "data": {
      "text/plain": [
       "2171"
      ]
     },
     "execution_count": 339,
     "metadata": {},
     "output_type": "execute_result"
    }
   ],
   "source": [
    "# перепроверка\n",
    "dataset['Расстояние до метро, м'].isna().sum()"
   ]
  },
  {
   "cell_type": "code",
   "execution_count": 341,
   "metadata": {},
   "outputs": [
    {
     "data": {
      "text/plain": [
       "2391      989.0\n",
       "12499       7.1\n",
       "10486     570.0\n",
       "1624      704.0\n",
       "10014     150.0\n",
       "8550     1931.0\n",
       "3726        NaN\n",
       "11327    1244.0\n",
       "3297      860.0\n",
       "11961    3000.0\n",
       "Name: Расстояние до метро, м, dtype: float64"
      ]
     },
     "execution_count": 341,
     "metadata": {},
     "output_type": "execute_result"
    }
   ],
   "source": [
    "dataset['Расстояние до метро, м'].sample(10)"
   ]
  },
  {
   "cell_type": "markdown",
   "metadata": {},
   "source": [
    "### Расстояние до ближайшей школы"
   ]
  },
  {
   "cell_type": "code",
   "execution_count": 342,
   "metadata": {},
   "outputs": [
    {
     "data": {
      "text/plain": [
       "0"
      ]
     },
     "execution_count": 342,
     "metadata": {},
     "output_type": "execute_result"
    }
   ],
   "source": [
    "dataset['Расстояние до ближайшей школы'].isna().sum()"
   ]
  },
  {
   "cell_type": "code",
   "execution_count": 343,
   "metadata": {},
   "outputs": [
    {
     "data": {
      "text/plain": [
       "Расстояние до ближайшей школы\n",
       "~ 2.9 км       805\n",
       "~ 1.4 км       609\n",
       "570 м          443\n",
       "~ 2.4 км       366\n",
       "~ 1.2 км       334\n",
       "              ... \n",
       "989 м            1\n",
       "~ 8.5 км         1\n",
       "37 м             1\n",
       "~ 6.7 км         1\n",
       "~ 2142.1 км      1\n",
       "Name: count, Length: 1033, dtype: int64"
      ]
     },
     "execution_count": 343,
     "metadata": {},
     "output_type": "execute_result"
    }
   ],
   "source": [
    "dataset['Расстояние до ближайшей школы'].value_counts()"
   ]
  },
  {
   "cell_type": "code",
   "execution_count": 344,
   "metadata": {},
   "outputs": [],
   "source": [
    "# приводим к метрам\n",
    "to_replace = [r'\\s*км\\.?', r'\\s*м.?']\n",
    "new_vals = ['000', '']\n",
    "\n",
    "dataset['Расстояние до ближайшей школы, м'] = pd.to_numeric(dataset['Расстояние до ближайшей школы'].replace(to_replace, new_vals, regex=True), errors='coerce')\n",
    "\n",
    "dataset.drop(columns=['Расстояние до ближайшей школы'], inplace=True)"
   ]
  },
  {
   "cell_type": "code",
   "execution_count": 345,
   "metadata": {},
   "outputs": [
    {
     "data": {
      "text/plain": [
       "3129"
      ]
     },
     "execution_count": 345,
     "metadata": {},
     "output_type": "execute_result"
    }
   ],
   "source": [
    "# перепроверка\n",
    "dataset['Расстояние до ближайшей школы, м'].isna().sum()"
   ]
  },
  {
   "cell_type": "code",
   "execution_count": 346,
   "metadata": {},
   "outputs": [
    {
     "data": {
      "text/plain": [
       "0        190.0\n",
       "1        776.0\n",
       "2        619.0\n",
       "3        931.0\n",
       "4        754.0\n",
       "         ...  \n",
       "12985      NaN\n",
       "12986      NaN\n",
       "12987      NaN\n",
       "12988      NaN\n",
       "12989      NaN\n",
       "Name: Расстояние до ближайшей школы, м, Length: 12978, dtype: float64"
      ]
     },
     "execution_count": 346,
     "metadata": {},
     "output_type": "execute_result"
    }
   ],
   "source": [
    "dataset['Расстояние до ближайшей школы, м']"
   ]
  }
 ],
 "metadata": {
  "kernelspec": {
   "display_name": "Python 3",
   "language": "python",
   "name": "python3"
  },
  "language_info": {
   "codemirror_mode": {
    "name": "ipython",
    "version": 3
   },
   "file_extension": ".py",
   "mimetype": "text/x-python",
   "name": "python",
   "nbconvert_exporter": "python",
   "pygments_lexer": "ipython3",
   "version": "3.12.8"
  }
 },
 "nbformat": 4,
 "nbformat_minor": 2
}
