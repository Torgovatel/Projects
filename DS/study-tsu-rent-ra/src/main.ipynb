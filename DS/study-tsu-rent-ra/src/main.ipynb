{
 "cells": [
  {
   "cell_type": "code",
   "execution_count": 257,
   "metadata": {},
   "outputs": [],
   "source": [
    "import numpy as np\n",
    "import pandas as pd\n",
    "import matplotlib.pyplot as plt\n",
    "import os\n",
    "import scipy\n",
    "import scipy.stats as stats\n",
    "import seaborn as sns\n",
    "import sklearn.linear_model as lm\n",
    "\n",
    "sns.set_style('darkgrid')\n",
    "sns.set_palette(\"colorblind6\")\n",
    "plt.rcParams['scatter.edgecolors'] = 'none'\n",
    "plt.rcParams['patch.edgecolor'] = 'none'"
   ]
  },
  {
   "cell_type": "markdown",
   "metadata": {},
   "source": [
    "# 1. Преварительный просмотр данных"
   ]
  },
  {
   "cell_type": "code",
   "execution_count": 258,
   "metadata": {},
   "outputs": [],
   "source": [
    "data_path = os.path.join(os.path.abspath(os.path.join(os.getcwd(), os.pardir)), r'dataset/rent.csv')\n",
    "\n",
    "df = pd.read_csv(data_path, sep=';')"
   ]
  },
  {
   "cell_type": "code",
   "execution_count": 259,
   "metadata": {},
   "outputs": [
    {
     "data": {
      "text/html": [
       "<div>\n",
       "<style scoped>\n",
       "    .dataframe tbody tr th:only-of-type {\n",
       "        vertical-align: middle;\n",
       "    }\n",
       "\n",
       "    .dataframe tbody tr th {\n",
       "        vertical-align: top;\n",
       "    }\n",
       "\n",
       "    .dataframe thead th {\n",
       "        text-align: right;\n",
       "    }\n",
       "</style>\n",
       "<table border=\"1\" class=\"dataframe\">\n",
       "  <thead>\n",
       "    <tr style=\"text-align: right;\">\n",
       "      <th></th>\n",
       "      <th>rent</th>\n",
       "      <th>s</th>\n",
       "      <th>floor</th>\n",
       "      <th>rooms</th>\n",
       "      <th>district</th>\n",
       "      <th>walls</th>\n",
       "      <th>furniture</th>\n",
       "    </tr>\n",
       "  </thead>\n",
       "  <tbody>\n",
       "    <tr>\n",
       "      <th>0</th>\n",
       "      <td>15000</td>\n",
       "      <td>35.0</td>\n",
       "      <td>5</td>\n",
       "      <td>1</td>\n",
       "      <td>3</td>\n",
       "      <td>1</td>\n",
       "      <td>1</td>\n",
       "    </tr>\n",
       "    <tr>\n",
       "      <th>1</th>\n",
       "      <td>16500</td>\n",
       "      <td>31.0</td>\n",
       "      <td>2</td>\n",
       "      <td>1</td>\n",
       "      <td>2</td>\n",
       "      <td>0</td>\n",
       "      <td>1</td>\n",
       "    </tr>\n",
       "    <tr>\n",
       "      <th>2</th>\n",
       "      <td>18000</td>\n",
       "      <td>30.0</td>\n",
       "      <td>4</td>\n",
       "      <td>1</td>\n",
       "      <td>3</td>\n",
       "      <td>1</td>\n",
       "      <td>1</td>\n",
       "    </tr>\n",
       "    <tr>\n",
       "      <th>3</th>\n",
       "      <td>30000</td>\n",
       "      <td>55.0</td>\n",
       "      <td>1</td>\n",
       "      <td>2</td>\n",
       "      <td>3</td>\n",
       "      <td>1</td>\n",
       "      <td>1</td>\n",
       "    </tr>\n",
       "    <tr>\n",
       "      <th>4</th>\n",
       "      <td>12000</td>\n",
       "      <td>19.0</td>\n",
       "      <td>3</td>\n",
       "      <td>1</td>\n",
       "      <td>2</td>\n",
       "      <td>1</td>\n",
       "      <td>1</td>\n",
       "    </tr>\n",
       "    <tr>\n",
       "      <th>5</th>\n",
       "      <td>18000</td>\n",
       "      <td>45.0</td>\n",
       "      <td>7</td>\n",
       "      <td>1</td>\n",
       "      <td>2</td>\n",
       "      <td>0</td>\n",
       "      <td>1</td>\n",
       "    </tr>\n",
       "    <tr>\n",
       "      <th>6</th>\n",
       "      <td>22500</td>\n",
       "      <td>65.0</td>\n",
       "      <td>4</td>\n",
       "      <td>2</td>\n",
       "      <td>3</td>\n",
       "      <td>1</td>\n",
       "      <td>1</td>\n",
       "    </tr>\n",
       "    <tr>\n",
       "      <th>7</th>\n",
       "      <td>13500</td>\n",
       "      <td>20.0</td>\n",
       "      <td>2</td>\n",
       "      <td>1</td>\n",
       "      <td>2</td>\n",
       "      <td>0</td>\n",
       "      <td>1</td>\n",
       "    </tr>\n",
       "    <tr>\n",
       "      <th>8</th>\n",
       "      <td>28500</td>\n",
       "      <td>50.0</td>\n",
       "      <td>4</td>\n",
       "      <td>1</td>\n",
       "      <td>1</td>\n",
       "      <td>1</td>\n",
       "      <td>1</td>\n",
       "    </tr>\n",
       "    <tr>\n",
       "      <th>9</th>\n",
       "      <td>11250</td>\n",
       "      <td>15.0</td>\n",
       "      <td>1</td>\n",
       "      <td>1</td>\n",
       "      <td>2</td>\n",
       "      <td>0</td>\n",
       "      <td>1</td>\n",
       "    </tr>\n",
       "  </tbody>\n",
       "</table>\n",
       "</div>"
      ],
      "text/plain": [
       "    rent     s  floor  rooms  district  walls  furniture\n",
       "0  15000  35.0      5      1         3      1          1\n",
       "1  16500  31.0      2      1         2      0          1\n",
       "2  18000  30.0      4      1         3      1          1\n",
       "3  30000  55.0      1      2         3      1          1\n",
       "4  12000  19.0      3      1         2      1          1\n",
       "5  18000  45.0      7      1         2      0          1\n",
       "6  22500  65.0      4      2         3      1          1\n",
       "7  13500  20.0      2      1         2      0          1\n",
       "8  28500  50.0      4      1         1      1          1\n",
       "9  11250  15.0      1      1         2      0          1"
      ]
     },
     "execution_count": 259,
     "metadata": {},
     "output_type": "execute_result"
    }
   ],
   "source": [
    "df.head(10)"
   ]
  },
  {
   "cell_type": "code",
   "execution_count": 260,
   "metadata": {},
   "outputs": [
    {
     "name": "stdout",
     "output_type": "stream",
     "text": [
      "<class 'pandas.core.frame.DataFrame'>\n",
      "RangeIndex: 130 entries, 0 to 129\n",
      "Data columns (total 7 columns):\n",
      " #   Column     Non-Null Count  Dtype  \n",
      "---  ------     --------------  -----  \n",
      " 0   rent       130 non-null    int64  \n",
      " 1   s          130 non-null    float64\n",
      " 2   floor      130 non-null    int64  \n",
      " 3   rooms      130 non-null    int64  \n",
      " 4   district   130 non-null    int64  \n",
      " 5   walls      130 non-null    int64  \n",
      " 6   furniture  130 non-null    int64  \n",
      "dtypes: float64(1), int64(6)\n",
      "memory usage: 7.2 KB\n"
     ]
    }
   ],
   "source": [
    "df.info()"
   ]
  },
  {
   "cell_type": "markdown",
   "metadata": {},
   "source": [
    "Имеем заранее очищенные данные с числовыми признаками"
   ]
  },
  {
   "cell_type": "markdown",
   "metadata": {},
   "source": [
    "# 2. Предварительная обработка данных"
   ]
  },
  {
   "cell_type": "markdown",
   "metadata": {},
   "source": [
    "Проведем визуальный анализ распределений признаков"
   ]
  },
  {
   "cell_type": "code",
   "execution_count": 261,
   "metadata": {},
   "outputs": [
    {
     "data": {
      "image/png": "[encoded data removed]",
      "text/plain": [
       "<Figure size 640x480 with 1 Axes>"
      ]
     },
     "metadata": {},
     "output_type": "display_data"
    }
   ],
   "source": [
    "sns.histplot(df['rent'], bins=8)\n",
    "plt.title('Гистограмма распределения арендной платы')\n",
    "plt.show()"
   ]
  },
  {
   "cell_type": "code",
   "execution_count": 262,
   "metadata": {},
   "outputs": [
    {
     "data": {
      "image/png": "[encoded data removed]",
      "text/plain": [
       "<Figure size 640x480 with 1 Axes>"
      ]
     },
     "metadata": {},
     "output_type": "display_data"
    }
   ],
   "source": [
    "sns.histplot(df['s'], bins=8)\n",
    "plt.title('Гистограмма распределения площадей квартир')\n",
    "plt.show()"
   ]
  },
  {
   "cell_type": "code",
   "execution_count": 263,
   "metadata": {},
   "outputs": [
    {
     "data": {
      "image/png": "[encoded data removed]",
      "text/plain": [
       "<Figure size 640x480 with 1 Axes>"
      ]
     },
     "metadata": {},
     "output_type": "display_data"
    }
   ],
   "source": [
    "floors = df['floor'].value_counts().sort_index()\n",
    "\n",
    "sns.barplot(x=floors.index, y=floors.values)\n",
    "plt.title('Распределение квартир по этажам')\n",
    "plt.show()"
   ]
  },
  {
   "cell_type": "code",
   "execution_count": 264,
   "metadata": {},
   "outputs": [
    {
     "data": {
      "image/png": "[encoded data removed]",
      "text/plain": [
       "<Figure size 640x480 with 1 Axes>"
      ]
     },
     "metadata": {},
     "output_type": "display_data"
    }
   ],
   "source": [
    "rooms = df['rooms'].value_counts().sort_index()\n",
    "\n",
    "plt.pie(x=rooms.values, labels=rooms.index, autopct='%.1f')\n",
    "plt.title('Распределение квартир по числу комнат')\n",
    "plt.show()"
   ]
  },
  {
   "cell_type": "code",
   "execution_count": 265,
   "metadata": {},
   "outputs": [
    {
     "data": {
      "image/png": "[encoded data removed]",
      "text/plain": [
       "<Figure size 640x480 with 1 Axes>"
      ]
     },
     "metadata": {},
     "output_type": "display_data"
    }
   ],
   "source": [
    "walls = df['district'].value_counts().sort_index()\n",
    "\n",
    "plt.pie(x=walls.values, labels=walls.index, autopct='%.1f')\n",
    "plt.title('Распределение квартир по районам')\n",
    "plt.show()"
   ]
  },
  {
   "cell_type": "code",
   "execution_count": 266,
   "metadata": {},
   "outputs": [
    {
     "data": {
      "image/png": "[encoded data removed]",
      "text/plain": [
       "<Figure size 640x480 with 1 Axes>"
      ]
     },
     "metadata": {},
     "output_type": "display_data"
    }
   ],
   "source": [
    "walls = df['walls'].value_counts().sort_index()\n",
    "\n",
    "plt.pie(x=walls.values, labels=walls.index, autopct='%.1f')\n",
    "plt.title('Распределение квартир по типу стен')\n",
    "plt.show()"
   ]
  },
  {
   "cell_type": "code",
   "execution_count": 267,
   "metadata": {},
   "outputs": [
    {
     "data": {
      "image/png": "[encoded data removed]",
      "text/plain": [
       "<Figure size 640x480 with 1 Axes>"
      ]
     },
     "metadata": {},
     "output_type": "display_data"
    }
   ],
   "source": [
    "furnitures = df['furniture'].value_counts().sort_index()\n",
    "\n",
    "plt.pie(x=furnitures.values, labels=furnitures.index, autopct='%.1f')\n",
    "plt.title('Распределение квартир по типу стен')\n",
    "plt.show()"
   ]
  },
  {
   "cell_type": "markdown",
   "metadata": {},
   "source": [
    "## Описательные статистики"
   ]
  },
  {
   "cell_type": "code",
   "execution_count": 268,
   "metadata": {},
   "outputs": [
    {
     "data": {
      "text/html": [
       "<div>\n",
       "<style scoped>\n",
       "    .dataframe tbody tr th:only-of-type {\n",
       "        vertical-align: middle;\n",
       "    }\n",
       "\n",
       "    .dataframe tbody tr th {\n",
       "        vertical-align: top;\n",
       "    }\n",
       "\n",
       "    .dataframe thead th {\n",
       "        text-align: right;\n",
       "    }\n",
       "</style>\n",
       "<table border=\"1\" class=\"dataframe\">\n",
       "  <thead>\n",
       "    <tr style=\"text-align: right;\">\n",
       "      <th></th>\n",
       "      <th>floor</th>\n",
       "      <th>walls</th>\n",
       "      <th>district</th>\n",
       "      <th>s</th>\n",
       "      <th>rent</th>\n",
       "    </tr>\n",
       "  </thead>\n",
       "  <tbody>\n",
       "    <tr>\n",
       "      <th>count</th>\n",
       "      <td>130.000000</td>\n",
       "      <td>130.000000</td>\n",
       "      <td>130.000000</td>\n",
       "      <td>130.000000</td>\n",
       "      <td>130.000000</td>\n",
       "    </tr>\n",
       "    <tr>\n",
       "      <th>mean</th>\n",
       "      <td>4.153846</td>\n",
       "      <td>0.615385</td>\n",
       "      <td>2.076923</td>\n",
       "      <td>36.439231</td>\n",
       "      <td>17890.384615</td>\n",
       "    </tr>\n",
       "    <tr>\n",
       "      <th>std</th>\n",
       "      <td>2.680569</td>\n",
       "      <td>0.488386</td>\n",
       "      <td>0.812837</td>\n",
       "      <td>15.753831</td>\n",
       "      <td>5608.686840</td>\n",
       "    </tr>\n",
       "    <tr>\n",
       "      <th>min</th>\n",
       "      <td>1.000000</td>\n",
       "      <td>0.000000</td>\n",
       "      <td>1.000000</td>\n",
       "      <td>11.000000</td>\n",
       "      <td>9000.000000</td>\n",
       "    </tr>\n",
       "    <tr>\n",
       "      <th>25%</th>\n",
       "      <td>2.000000</td>\n",
       "      <td>0.000000</td>\n",
       "      <td>1.000000</td>\n",
       "      <td>21.250000</td>\n",
       "      <td>13500.000000</td>\n",
       "    </tr>\n",
       "    <tr>\n",
       "      <th>50%</th>\n",
       "      <td>3.000000</td>\n",
       "      <td>1.000000</td>\n",
       "      <td>2.000000</td>\n",
       "      <td>36.000000</td>\n",
       "      <td>18000.000000</td>\n",
       "    </tr>\n",
       "    <tr>\n",
       "      <th>75%</th>\n",
       "      <td>5.000000</td>\n",
       "      <td>1.000000</td>\n",
       "      <td>3.000000</td>\n",
       "      <td>45.000000</td>\n",
       "      <td>21000.000000</td>\n",
       "    </tr>\n",
       "    <tr>\n",
       "      <th>max</th>\n",
       "      <td>12.000000</td>\n",
       "      <td>1.000000</td>\n",
       "      <td>3.000000</td>\n",
       "      <td>70.000000</td>\n",
       "      <td>30000.000000</td>\n",
       "    </tr>\n",
       "  </tbody>\n",
       "</table>\n",
       "</div>"
      ],
      "text/plain": [
       "            floor       walls    district           s          rent\n",
       "count  130.000000  130.000000  130.000000  130.000000    130.000000\n",
       "mean     4.153846    0.615385    2.076923   36.439231  17890.384615\n",
       "std      2.680569    0.488386    0.812837   15.753831   5608.686840\n",
       "min      1.000000    0.000000    1.000000   11.000000   9000.000000\n",
       "25%      2.000000    0.000000    1.000000   21.250000  13500.000000\n",
       "50%      3.000000    1.000000    2.000000   36.000000  18000.000000\n",
       "75%      5.000000    1.000000    3.000000   45.000000  21000.000000\n",
       "max     12.000000    1.000000    3.000000   70.000000  30000.000000"
      ]
     },
     "execution_count": 268,
     "metadata": {},
     "output_type": "execute_result"
    }
   ],
   "source": [
    "df[['floor', 'walls', 'district', 's', 'rent']].describe()"
   ]
  },
  {
   "cell_type": "markdown",
   "metadata": {},
   "source": [
    "Проверим на ассиметрию непрерывные признаки"
   ]
  },
  {
   "cell_type": "code",
   "execution_count": 269,
   "metadata": {},
   "outputs": [
    {
     "data": {
      "text/plain": [
       "rent    0.536873\n",
       "s       0.328439\n",
       "dtype: float64"
      ]
     },
     "execution_count": 269,
     "metadata": {},
     "output_type": "execute_result"
    }
   ],
   "source": [
    "df[['rent', 's']].skew()"
   ]
  },
  {
   "cell_type": "markdown",
   "metadata": {},
   "source": [
    "Имеем небольшие правые хвосты, в целом - почти симметричное распределение"
   ]
  },
  {
   "cell_type": "markdown",
   "metadata": {},
   "source": [
    "Проверим на эксцесс"
   ]
  },
  {
   "cell_type": "code",
   "execution_count": 270,
   "metadata": {},
   "outputs": [
    {
     "data": {
      "text/plain": [
       "rent   -0.350727\n",
       "s      -0.706654\n",
       "dtype: float64"
      ]
     },
     "execution_count": 270,
     "metadata": {},
     "output_type": "execute_result"
    }
   ],
   "source": [
    "df[['rent', 's']].kurtosis()"
   ]
  },
  {
   "cell_type": "markdown",
   "metadata": {},
   "source": [
    "Оба распределения можно считать близкими к нормальному, но более плоскими, особенно что касается площади"
   ]
  },
  {
   "cell_type": "markdown",
   "metadata": {},
   "source": [
    "## Проверка на нормальность"
   ]
  },
  {
   "cell_type": "markdown",
   "metadata": {},
   "source": [
    "Выборка маленькая, поэтому используем критерий Шапиро-Уилка, гипотеза $H_0$ - что распределение нормальное"
   ]
  },
  {
   "cell_type": "code",
   "execution_count": 271,
   "metadata": {},
   "outputs": [
    {
     "name": "stdout",
     "output_type": "stream",
     "text": [
      "Распределение \"rent\" - не нормальное (p_value = 9.6e-05)\n",
      "Распределение \"s\" - не нормальное (p_value = 8.2e-04)\n"
     ]
    }
   ],
   "source": [
    "alpha = 0.05\n",
    "\n",
    "p_val = stats.shapiro(df['rent'])[1]\n",
    "print(f'Распределение \"rent\" - {'' if p_val > alpha else 'не'} нормальное (p_value = {p_val:.1e})')\n",
    "\n",
    "p_val = stats.shapiro(df['s'])[1]\n",
    "print(f'Распределение \"s\" - {'' if p_val > alpha else 'не'} нормальное (p_value = {p_val:.1e})')"
   ]
  },
  {
   "cell_type": "markdown",
   "metadata": {},
   "source": [
    "# 3. Сравнение групп"
   ]
  },
  {
   "cell_type": "markdown",
   "metadata": {},
   "source": [
    "## 3.1. Анализ влияния категориальных признаков на rent"
   ]
  },
  {
   "cell_type": "markdown",
   "metadata": {},
   "source": [
    "### Влияние walls на rent"
   ]
  },
  {
   "cell_type": "code",
   "execution_count": 272,
   "metadata": {},
   "outputs": [
    {
     "data": {
      "text/html": [
       "<div>\n",
       "<style scoped>\n",
       "    .dataframe tbody tr th:only-of-type {\n",
       "        vertical-align: middle;\n",
       "    }\n",
       "\n",
       "    .dataframe tbody tr th {\n",
       "        vertical-align: top;\n",
       "    }\n",
       "\n",
       "    .dataframe thead th {\n",
       "        text-align: right;\n",
       "    }\n",
       "</style>\n",
       "<table border=\"1\" class=\"dataframe\">\n",
       "  <thead>\n",
       "    <tr style=\"text-align: right;\">\n",
       "      <th></th>\n",
       "      <th>rent</th>\n",
       "    </tr>\n",
       "    <tr>\n",
       "      <th>walls</th>\n",
       "      <th></th>\n",
       "    </tr>\n",
       "  </thead>\n",
       "  <tbody>\n",
       "    <tr>\n",
       "      <th>0</th>\n",
       "      <td>17790.000</td>\n",
       "    </tr>\n",
       "    <tr>\n",
       "      <th>1</th>\n",
       "      <td>17953.125</td>\n",
       "    </tr>\n",
       "  </tbody>\n",
       "</table>\n",
       "</div>"
      ],
      "text/plain": [
       "            rent\n",
       "walls           \n",
       "0      17790.000\n",
       "1      17953.125"
      ]
     },
     "execution_count": 272,
     "metadata": {},
     "output_type": "execute_result"
    }
   ],
   "source": [
    "# средняя аренда по типу стен\n",
    "df.groupby('walls')[['rent']].mean()"
   ]
  },
  {
   "cell_type": "code",
   "execution_count": 273,
   "metadata": {},
   "outputs": [
    {
     "name": "stderr",
     "output_type": "stream",
     "text": [
      "C:\\Users\\torgovatel\\AppData\\Local\\Temp\\ipykernel_17700\\3602683539.py:1: FutureWarning: \n",
      "\n",
      "Passing `palette` without assigning `hue` is deprecated and will be removed in v0.14.0. Assign the `x` variable to `hue` and set `legend=False` for the same effect.\n",
      "\n",
      "  sns.boxplot(data=df, x='walls', y='rent', showmeans=True, palette=sns.color_palette('colorblind6', 2))\n"
     ]
    },
    {
     "data": {
      "image/png": "[encoded data removed]",
      "text/plain": [
       "<Figure size 640x480 with 1 Axes>"
      ]
     },
     "metadata": {},
     "output_type": "display_data"
    }
   ],
   "source": [
    "sns.boxplot(data=df, x='walls', y='rent', showmeans=True, palette=sns.color_palette('colorblind6', 2))\n",
    "plt.show()"
   ]
  },
  {
   "cell_type": "markdown",
   "metadata": {},
   "source": [
    "Проверим на нормальность"
   ]
  },
  {
   "cell_type": "code",
   "execution_count": 274,
   "metadata": {},
   "outputs": [
    {
     "name": "stdout",
     "output_type": "stream",
     "text": [
      "Распределение \"rent\" по \"walls == 0\" - не нормальное (p_value = 7.7e-03)\n",
      "Распределение \"rent\" по \"walls == 1\" - не нормальное (p_value = 1.0e-03)\n"
     ]
    }
   ],
   "source": [
    "df_w0 = df[df['walls'] == 0]['rent']\n",
    "df_w1 = df[df['walls'] == 1]['rent']\n",
    "\n",
    "# 0\n",
    "p_val = stats.shapiro(df_w0)[1]\n",
    "print(f'Распределение \"rent\" по \"walls == 0\" - {'' if p_val > alpha else 'не'} нормальное (p_value = {p_val:.1e})')\n",
    "\n",
    "# 1\n",
    "p_val = stats.shapiro(df_w1)[1]\n",
    "print(f'Распределение \"rent\" по \"walls == 1\" - {'' if p_val > alpha else 'не'} нормальное (p_value = {p_val:.1e})')"
   ]
  },
  {
   "cell_type": "markdown",
   "metadata": {},
   "source": [
    "Проверим на схожесть распределений"
   ]
  },
  {
   "cell_type": "code",
   "execution_count": 275,
   "metadata": {},
   "outputs": [
    {
     "name": "stdout",
     "output_type": "stream",
     "text": [
      "Распределения \"rent\" по вариациям \"walls\" -  схожи (p_value = 0.8)\n"
     ]
    }
   ],
   "source": [
    "p_val = scipy.stats.mannwhitneyu(df_w0, df_w1)[1]\n",
    "print(f'Распределения \"rent\" по вариациям \"walls\" - {'' if p_val > alpha else 'не'} схожи (p_value = {p_val:.1f})')"
   ]
  },
  {
   "cell_type": "markdown",
   "metadata": {},
   "source": [
    "### Влияние furniture на rent"
   ]
  },
  {
   "cell_type": "code",
   "execution_count": 276,
   "metadata": {},
   "outputs": [
    {
     "data": {
      "text/html": [
       "<div>\n",
       "<style scoped>\n",
       "    .dataframe tbody tr th:only-of-type {\n",
       "        vertical-align: middle;\n",
       "    }\n",
       "\n",
       "    .dataframe tbody tr th {\n",
       "        vertical-align: top;\n",
       "    }\n",
       "\n",
       "    .dataframe thead th {\n",
       "        text-align: right;\n",
       "    }\n",
       "</style>\n",
       "<table border=\"1\" class=\"dataframe\">\n",
       "  <thead>\n",
       "    <tr style=\"text-align: right;\">\n",
       "      <th></th>\n",
       "      <th>rent</th>\n",
       "    </tr>\n",
       "    <tr>\n",
       "      <th>furniture</th>\n",
       "      <th></th>\n",
       "    </tr>\n",
       "  </thead>\n",
       "  <tbody>\n",
       "    <tr>\n",
       "      <th>0</th>\n",
       "      <td>12535.714286</td>\n",
       "    </tr>\n",
       "    <tr>\n",
       "      <th>1</th>\n",
       "      <td>18922.018349</td>\n",
       "    </tr>\n",
       "  </tbody>\n",
       "</table>\n",
       "</div>"
      ],
      "text/plain": [
       "                   rent\n",
       "furniture              \n",
       "0          12535.714286\n",
       "1          18922.018349"
      ]
     },
     "execution_count": 276,
     "metadata": {},
     "output_type": "execute_result"
    }
   ],
   "source": [
    "# средняя аренда по наличию мебели\n",
    "df.groupby('furniture')[['rent']].mean()"
   ]
  },
  {
   "cell_type": "code",
   "execution_count": 277,
   "metadata": {},
   "outputs": [
    {
     "name": "stderr",
     "output_type": "stream",
     "text": [
      "C:\\Users\\torgovatel\\AppData\\Local\\Temp\\ipykernel_17700\\1900939230.py:1: FutureWarning: \n",
      "\n",
      "Passing `palette` without assigning `hue` is deprecated and will be removed in v0.14.0. Assign the `x` variable to `hue` and set `legend=False` for the same effect.\n",
      "\n",
      "  sns.boxplot(data=df, x='furniture', y='rent', showmeans=True, palette=sns.color_palette('colorblind6', 2))\n"
     ]
    },
    {
     "data": {
      "image/png": "[encoded data removed]",
      "text/plain": [
       "<Figure size 640x480 with 1 Axes>"
      ]
     },
     "metadata": {},
     "output_type": "display_data"
    }
   ],
   "source": [
    "sns.boxplot(data=df, x='furniture', y='rent', showmeans=True, palette=sns.color_palette('colorblind6', 2))\n",
    "plt.show()"
   ]
  },
  {
   "cell_type": "markdown",
   "metadata": {},
   "source": [
    "Проверим нормальность"
   ]
  },
  {
   "cell_type": "code",
   "execution_count": 278,
   "metadata": {},
   "outputs": [
    {
     "name": "stdout",
     "output_type": "stream",
     "text": [
      "Распределение \"rent\" по \"furniture == 0\" - не нормальное (p_value = 1.9e-02)\n",
      "Распределение \"rent\" по \"furniture == 1\" - не нормальное (p_value = 1.5e-03)\n"
     ]
    }
   ],
   "source": [
    "df_f0 = df[df['furniture'] == 0]['rent']\n",
    "df_f1 = df[df['furniture'] == 1]['rent']\n",
    "\n",
    "# 0\n",
    "p_val = stats.shapiro(df_f0)[1]\n",
    "print(f'Распределение \"rent\" по \"furniture == 0\" - {'' if p_val > alpha else 'не'} нормальное (p_value = {p_val:.1e})')\n",
    "\n",
    "# 1\n",
    "p_val = stats.shapiro(df_f1)[1]\n",
    "print(f'Распределение \"rent\" по \"furniture == 1\" - {'' if p_val > alpha else 'не'} нормальное (p_value = {p_val:.1e})')"
   ]
  },
  {
   "cell_type": "markdown",
   "metadata": {},
   "source": [
    "Проверим на схожесть распределений"
   ]
  },
  {
   "cell_type": "code",
   "execution_count": 279,
   "metadata": {},
   "outputs": [
    {
     "name": "stdout",
     "output_type": "stream",
     "text": [
      "Распределения \"rent\" по вариациям \"furniture\" - не схожи (p_value = 2.0e-07)\n"
     ]
    }
   ],
   "source": [
    "p_val = scipy.stats.mannwhitneyu(df_f0, df_f1)[1]\n",
    "print(f'Распределения \"rent\" по вариациям \"furniture\" - {'' if p_val > alpha else 'не'} схожи (p_value = {p_val:.1e})')"
   ]
  },
  {
   "cell_type": "markdown",
   "metadata": {},
   "source": [
    "### Влияние district на rent"
   ]
  },
  {
   "cell_type": "code",
   "execution_count": 280,
   "metadata": {},
   "outputs": [
    {
     "data": {
      "text/html": [
       "<div>\n",
       "<style scoped>\n",
       "    .dataframe tbody tr th:only-of-type {\n",
       "        vertical-align: middle;\n",
       "    }\n",
       "\n",
       "    .dataframe tbody tr th {\n",
       "        vertical-align: top;\n",
       "    }\n",
       "\n",
       "    .dataframe thead th {\n",
       "        text-align: right;\n",
       "    }\n",
       "</style>\n",
       "<table border=\"1\" class=\"dataframe\">\n",
       "  <thead>\n",
       "    <tr style=\"text-align: right;\">\n",
       "      <th></th>\n",
       "      <th>rent</th>\n",
       "    </tr>\n",
       "    <tr>\n",
       "      <th>district</th>\n",
       "      <th></th>\n",
       "    </tr>\n",
       "  </thead>\n",
       "  <tbody>\n",
       "    <tr>\n",
       "      <th>1</th>\n",
       "      <td>19894.736842</td>\n",
       "    </tr>\n",
       "    <tr>\n",
       "      <th>2</th>\n",
       "      <td>15375.000000</td>\n",
       "    </tr>\n",
       "    <tr>\n",
       "      <th>3</th>\n",
       "      <td>18609.375000</td>\n",
       "    </tr>\n",
       "  </tbody>\n",
       "</table>\n",
       "</div>"
      ],
      "text/plain": [
       "                  rent\n",
       "district              \n",
       "1         19894.736842\n",
       "2         15375.000000\n",
       "3         18609.375000"
      ]
     },
     "execution_count": 280,
     "metadata": {},
     "output_type": "execute_result"
    }
   ],
   "source": [
    "# средняя аренда по району\n",
    "df.groupby('district')[['rent']].mean()"
   ]
  },
  {
   "cell_type": "code",
   "execution_count": 281,
   "metadata": {},
   "outputs": [
    {
     "data": {
      "text/plain": [
       "district\n",
       "3    48\n",
       "2    44\n",
       "1    38\n",
       "Name: count, dtype: int64"
      ]
     },
     "execution_count": 281,
     "metadata": {},
     "output_type": "execute_result"
    }
   ],
   "source": [
    "df['district'].value_counts()"
   ]
  },
  {
   "cell_type": "code",
   "execution_count": 282,
   "metadata": {},
   "outputs": [
    {
     "name": "stderr",
     "output_type": "stream",
     "text": [
      "C:\\Users\\torgovatel\\AppData\\Local\\Temp\\ipykernel_17700\\3231177756.py:1: FutureWarning: \n",
      "\n",
      "Passing `palette` without assigning `hue` is deprecated and will be removed in v0.14.0. Assign the `x` variable to `hue` and set `legend=False` for the same effect.\n",
      "\n",
      "  sns.boxplot(data=df, x='district', y='rent', showmeans=True, palette=sns.color_palette('colorblind6', 3))\n"
     ]
    },
    {
     "data": {
      "image/png": "[encoded data removed]",
      "text/plain": [
       "<Figure size 640x480 with 1 Axes>"
      ]
     },
     "metadata": {},
     "output_type": "display_data"
    }
   ],
   "source": [
    "sns.boxplot(data=df, x='district', y='rent', showmeans=True, palette=sns.color_palette('colorblind6', 3))\n",
    "plt.show()"
   ]
  },
  {
   "cell_type": "markdown",
   "metadata": {},
   "source": [
    "Обработаем выброс"
   ]
  },
  {
   "cell_type": "code",
   "execution_count": 283,
   "metadata": {},
   "outputs": [
    {
     "data": {
      "text/html": [
       "<div>\n",
       "<style scoped>\n",
       "    .dataframe tbody tr th:only-of-type {\n",
       "        vertical-align: middle;\n",
       "    }\n",
       "\n",
       "    .dataframe tbody tr th {\n",
       "        vertical-align: top;\n",
       "    }\n",
       "\n",
       "    .dataframe thead th {\n",
       "        text-align: right;\n",
       "    }\n",
       "</style>\n",
       "<table border=\"1\" class=\"dataframe\">\n",
       "  <thead>\n",
       "    <tr style=\"text-align: right;\">\n",
       "      <th></th>\n",
       "      <th>rent</th>\n",
       "      <th>s</th>\n",
       "      <th>floor</th>\n",
       "      <th>rooms</th>\n",
       "      <th>district</th>\n",
       "      <th>walls</th>\n",
       "      <th>furniture</th>\n",
       "    </tr>\n",
       "  </thead>\n",
       "  <tbody>\n",
       "    <tr>\n",
       "      <th>37</th>\n",
       "      <td>30000</td>\n",
       "      <td>64.0</td>\n",
       "      <td>3</td>\n",
       "      <td>3</td>\n",
       "      <td>2</td>\n",
       "      <td>0</td>\n",
       "      <td>1</td>\n",
       "    </tr>\n",
       "  </tbody>\n",
       "</table>\n",
       "</div>"
      ],
      "text/plain": [
       "     rent     s  floor  rooms  district  walls  furniture\n",
       "37  30000  64.0      3      3         2      0          1"
      ]
     },
     "execution_count": 283,
     "metadata": {},
     "output_type": "execute_result"
    }
   ],
   "source": [
    "df.loc[(df['rent'] > 25000) & (df['district'] == 2)]"
   ]
  },
  {
   "cell_type": "code",
   "execution_count": 284,
   "metadata": {},
   "outputs": [],
   "source": [
    "df=df.drop(df.index[[37]])\n",
    "df.reset_index(inplace=True)"
   ]
  },
  {
   "cell_type": "markdown",
   "metadata": {},
   "source": [
    "Проверим на нормальность"
   ]
  },
  {
   "cell_type": "code",
   "execution_count": 285,
   "metadata": {},
   "outputs": [
    {
     "name": "stdout",
     "output_type": "stream",
     "text": [
      "Распределение \"rent\" по \"district == 1\" -  нормальное (p_value = 0.3939)\n",
      "Распределение \"rent\" по \"district == 2\" - не нормальное (p_value = 0.0152)\n",
      "Распределение \"rent\" по \"district == 3\" - не нормальное (p_value = 0.0335)\n"
     ]
    }
   ],
   "source": [
    "df_d1 = np.array(df[df['district'] == 1]['rent'])\n",
    "df_d2 = np.array(df[df['district'] == 2]['rent'])\n",
    "df_d3 = np.array(df[df['district'] == 3]['rent'])\n",
    "\n",
    "# 1\n",
    "p_val = stats.shapiro(df_d1)[1]\n",
    "print(f'Распределение \"rent\" по \"district == 1\" - {'' if p_val > alpha else 'не'} нормальное (p_value = {p_val:.4f})')\n",
    "\n",
    "# 2\n",
    "p_val = stats.shapiro(df_d2)[1]\n",
    "print(f'Распределение \"rent\" по \"district == 2\" - {'' if p_val > alpha else 'не'} нормальное (p_value = {p_val:.4f})')\n",
    "\n",
    "# 3\n",
    "p_val = stats.shapiro(df_d3)[1]\n",
    "print(f'Распределение \"rent\" по \"district == 3\" - {'' if p_val > alpha else 'не'} нормальное (p_value = {p_val:.4f})')"
   ]
  },
  {
   "cell_type": "markdown",
   "metadata": {},
   "source": [
    "Пусть одно распределение нормальное, одно близко к нему а одно явно не нормальное, будем считать что в совокупности они не являются нормальными"
   ]
  },
  {
   "cell_type": "markdown",
   "metadata": {},
   "source": [
    "Проверим схожесть медиан данных совокупностей по критерию Краскала-Уоллиса"
   ]
  },
  {
   "cell_type": "code",
   "execution_count": 286,
   "metadata": {},
   "outputs": [
    {
     "name": "stdout",
     "output_type": "stream",
     "text": [
      "Медианы распределения \"rent\" по вариациям \"district\" - не схожи (p_value = 2.6e-04)\n"
     ]
    }
   ],
   "source": [
    "p_val = stats.mstats.kruskalwallis(df_d1, df_d2, df_d3)[1]\n",
    "print(f'Медианы распределения \"rent\" по вариациям \"district\" - {'' if p_val > alpha else 'не'} схожи (p_value = {p_val:.1e})')"
   ]
  },
  {
   "cell_type": "markdown",
   "metadata": {},
   "source": [
    "## 3.2. Анализ влияния категориальных признаков на s"
   ]
  },
  {
   "cell_type": "markdown",
   "metadata": {},
   "source": [
    "### Влияние walls на s"
   ]
  },
  {
   "cell_type": "code",
   "execution_count": 287,
   "metadata": {},
   "outputs": [
    {
     "data": {
      "text/html": [
       "<div>\n",
       "<style scoped>\n",
       "    .dataframe tbody tr th:only-of-type {\n",
       "        vertical-align: middle;\n",
       "    }\n",
       "\n",
       "    .dataframe tbody tr th {\n",
       "        vertical-align: top;\n",
       "    }\n",
       "\n",
       "    .dataframe thead th {\n",
       "        text-align: right;\n",
       "    }\n",
       "</style>\n",
       "<table border=\"1\" class=\"dataframe\">\n",
       "  <thead>\n",
       "    <tr style=\"text-align: right;\">\n",
       "      <th></th>\n",
       "      <th>s</th>\n",
       "    </tr>\n",
       "    <tr>\n",
       "      <th>walls</th>\n",
       "      <th></th>\n",
       "    </tr>\n",
       "  </thead>\n",
       "  <tbody>\n",
       "    <tr>\n",
       "      <th>0</th>\n",
       "      <td>39.042857</td>\n",
       "    </tr>\n",
       "    <tr>\n",
       "      <th>1</th>\n",
       "      <td>34.500000</td>\n",
       "    </tr>\n",
       "  </tbody>\n",
       "</table>\n",
       "</div>"
      ],
      "text/plain": [
       "               s\n",
       "walls           \n",
       "0      39.042857\n",
       "1      34.500000"
      ]
     },
     "execution_count": 287,
     "metadata": {},
     "output_type": "execute_result"
    }
   ],
   "source": [
    "# средняя площадь по типу стен\n",
    "df.groupby('walls')[['s']].mean()"
   ]
  },
  {
   "cell_type": "code",
   "execution_count": 288,
   "metadata": {},
   "outputs": [
    {
     "name": "stderr",
     "output_type": "stream",
     "text": [
      "C:\\Users\\torgovatel\\AppData\\Local\\Temp\\ipykernel_17700\\359022190.py:1: FutureWarning: \n",
      "\n",
      "Passing `palette` without assigning `hue` is deprecated and will be removed in v0.14.0. Assign the `x` variable to `hue` and set `legend=False` for the same effect.\n",
      "\n",
      "  sns.boxplot(data=df, x='walls', y='s', showmeans=True, palette=sns.color_palette('colorblind6', 2))\n"
     ]
    },
    {
     "data": {
      "image/png": "[encoded data removed]",
      "text/plain": [
       "<Figure size 640x480 with 1 Axes>"
      ]
     },
     "metadata": {},
     "output_type": "display_data"
    }
   ],
   "source": [
    "sns.boxplot(data=df, x='walls', y='s', showmeans=True, palette=sns.color_palette('colorblind6', 2))\n",
    "plt.show()"
   ]
  },
  {
   "cell_type": "markdown",
   "metadata": {},
   "source": [
    "Проверим на нормальность"
   ]
  },
  {
   "cell_type": "code",
   "execution_count": 289,
   "metadata": {},
   "outputs": [
    {
     "name": "stdout",
     "output_type": "stream",
     "text": [
      "Распределение \"s\" по \"walls == 0\" -  нормальное (p_value = 0.129)\n",
      "Распределение \"s\" по \"walls == 1\" - не нормальное (p_value = 0.003)\n"
     ]
    }
   ],
   "source": [
    "df_w0 = df[df['walls'] == 0]['s']\n",
    "df_w1 = df[df['walls'] == 1]['s']\n",
    "\n",
    "# 0\n",
    "p_val = stats.shapiro(df_w0)[1]\n",
    "print(f'Распределение \"s\" по \"walls == 0\" - {'' if p_val > alpha else 'не'} нормальное (p_value = {p_val:.3f})')\n",
    "\n",
    "# 1\n",
    "p_val = stats.shapiro(df_w1)[1]\n",
    "print(f'Распределение \"s\" по \"walls == 1\" - {'' if p_val > alpha else 'не'} нормальное (p_value = {p_val:.3f})')"
   ]
  },
  {
   "cell_type": "markdown",
   "metadata": {},
   "source": [
    "Проверим на схожесть распределений"
   ]
  },
  {
   "cell_type": "code",
   "execution_count": 290,
   "metadata": {},
   "outputs": [
    {
     "name": "stdout",
     "output_type": "stream",
     "text": [
      "Распределения \"s\" по вариациям \"walls\" -  схожи (p_value = 0.1)\n"
     ]
    }
   ],
   "source": [
    "p_val = scipy.stats.mannwhitneyu(df_w0, df_w1)[1]\n",
    "print(f'Распределения \"s\" по вариациям \"walls\" - {'' if p_val > alpha else 'не'} схожи (p_value = {p_val:.1f})')"
   ]
  },
  {
   "cell_type": "markdown",
   "metadata": {},
   "source": [
    "### Влияние furniture на s"
   ]
  },
  {
   "cell_type": "code",
   "execution_count": 291,
   "metadata": {},
   "outputs": [
    {
     "data": {
      "text/html": [
       "<div>\n",
       "<style scoped>\n",
       "    .dataframe tbody tr th:only-of-type {\n",
       "        vertical-align: middle;\n",
       "    }\n",
       "\n",
       "    .dataframe tbody tr th {\n",
       "        vertical-align: top;\n",
       "    }\n",
       "\n",
       "    .dataframe thead th {\n",
       "        text-align: right;\n",
       "    }\n",
       "</style>\n",
       "<table border=\"1\" class=\"dataframe\">\n",
       "  <thead>\n",
       "    <tr style=\"text-align: right;\">\n",
       "      <th></th>\n",
       "      <th>s</th>\n",
       "    </tr>\n",
       "    <tr>\n",
       "      <th>furniture</th>\n",
       "      <th></th>\n",
       "    </tr>\n",
       "  </thead>\n",
       "  <tbody>\n",
       "    <tr>\n",
       "      <th>0</th>\n",
       "      <td>21.904762</td>\n",
       "    </tr>\n",
       "    <tr>\n",
       "      <th>1</th>\n",
       "      <td>39.010185</td>\n",
       "    </tr>\n",
       "  </tbody>\n",
       "</table>\n",
       "</div>"
      ],
      "text/plain": [
       "                   s\n",
       "furniture           \n",
       "0          21.904762\n",
       "1          39.010185"
      ]
     },
     "execution_count": 291,
     "metadata": {},
     "output_type": "execute_result"
    }
   ],
   "source": [
    "# средняя площадь по наличию мебели\n",
    "df.groupby('furniture')[['s']].mean()"
   ]
  },
  {
   "cell_type": "code",
   "execution_count": 292,
   "metadata": {},
   "outputs": [
    {
     "name": "stderr",
     "output_type": "stream",
     "text": [
      "C:\\Users\\torgovatel\\AppData\\Local\\Temp\\ipykernel_17700\\1368781031.py:1: FutureWarning: \n",
      "\n",
      "Passing `palette` without assigning `hue` is deprecated and will be removed in v0.14.0. Assign the `x` variable to `hue` and set `legend=False` for the same effect.\n",
      "\n",
      "  sns.boxplot(data=df, x='furniture', y='s', showmeans=True, palette=sns.color_palette('colorblind6', 2))\n"
     ]
    },
    {
     "data": {
      "image/png": "[encoded data removed]",
      "text/plain": [
       "<Figure size 640x480 with 1 Axes>"
      ]
     },
     "metadata": {},
     "output_type": "display_data"
    }
   ],
   "source": [
    "sns.boxplot(data=df, x='furniture', y='s', showmeans=True, palette=sns.color_palette('colorblind6', 2))\n",
    "plt.show()"
   ]
  },
  {
   "cell_type": "markdown",
   "metadata": {},
   "source": [
    "Проверим нормальность"
   ]
  },
  {
   "cell_type": "code",
   "execution_count": 293,
   "metadata": {},
   "outputs": [
    {
     "name": "stdout",
     "output_type": "stream",
     "text": [
      "Распределение \"s\" по \"furniture == 0\" - не нормальное (p_value = 0.010)\n",
      "Распределение \"s\" по \"furniture == 1\" - не нормальное (p_value = 0.028)\n"
     ]
    }
   ],
   "source": [
    "df_f0 = df[df['furniture'] == 0]['s']\n",
    "df_f1 = df[df['furniture'] == 1]['s']\n",
    "\n",
    "# 0\n",
    "p_val = stats.shapiro(df_f0)[1]\n",
    "print(f'Распределение \"s\" по \"furniture == 0\" - {'' if p_val > alpha else 'не'} нормальное (p_value = {p_val:.3f})')\n",
    "\n",
    "# 1\n",
    "p_val = stats.shapiro(df_f1)[1]\n",
    "print(f'Распределение \"s\" по \"furniture == 1\" - {'' if p_val > alpha else 'не'} нормальное (p_value = {p_val:.3f})')"
   ]
  },
  {
   "cell_type": "markdown",
   "metadata": {},
   "source": [
    "Проверим на схожесть распределений"
   ]
  },
  {
   "cell_type": "code",
   "execution_count": 294,
   "metadata": {},
   "outputs": [
    {
     "name": "stdout",
     "output_type": "stream",
     "text": [
      "Распределения \"s\" по вариациям \"furniture\" - не схожи (p_value = 3.6e-06)\n"
     ]
    }
   ],
   "source": [
    "p_val = scipy.stats.mannwhitneyu(df_f0, df_f1)[1]\n",
    "print(f'Распределения \"s\" по вариациям \"furniture\" - {'' if p_val > alpha else 'не'} схожи (p_value = {p_val:.1e})')"
   ]
  },
  {
   "cell_type": "markdown",
   "metadata": {},
   "source": [
    "### Влияние district на rent"
   ]
  },
  {
   "cell_type": "code",
   "execution_count": 295,
   "metadata": {},
   "outputs": [
    {
     "data": {
      "text/html": [
       "<div>\n",
       "<style scoped>\n",
       "    .dataframe tbody tr th:only-of-type {\n",
       "        vertical-align: middle;\n",
       "    }\n",
       "\n",
       "    .dataframe tbody tr th {\n",
       "        vertical-align: top;\n",
       "    }\n",
       "\n",
       "    .dataframe thead th {\n",
       "        text-align: right;\n",
       "    }\n",
       "</style>\n",
       "<table border=\"1\" class=\"dataframe\">\n",
       "  <thead>\n",
       "    <tr style=\"text-align: right;\">\n",
       "      <th></th>\n",
       "      <th>s</th>\n",
       "    </tr>\n",
       "    <tr>\n",
       "      <th>district</th>\n",
       "      <th></th>\n",
       "    </tr>\n",
       "  </thead>\n",
       "  <tbody>\n",
       "    <tr>\n",
       "      <th>1</th>\n",
       "      <td>37.078947</td>\n",
       "    </tr>\n",
       "    <tr>\n",
       "      <th>2</th>\n",
       "      <td>32.711628</td>\n",
       "    </tr>\n",
       "    <tr>\n",
       "      <th>3</th>\n",
       "      <td>38.697917</td>\n",
       "    </tr>\n",
       "  </tbody>\n",
       "</table>\n",
       "</div>"
      ],
      "text/plain": [
       "                  s\n",
       "district           \n",
       "1         37.078947\n",
       "2         32.711628\n",
       "3         38.697917"
      ]
     },
     "execution_count": 295,
     "metadata": {},
     "output_type": "execute_result"
    }
   ],
   "source": [
    "# средняя площадь по району\n",
    "df.groupby('district')[['s']].mean()"
   ]
  },
  {
   "cell_type": "code",
   "execution_count": 296,
   "metadata": {},
   "outputs": [
    {
     "data": {
      "text/plain": [
       "district\n",
       "3    48\n",
       "2    43\n",
       "1    38\n",
       "Name: count, dtype: int64"
      ]
     },
     "execution_count": 296,
     "metadata": {},
     "output_type": "execute_result"
    }
   ],
   "source": [
    "df['district'].value_counts()"
   ]
  },
  {
   "cell_type": "code",
   "execution_count": 297,
   "metadata": {},
   "outputs": [
    {
     "name": "stderr",
     "output_type": "stream",
     "text": [
      "C:\\Users\\torgovatel\\AppData\\Local\\Temp\\ipykernel_17700\\1578706151.py:1: FutureWarning: \n",
      "\n",
      "Passing `palette` without assigning `hue` is deprecated and will be removed in v0.14.0. Assign the `x` variable to `hue` and set `legend=False` for the same effect.\n",
      "\n",
      "  sns.boxplot(data=df, x='district', y='s', showmeans=True, palette=sns.color_palette('colorblind6', 3))\n"
     ]
    },
    {
     "data": {
      "image/png": "[encoded data removed]",
      "text/plain": [
       "<Figure size 640x480 with 1 Axes>"
      ]
     },
     "metadata": {},
     "output_type": "display_data"
    }
   ],
   "source": [
    "sns.boxplot(data=df, x='district', y='s', showmeans=True, palette=sns.color_palette('colorblind6', 3))\n",
    "plt.show()"
   ]
  },
  {
   "cell_type": "markdown",
   "metadata": {},
   "source": [
    "Обработаем выброс"
   ]
  },
  {
   "cell_type": "code",
   "execution_count": 298,
   "metadata": {},
   "outputs": [
    {
     "data": {
      "text/html": [
       "<div>\n",
       "<style scoped>\n",
       "    .dataframe tbody tr th:only-of-type {\n",
       "        vertical-align: middle;\n",
       "    }\n",
       "\n",
       "    .dataframe tbody tr th {\n",
       "        vertical-align: top;\n",
       "    }\n",
       "\n",
       "    .dataframe thead th {\n",
       "        text-align: right;\n",
       "    }\n",
       "</style>\n",
       "<table border=\"1\" class=\"dataframe\">\n",
       "  <thead>\n",
       "    <tr style=\"text-align: right;\">\n",
       "      <th></th>\n",
       "      <th>index</th>\n",
       "      <th>rent</th>\n",
       "      <th>s</th>\n",
       "      <th>floor</th>\n",
       "      <th>rooms</th>\n",
       "      <th>district</th>\n",
       "      <th>walls</th>\n",
       "      <th>furniture</th>\n",
       "    </tr>\n",
       "  </thead>\n",
       "  <tbody>\n",
       "    <tr>\n",
       "      <th>66</th>\n",
       "      <td>67</td>\n",
       "      <td>28500</td>\n",
       "      <td>70.0</td>\n",
       "      <td>9</td>\n",
       "      <td>3</td>\n",
       "      <td>1</td>\n",
       "      <td>1</td>\n",
       "      <td>1</td>\n",
       "    </tr>\n",
       "  </tbody>\n",
       "</table>\n",
       "</div>"
      ],
      "text/plain": [
       "    index   rent     s  floor  rooms  district  walls  furniture\n",
       "66     67  28500  70.0      9      3         1      1          1"
      ]
     },
     "execution_count": 298,
     "metadata": {},
     "output_type": "execute_result"
    }
   ],
   "source": [
    "df.loc[(df['s'] >= 70) & (df['district'] == 1)]"
   ]
  },
  {
   "cell_type": "code",
   "execution_count": 299,
   "metadata": {},
   "outputs": [],
   "source": [
    "df=df.drop(df.index[[66]])\n",
    "df.reset_index(inplace=True)"
   ]
  },
  {
   "cell_type": "markdown",
   "metadata": {},
   "source": [
    "Проверим на нормальность"
   ]
  },
  {
   "cell_type": "code",
   "execution_count": 300,
   "metadata": {},
   "outputs": [
    {
     "name": "stdout",
     "output_type": "stream",
     "text": [
      "Распределение \"s\" по \"district == 1\" -  нормальное (p_value = 0.5862)\n",
      "Распределение \"s\" по \"district == 2\" - не нормальное (p_value = 0.0047)\n",
      "Распределение \"s\" по \"district == 3\" -  нормальное (p_value = 0.1030)\n"
     ]
    }
   ],
   "source": [
    "df_d1 = np.array(df[df['district'] == 1]['s'])\n",
    "df_d2 = np.array(df[df['district'] == 2]['s'])\n",
    "df_d3 = np.array(df[df['district'] == 3]['s'])\n",
    "\n",
    "# 1\n",
    "p_val = stats.shapiro(df_d1)[1]\n",
    "print(f'Распределение \"s\" по \"district == 1\" - {'' if p_val > alpha else 'не'} нормальное (p_value = {p_val:.4f})')\n",
    "\n",
    "# 2\n",
    "p_val = stats.shapiro(df_d2)[1]\n",
    "print(f'Распределение \"s\" по \"district == 2\" - {'' if p_val > alpha else 'не'} нормальное (p_value = {p_val:.4f})')\n",
    "\n",
    "# 3\n",
    "p_val = stats.shapiro(df_d3)[1]\n",
    "print(f'Распределение \"s\" по \"district == 3\" - {'' if p_val > alpha else 'не'} нормальное (p_value = {p_val:.4f})')"
   ]
  },
  {
   "cell_type": "markdown",
   "metadata": {},
   "source": [
    "Имеем два нормальных распределения и одно явно не нормальное, что в совокупности следует воспринимать как не нормальное распределение"
   ]
  },
  {
   "cell_type": "markdown",
   "metadata": {},
   "source": [
    "Проверим схожесть медиан данных совокупностей по критерию Краскала-Уоллиса"
   ]
  },
  {
   "cell_type": "code",
   "execution_count": 302,
   "metadata": {},
   "outputs": [
    {
     "name": "stdout",
     "output_type": "stream",
     "text": [
      "Медианы распределения \"s\" по вариациям \"district\" -  схожи (p_value = 1.9e-01)\n"
     ]
    }
   ],
   "source": [
    "p_val = stats.mstats.kruskalwallis(df_d1, df_d2, df_d3)[1]\n",
    "print(f'Медианы распределения \"s\" по вариациям \"district\" - {'' if p_val > alpha else 'не'} схожи (p_value = {p_val:.1e})')"
   ]
  }
 ],
 "metadata": {
  "kernelspec": {
   "display_name": "Python 3",
   "language": "python",
   "name": "python3"
  },
  "language_info": {
   "codemirror_mode": {
    "name": "ipython",
    "version": 3
   },
   "file_extension": ".py",
   "mimetype": "text/x-python",
   "name": "python",
   "nbconvert_exporter": "python",
   "pygments_lexer": "ipython3",
   "version": "3.12.8"
  }
 },
 "nbformat": 4,
 "nbformat_minor": 2
}
