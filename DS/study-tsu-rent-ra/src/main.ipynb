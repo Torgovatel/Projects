{
 "cells": [
  {
   "cell_type": "code",
   "execution_count": 445,
   "metadata": {},
   "outputs": [],
   "source": [
    "import numpy as np\n",
    "import pandas as pd\n",
    "import matplotlib.pyplot as plt\n",
    "import os\n",
    "import scipy\n",
    "import scipy.stats as stats\n",
    "import seaborn as sns\n",
    "import sklearn.linear_model as lm\n",
    "\n",
    "sns.set_style('darkgrid')\n",
    "sns.set_palette(\"colorblind6\")\n",
    "plt.rcParams['scatter.edgecolors'] = 'none'\n",
    "plt.rcParams['patch.edgecolor'] = 'none'"
   ]
  },
  {
   "cell_type": "markdown",
   "metadata": {},
   "source": [
    "# 1. Преварительный просмотр данных"
   ]
  },
  {
   "cell_type": "code",
   "execution_count": 446,
   "metadata": {},
   "outputs": [],
   "source": [
    "data_path = os.path.join(os.path.abspath(os.path.join(os.getcwd(), os.pardir)), r'dataset/rent.csv')\n",
    "\n",
    "df = pd.read_csv(data_path, sep=';')"
   ]
  },
  {
   "cell_type": "code",
   "execution_count": 447,
   "metadata": {},
   "outputs": [
    {
     "data": {
      "text/html": [
       "<div>\n",
       "<style scoped>\n",
       "    .dataframe tbody tr th:only-of-type {\n",
       "        vertical-align: middle;\n",
       "    }\n",
       "\n",
       "    .dataframe tbody tr th {\n",
       "        vertical-align: top;\n",
       "    }\n",
       "\n",
       "    .dataframe thead th {\n",
       "        text-align: right;\n",
       "    }\n",
       "</style>\n",
       "<table border=\"1\" class=\"dataframe\">\n",
       "  <thead>\n",
       "    <tr style=\"text-align: right;\">\n",
       "      <th></th>\n",
       "      <th>rent</th>\n",
       "      <th>s</th>\n",
       "      <th>floor</th>\n",
       "      <th>rooms</th>\n",
       "      <th>district</th>\n",
       "      <th>walls</th>\n",
       "      <th>furniture</th>\n",
       "    </tr>\n",
       "  </thead>\n",
       "  <tbody>\n",
       "    <tr>\n",
       "      <th>0</th>\n",
       "      <td>15000</td>\n",
       "      <td>35.0</td>\n",
       "      <td>5</td>\n",
       "      <td>1</td>\n",
       "      <td>3</td>\n",
       "      <td>1</td>\n",
       "      <td>1</td>\n",
       "    </tr>\n",
       "    <tr>\n",
       "      <th>1</th>\n",
       "      <td>16500</td>\n",
       "      <td>31.0</td>\n",
       "      <td>2</td>\n",
       "      <td>1</td>\n",
       "      <td>2</td>\n",
       "      <td>0</td>\n",
       "      <td>1</td>\n",
       "    </tr>\n",
       "    <tr>\n",
       "      <th>2</th>\n",
       "      <td>18000</td>\n",
       "      <td>30.0</td>\n",
       "      <td>4</td>\n",
       "      <td>1</td>\n",
       "      <td>3</td>\n",
       "      <td>1</td>\n",
       "      <td>1</td>\n",
       "    </tr>\n",
       "    <tr>\n",
       "      <th>3</th>\n",
       "      <td>30000</td>\n",
       "      <td>55.0</td>\n",
       "      <td>1</td>\n",
       "      <td>2</td>\n",
       "      <td>3</td>\n",
       "      <td>1</td>\n",
       "      <td>1</td>\n",
       "    </tr>\n",
       "    <tr>\n",
       "      <th>4</th>\n",
       "      <td>12000</td>\n",
       "      <td>19.0</td>\n",
       "      <td>3</td>\n",
       "      <td>1</td>\n",
       "      <td>2</td>\n",
       "      <td>1</td>\n",
       "      <td>1</td>\n",
       "    </tr>\n",
       "    <tr>\n",
       "      <th>5</th>\n",
       "      <td>18000</td>\n",
       "      <td>45.0</td>\n",
       "      <td>7</td>\n",
       "      <td>1</td>\n",
       "      <td>2</td>\n",
       "      <td>0</td>\n",
       "      <td>1</td>\n",
       "    </tr>\n",
       "    <tr>\n",
       "      <th>6</th>\n",
       "      <td>22500</td>\n",
       "      <td>65.0</td>\n",
       "      <td>4</td>\n",
       "      <td>2</td>\n",
       "      <td>3</td>\n",
       "      <td>1</td>\n",
       "      <td>1</td>\n",
       "    </tr>\n",
       "    <tr>\n",
       "      <th>7</th>\n",
       "      <td>13500</td>\n",
       "      <td>20.0</td>\n",
       "      <td>2</td>\n",
       "      <td>1</td>\n",
       "      <td>2</td>\n",
       "      <td>0</td>\n",
       "      <td>1</td>\n",
       "    </tr>\n",
       "    <tr>\n",
       "      <th>8</th>\n",
       "      <td>28500</td>\n",
       "      <td>50.0</td>\n",
       "      <td>4</td>\n",
       "      <td>1</td>\n",
       "      <td>1</td>\n",
       "      <td>1</td>\n",
       "      <td>1</td>\n",
       "    </tr>\n",
       "    <tr>\n",
       "      <th>9</th>\n",
       "      <td>11250</td>\n",
       "      <td>15.0</td>\n",
       "      <td>1</td>\n",
       "      <td>1</td>\n",
       "      <td>2</td>\n",
       "      <td>0</td>\n",
       "      <td>1</td>\n",
       "    </tr>\n",
       "  </tbody>\n",
       "</table>\n",
       "</div>"
      ],
      "text/plain": [
       "    rent     s  floor  rooms  district  walls  furniture\n",
       "0  15000  35.0      5      1         3      1          1\n",
       "1  16500  31.0      2      1         2      0          1\n",
       "2  18000  30.0      4      1         3      1          1\n",
       "3  30000  55.0      1      2         3      1          1\n",
       "4  12000  19.0      3      1         2      1          1\n",
       "5  18000  45.0      7      1         2      0          1\n",
       "6  22500  65.0      4      2         3      1          1\n",
       "7  13500  20.0      2      1         2      0          1\n",
       "8  28500  50.0      4      1         1      1          1\n",
       "9  11250  15.0      1      1         2      0          1"
      ]
     },
     "execution_count": 447,
     "metadata": {},
     "output_type": "execute_result"
    }
   ],
   "source": [
    "df.head(10)"
   ]
  },
  {
   "cell_type": "code",
   "execution_count": 448,
   "metadata": {},
   "outputs": [
    {
     "name": "stdout",
     "output_type": "stream",
     "text": [
      "<class 'pandas.core.frame.DataFrame'>\n",
      "RangeIndex: 130 entries, 0 to 129\n",
      "Data columns (total 7 columns):\n",
      " #   Column     Non-Null Count  Dtype  \n",
      "---  ------     --------------  -----  \n",
      " 0   rent       130 non-null    int64  \n",
      " 1   s          130 non-null    float64\n",
      " 2   floor      130 non-null    int64  \n",
      " 3   rooms      130 non-null    int64  \n",
      " 4   district   130 non-null    int64  \n",
      " 5   walls      130 non-null    int64  \n",
      " 6   furniture  130 non-null    int64  \n",
      "dtypes: float64(1), int64(6)\n",
      "memory usage: 7.2 KB\n"
     ]
    }
   ],
   "source": [
    "df.info()"
   ]
  },
  {
   "cell_type": "markdown",
   "metadata": {},
   "source": [
    "Имеем заранее очищенные данные с числовыми признаками"
   ]
  },
  {
   "cell_type": "markdown",
   "metadata": {},
   "source": [
    "# 2. Предварительная обработка данных"
   ]
  },
  {
   "cell_type": "markdown",
   "metadata": {},
   "source": [
    "Проведем визуальный анализ распределений признаков"
   ]
  },
  {
   "cell_type": "code",
   "execution_count": 449,
   "metadata": {},
   "outputs": [
    {
     "data": {
      "image/png": "[encoded data removed]",
      "text/plain": [
       "<Figure size 640x480 with 1 Axes>"
      ]
     },
     "metadata": {},
     "output_type": "display_data"
    }
   ],
   "source": [
    "sns.histplot(df['rent'], bins=8)\n",
    "plt.title('Гистограмма распределения арендной платы')\n",
    "plt.show()"
   ]
  },
  {
   "cell_type": "code",
   "execution_count": 450,
   "metadata": {},
   "outputs": [
    {
     "data": {
      "image/png": "[encoded data removed]",
      "text/plain": [
       "<Figure size 640x480 with 1 Axes>"
      ]
     },
     "metadata": {},
     "output_type": "display_data"
    }
   ],
   "source": [
    "sns.histplot(df['s'], bins=8)\n",
    "plt.title('Гистограмма распределения площадей квартир')\n",
    "plt.show()"
   ]
  },
  {
   "cell_type": "code",
   "execution_count": 451,
   "metadata": {},
   "outputs": [
    {
     "data": {
      "image/png": "[encoded data removed]",
      "text/plain": [
       "<Figure size 640x480 with 1 Axes>"
      ]
     },
     "metadata": {},
     "output_type": "display_data"
    }
   ],
   "source": [
    "floors = df['floor'].value_counts().sort_index()\n",
    "\n",
    "sns.barplot(x=floors.index, y=floors.values)\n",
    "plt.title('Распределение квартир по этажам')\n",
    "plt.show()"
   ]
  },
  {
   "cell_type": "code",
   "execution_count": 452,
   "metadata": {},
   "outputs": [
    {
     "data": {
      "image/png": "[encoded data removed]",
      "text/plain": [
       "<Figure size 640x480 with 1 Axes>"
      ]
     },
     "metadata": {},
     "output_type": "display_data"
    }
   ],
   "source": [
    "rooms = df['rooms'].value_counts().sort_index()\n",
    "\n",
    "plt.pie(x=rooms.values, labels=rooms.index, autopct='%.1f')\n",
    "plt.title('Распределение квартир по числу комнат')\n",
    "plt.show()"
   ]
  },
  {
   "cell_type": "code",
   "execution_count": 453,
   "metadata": {},
   "outputs": [
    {
     "data": {
      "image/png": "[encoded data removed]",
      "text/plain": [
       "<Figure size 640x480 with 1 Axes>"
      ]
     },
     "metadata": {},
     "output_type": "display_data"
    }
   ],
   "source": [
    "walls = df['district'].value_counts().sort_index()\n",
    "\n",
    "plt.pie(x=walls.values, labels=walls.index, autopct='%.1f')\n",
    "plt.title('Распределение квартир по районам')\n",
    "plt.show()"
   ]
  },
  {
   "cell_type": "code",
   "execution_count": 454,
   "metadata": {},
   "outputs": [
    {
     "data": {
      "image/png": "[encoded data removed]",
      "text/plain": [
       "<Figure size 640x480 with 1 Axes>"
      ]
     },
     "metadata": {},
     "output_type": "display_data"
    }
   ],
   "source": [
    "walls = df['walls'].value_counts().sort_index()\n",
    "\n",
    "plt.pie(x=walls.values, labels=walls.index, autopct='%.1f')\n",
    "plt.title('Распределение квартир по типу стен')\n",
    "plt.show()"
   ]
  },
  {
   "cell_type": "code",
   "execution_count": 455,
   "metadata": {},
   "outputs": [
    {
     "data": {
      "image/png": "[encoded data removed]",
      "text/plain": [
       "<Figure size 640x480 with 1 Axes>"
      ]
     },
     "metadata": {},
     "output_type": "display_data"
    }
   ],
   "source": [
    "furnitures = df['furniture'].value_counts().sort_index()\n",
    "\n",
    "plt.pie(x=furnitures.values, labels=furnitures.index, autopct='%.1f')\n",
    "plt.title('Распределение квартир по типу стен')\n",
    "plt.show()"
   ]
  },
  {
   "cell_type": "markdown",
   "metadata": {},
   "source": [
    "## Описательные статистики"
   ]
  },
  {
   "cell_type": "code",
   "execution_count": 456,
   "metadata": {},
   "outputs": [
    {
     "data": {
      "text/html": [
       "<div>\n",
       "<style scoped>\n",
       "    .dataframe tbody tr th:only-of-type {\n",
       "        vertical-align: middle;\n",
       "    }\n",
       "\n",
       "    .dataframe tbody tr th {\n",
       "        vertical-align: top;\n",
       "    }\n",
       "\n",
       "    .dataframe thead th {\n",
       "        text-align: right;\n",
       "    }\n",
       "</style>\n",
       "<table border=\"1\" class=\"dataframe\">\n",
       "  <thead>\n",
       "    <tr style=\"text-align: right;\">\n",
       "      <th></th>\n",
       "      <th>floor</th>\n",
       "      <th>walls</th>\n",
       "      <th>district</th>\n",
       "      <th>s</th>\n",
       "      <th>rent</th>\n",
       "    </tr>\n",
       "  </thead>\n",
       "  <tbody>\n",
       "    <tr>\n",
       "      <th>count</th>\n",
       "      <td>130.000000</td>\n",
       "      <td>130.000000</td>\n",
       "      <td>130.000000</td>\n",
       "      <td>130.000000</td>\n",
       "      <td>130.000000</td>\n",
       "    </tr>\n",
       "    <tr>\n",
       "      <th>mean</th>\n",
       "      <td>4.153846</td>\n",
       "      <td>0.615385</td>\n",
       "      <td>2.076923</td>\n",
       "      <td>36.439231</td>\n",
       "      <td>17890.384615</td>\n",
       "    </tr>\n",
       "    <tr>\n",
       "      <th>std</th>\n",
       "      <td>2.680569</td>\n",
       "      <td>0.488386</td>\n",
       "      <td>0.812837</td>\n",
       "      <td>15.753831</td>\n",
       "      <td>5608.686840</td>\n",
       "    </tr>\n",
       "    <tr>\n",
       "      <th>min</th>\n",
       "      <td>1.000000</td>\n",
       "      <td>0.000000</td>\n",
       "      <td>1.000000</td>\n",
       "      <td>11.000000</td>\n",
       "      <td>9000.000000</td>\n",
       "    </tr>\n",
       "    <tr>\n",
       "      <th>25%</th>\n",
       "      <td>2.000000</td>\n",
       "      <td>0.000000</td>\n",
       "      <td>1.000000</td>\n",
       "      <td>21.250000</td>\n",
       "      <td>13500.000000</td>\n",
       "    </tr>\n",
       "    <tr>\n",
       "      <th>50%</th>\n",
       "      <td>3.000000</td>\n",
       "      <td>1.000000</td>\n",
       "      <td>2.000000</td>\n",
       "      <td>36.000000</td>\n",
       "      <td>18000.000000</td>\n",
       "    </tr>\n",
       "    <tr>\n",
       "      <th>75%</th>\n",
       "      <td>5.000000</td>\n",
       "      <td>1.000000</td>\n",
       "      <td>3.000000</td>\n",
       "      <td>45.000000</td>\n",
       "      <td>21000.000000</td>\n",
       "    </tr>\n",
       "    <tr>\n",
       "      <th>max</th>\n",
       "      <td>12.000000</td>\n",
       "      <td>1.000000</td>\n",
       "      <td>3.000000</td>\n",
       "      <td>70.000000</td>\n",
       "      <td>30000.000000</td>\n",
       "    </tr>\n",
       "  </tbody>\n",
       "</table>\n",
       "</div>"
      ],
      "text/plain": [
       "            floor       walls    district           s          rent\n",
       "count  130.000000  130.000000  130.000000  130.000000    130.000000\n",
       "mean     4.153846    0.615385    2.076923   36.439231  17890.384615\n",
       "std      2.680569    0.488386    0.812837   15.753831   5608.686840\n",
       "min      1.000000    0.000000    1.000000   11.000000   9000.000000\n",
       "25%      2.000000    0.000000    1.000000   21.250000  13500.000000\n",
       "50%      3.000000    1.000000    2.000000   36.000000  18000.000000\n",
       "75%      5.000000    1.000000    3.000000   45.000000  21000.000000\n",
       "max     12.000000    1.000000    3.000000   70.000000  30000.000000"
      ]
     },
     "execution_count": 456,
     "metadata": {},
     "output_type": "execute_result"
    }
   ],
   "source": [
    "df[['floor', 'walls', 'district', 's', 'rent']].describe()"
   ]
  },
  {
   "cell_type": "markdown",
   "metadata": {},
   "source": [
    "Проверим на ассиметрию непрерывные признаки"
   ]
  },
  {
   "cell_type": "code",
   "execution_count": 457,
   "metadata": {},
   "outputs": [
    {
     "data": {
      "text/plain": [
       "rent    0.536873\n",
       "s       0.328439\n",
       "dtype: float64"
      ]
     },
     "execution_count": 457,
     "metadata": {},
     "output_type": "execute_result"
    }
   ],
   "source": [
    "df[['rent', 's']].skew()"
   ]
  },
  {
   "cell_type": "markdown",
   "metadata": {},
   "source": [
    "Имеем небольшие правые хвосты, в целом - почти симметричное распределение"
   ]
  },
  {
   "cell_type": "markdown",
   "metadata": {},
   "source": [
    "Проверим на эксцесс"
   ]
  },
  {
   "cell_type": "code",
   "execution_count": 458,
   "metadata": {},
   "outputs": [
    {
     "data": {
      "text/plain": [
       "rent   -0.350727\n",
       "s      -0.706654\n",
       "dtype: float64"
      ]
     },
     "execution_count": 458,
     "metadata": {},
     "output_type": "execute_result"
    }
   ],
   "source": [
    "df[['rent', 's']].kurtosis()"
   ]
  },
  {
   "cell_type": "markdown",
   "metadata": {},
   "source": [
    "Оба распределения можно считать близкими к нормальному, но более плоскими, особенно что касается площади"
   ]
  },
  {
   "cell_type": "markdown",
   "metadata": {},
   "source": [
    "## Проверка на нормальность"
   ]
  },
  {
   "cell_type": "markdown",
   "metadata": {},
   "source": [
    "Выборка маленькая, поэтому используем критерий Шапиро-Уилка, гипотеза $H_0$ - что распределение нормальное"
   ]
  },
  {
   "cell_type": "code",
   "execution_count": 459,
   "metadata": {},
   "outputs": [
    {
     "name": "stdout",
     "output_type": "stream",
     "text": [
      "Распределение \"rent\" - не нормальное (p_value = 9.6e-05)\n",
      "Распределение \"s\" - не нормальное (p_value = 8.2e-04)\n"
     ]
    }
   ],
   "source": [
    "alpha = 0.05\n",
    "\n",
    "p_val = stats.shapiro(df['rent'])[1]\n",
    "print(f'Распределение \"rent\" - {'' if p_val > alpha else 'не'} нормальное (p_value = {p_val:.1e})')\n",
    "\n",
    "p_val = stats.shapiro(df['s'])[1]\n",
    "print(f'Распределение \"s\" - {'' if p_val > alpha else 'не'} нормальное (p_value = {p_val:.1e})')"
   ]
  },
  {
   "cell_type": "markdown",
   "metadata": {},
   "source": [
    "# 3. Сравнение групп"
   ]
  },
  {
   "cell_type": "markdown",
   "metadata": {},
   "source": [
    "## 3.1. Анализ влияния категориальных признаков на rent"
   ]
  },
  {
   "cell_type": "markdown",
   "metadata": {},
   "source": [
    "### Влияние walls на rent"
   ]
  },
  {
   "cell_type": "code",
   "execution_count": 460,
   "metadata": {},
   "outputs": [
    {
     "data": {
      "text/html": [
       "<div>\n",
       "<style scoped>\n",
       "    .dataframe tbody tr th:only-of-type {\n",
       "        vertical-align: middle;\n",
       "    }\n",
       "\n",
       "    .dataframe tbody tr th {\n",
       "        vertical-align: top;\n",
       "    }\n",
       "\n",
       "    .dataframe thead th {\n",
       "        text-align: right;\n",
       "    }\n",
       "</style>\n",
       "<table border=\"1\" class=\"dataframe\">\n",
       "  <thead>\n",
       "    <tr style=\"text-align: right;\">\n",
       "      <th></th>\n",
       "      <th>rent</th>\n",
       "    </tr>\n",
       "    <tr>\n",
       "      <th>walls</th>\n",
       "      <th></th>\n",
       "    </tr>\n",
       "  </thead>\n",
       "  <tbody>\n",
       "    <tr>\n",
       "      <th>0</th>\n",
       "      <td>17790.000</td>\n",
       "    </tr>\n",
       "    <tr>\n",
       "      <th>1</th>\n",
       "      <td>17953.125</td>\n",
       "    </tr>\n",
       "  </tbody>\n",
       "</table>\n",
       "</div>"
      ],
      "text/plain": [
       "            rent\n",
       "walls           \n",
       "0      17790.000\n",
       "1      17953.125"
      ]
     },
     "execution_count": 460,
     "metadata": {},
     "output_type": "execute_result"
    }
   ],
   "source": [
    "# средняя аренда по типу стен\n",
    "df.groupby('walls')[['rent']].mean()"
   ]
  },
  {
   "cell_type": "code",
   "execution_count": 461,
   "metadata": {},
   "outputs": [
    {
     "name": "stderr",
     "output_type": "stream",
     "text": [
      "C:\\Users\\torgovatel\\AppData\\Local\\Temp\\ipykernel_17700\\499452268.py:1: FutureWarning: \n",
      "\n",
      "Passing `palette` without assigning `hue` is deprecated and will be removed in v0.14.0. Assign the `x` variable to `hue` and set `legend=False` for the same effect.\n",
      "\n",
      "  sns.boxplot(data=df, x='walls', y='rent', showmeans=True, palette=sns.color_palette('colorblind6', 2))\n"
     ]
    },
    {
     "data": {
      "image/png": "[encoded data removed]",
      "text/plain": [
       "<Figure size 640x480 with 1 Axes>"
      ]
     },
     "metadata": {},
     "output_type": "display_data"
    }
   ],
   "source": [
    "sns.boxplot(data=df, x='walls', y='rent', showmeans=True, palette=sns.color_palette('colorblind6', 2))\n",
    "plt.title('Barplot распределения rent по вариациям walls')\n",
    "plt.show()"
   ]
  },
  {
   "cell_type": "markdown",
   "metadata": {},
   "source": [
    "Проверим на нормальность"
   ]
  },
  {
   "cell_type": "code",
   "execution_count": 462,
   "metadata": {},
   "outputs": [
    {
     "name": "stdout",
     "output_type": "stream",
     "text": [
      "Распределение \"rent\" по \"walls == 0\" - не нормальное (p_value = 7.7e-03)\n",
      "Распределение \"rent\" по \"walls == 1\" - не нормальное (p_value = 1.0e-03)\n"
     ]
    }
   ],
   "source": [
    "df_w0 = df[df['walls'] == 0]['rent']\n",
    "df_w1 = df[df['walls'] == 1]['rent']\n",
    "\n",
    "# 0\n",
    "p_val = stats.shapiro(df_w0)[1]\n",
    "print(f'Распределение \"rent\" по \"walls == 0\" - {'' if p_val > alpha else 'не'} нормальное (p_value = {p_val:.1e})')\n",
    "\n",
    "# 1\n",
    "p_val = stats.shapiro(df_w1)[1]\n",
    "print(f'Распределение \"rent\" по \"walls == 1\" - {'' if p_val > alpha else 'не'} нормальное (p_value = {p_val:.1e})')"
   ]
  },
  {
   "cell_type": "markdown",
   "metadata": {},
   "source": [
    "Проверим на схожесть распределений"
   ]
  },
  {
   "cell_type": "code",
   "execution_count": 463,
   "metadata": {},
   "outputs": [
    {
     "name": "stdout",
     "output_type": "stream",
     "text": [
      "Распределения \"rent\" по вариациям \"walls\" -  схожи (p_value = 0.8)\n"
     ]
    }
   ],
   "source": [
    "p_val = scipy.stats.mannwhitneyu(df_w0, df_w1)[1]\n",
    "print(f'Распределения \"rent\" по вариациям \"walls\" - {'' if p_val > alpha else 'не'} схожи (p_value = {p_val:.1f})')"
   ]
  },
  {
   "cell_type": "markdown",
   "metadata": {},
   "source": [
    "### Влияние furniture на rent"
   ]
  },
  {
   "cell_type": "code",
   "execution_count": 464,
   "metadata": {},
   "outputs": [
    {
     "data": {
      "text/html": [
       "<div>\n",
       "<style scoped>\n",
       "    .dataframe tbody tr th:only-of-type {\n",
       "        vertical-align: middle;\n",
       "    }\n",
       "\n",
       "    .dataframe tbody tr th {\n",
       "        vertical-align: top;\n",
       "    }\n",
       "\n",
       "    .dataframe thead th {\n",
       "        text-align: right;\n",
       "    }\n",
       "</style>\n",
       "<table border=\"1\" class=\"dataframe\">\n",
       "  <thead>\n",
       "    <tr style=\"text-align: right;\">\n",
       "      <th></th>\n",
       "      <th>rent</th>\n",
       "    </tr>\n",
       "    <tr>\n",
       "      <th>furniture</th>\n",
       "      <th></th>\n",
       "    </tr>\n",
       "  </thead>\n",
       "  <tbody>\n",
       "    <tr>\n",
       "      <th>0</th>\n",
       "      <td>12535.714286</td>\n",
       "    </tr>\n",
       "    <tr>\n",
       "      <th>1</th>\n",
       "      <td>18922.018349</td>\n",
       "    </tr>\n",
       "  </tbody>\n",
       "</table>\n",
       "</div>"
      ],
      "text/plain": [
       "                   rent\n",
       "furniture              \n",
       "0          12535.714286\n",
       "1          18922.018349"
      ]
     },
     "execution_count": 464,
     "metadata": {},
     "output_type": "execute_result"
    }
   ],
   "source": [
    "# средняя аренда по наличию мебели\n",
    "df.groupby('furniture')[['rent']].mean()"
   ]
  },
  {
   "cell_type": "code",
   "execution_count": 465,
   "metadata": {},
   "outputs": [
    {
     "name": "stderr",
     "output_type": "stream",
     "text": [
      "C:\\Users\\torgovatel\\AppData\\Local\\Temp\\ipykernel_17700\\2572215389.py:1: FutureWarning: \n",
      "\n",
      "Passing `palette` without assigning `hue` is deprecated and will be removed in v0.14.0. Assign the `x` variable to `hue` and set `legend=False` for the same effect.\n",
      "\n",
      "  sns.boxplot(data=df, x='furniture', y='rent', showmeans=True, palette=sns.color_palette('colorblind6', 2))\n"
     ]
    },
    {
     "data": {
      "image/png": "[encoded data removed]",
      "text/plain": [
       "<Figure size 640x480 with 1 Axes>"
      ]
     },
     "metadata": {},
     "output_type": "display_data"
    }
   ],
   "source": [
    "sns.boxplot(data=df, x='furniture', y='rent', showmeans=True, palette=sns.color_palette('colorblind6', 2))\n",
    "plt.title('Barplot распределения rent по вариациям furniture')\n",
    "plt.show()"
   ]
  },
  {
   "cell_type": "markdown",
   "metadata": {},
   "source": [
    "Проверим нормальность"
   ]
  },
  {
   "cell_type": "code",
   "execution_count": 466,
   "metadata": {},
   "outputs": [
    {
     "name": "stdout",
     "output_type": "stream",
     "text": [
      "Распределение \"rent\" по \"furniture == 0\" - не нормальное (p_value = 1.9e-02)\n",
      "Распределение \"rent\" по \"furniture == 1\" - не нормальное (p_value = 1.5e-03)\n"
     ]
    }
   ],
   "source": [
    "df_f0 = df[df['furniture'] == 0]['rent']\n",
    "df_f1 = df[df['furniture'] == 1]['rent']\n",
    "\n",
    "# 0\n",
    "p_val = stats.shapiro(df_f0)[1]\n",
    "print(f'Распределение \"rent\" по \"furniture == 0\" - {'' if p_val > alpha else 'не'} нормальное (p_value = {p_val:.1e})')\n",
    "\n",
    "# 1\n",
    "p_val = stats.shapiro(df_f1)[1]\n",
    "print(f'Распределение \"rent\" по \"furniture == 1\" - {'' if p_val > alpha else 'не'} нормальное (p_value = {p_val:.1e})')"
   ]
  },
  {
   "cell_type": "markdown",
   "metadata": {},
   "source": [
    "Проверим на схожесть распределений"
   ]
  },
  {
   "cell_type": "code",
   "execution_count": 467,
   "metadata": {},
   "outputs": [
    {
     "name": "stdout",
     "output_type": "stream",
     "text": [
      "Распределения \"rent\" по вариациям \"furniture\" - не схожи (p_value = 2.0e-07)\n"
     ]
    }
   ],
   "source": [
    "p_val = scipy.stats.mannwhitneyu(df_f0, df_f1)[1]\n",
    "print(f'Распределения \"rent\" по вариациям \"furniture\" - {'' if p_val > alpha else 'не'} схожи (p_value = {p_val:.1e})')"
   ]
  },
  {
   "cell_type": "markdown",
   "metadata": {},
   "source": [
    "### Влияние district на rent"
   ]
  },
  {
   "cell_type": "code",
   "execution_count": 468,
   "metadata": {},
   "outputs": [
    {
     "data": {
      "text/html": [
       "<div>\n",
       "<style scoped>\n",
       "    .dataframe tbody tr th:only-of-type {\n",
       "        vertical-align: middle;\n",
       "    }\n",
       "\n",
       "    .dataframe tbody tr th {\n",
       "        vertical-align: top;\n",
       "    }\n",
       "\n",
       "    .dataframe thead th {\n",
       "        text-align: right;\n",
       "    }\n",
       "</style>\n",
       "<table border=\"1\" class=\"dataframe\">\n",
       "  <thead>\n",
       "    <tr style=\"text-align: right;\">\n",
       "      <th></th>\n",
       "      <th>rent</th>\n",
       "    </tr>\n",
       "    <tr>\n",
       "      <th>district</th>\n",
       "      <th></th>\n",
       "    </tr>\n",
       "  </thead>\n",
       "  <tbody>\n",
       "    <tr>\n",
       "      <th>1</th>\n",
       "      <td>19894.736842</td>\n",
       "    </tr>\n",
       "    <tr>\n",
       "      <th>2</th>\n",
       "      <td>15375.000000</td>\n",
       "    </tr>\n",
       "    <tr>\n",
       "      <th>3</th>\n",
       "      <td>18609.375000</td>\n",
       "    </tr>\n",
       "  </tbody>\n",
       "</table>\n",
       "</div>"
      ],
      "text/plain": [
       "                  rent\n",
       "district              \n",
       "1         19894.736842\n",
       "2         15375.000000\n",
       "3         18609.375000"
      ]
     },
     "execution_count": 468,
     "metadata": {},
     "output_type": "execute_result"
    }
   ],
   "source": [
    "# средняя аренда по району\n",
    "df.groupby('district')[['rent']].mean()"
   ]
  },
  {
   "cell_type": "code",
   "execution_count": 469,
   "metadata": {},
   "outputs": [
    {
     "data": {
      "text/plain": [
       "district\n",
       "3    48\n",
       "2    44\n",
       "1    38\n",
       "Name: count, dtype: int64"
      ]
     },
     "execution_count": 469,
     "metadata": {},
     "output_type": "execute_result"
    }
   ],
   "source": [
    "df['district'].value_counts()"
   ]
  },
  {
   "cell_type": "code",
   "execution_count": 470,
   "metadata": {},
   "outputs": [
    {
     "name": "stderr",
     "output_type": "stream",
     "text": [
      "C:\\Users\\torgovatel\\AppData\\Local\\Temp\\ipykernel_17700\\3396184497.py:1: FutureWarning: \n",
      "\n",
      "Passing `palette` without assigning `hue` is deprecated and will be removed in v0.14.0. Assign the `x` variable to `hue` and set `legend=False` for the same effect.\n",
      "\n",
      "  sns.boxplot(data=df, x='district', y='rent', showmeans=True, palette=sns.color_palette('colorblind6', 3))\n"
     ]
    },
    {
     "data": {
      "image/png": "[encoded data removed]",
      "text/plain": [
       "<Figure size 640x480 with 1 Axes>"
      ]
     },
     "metadata": {},
     "output_type": "display_data"
    }
   ],
   "source": [
    "sns.boxplot(data=df, x='district', y='rent', showmeans=True, palette=sns.color_palette('colorblind6', 3))\n",
    "plt.title('Barplot распределения rent по вариациям district')\n",
    "plt.show()"
   ]
  },
  {
   "cell_type": "markdown",
   "metadata": {},
   "source": [
    "Обработаем выброс"
   ]
  },
  {
   "cell_type": "code",
   "execution_count": 471,
   "metadata": {},
   "outputs": [
    {
     "data": {
      "text/html": [
       "<div>\n",
       "<style scoped>\n",
       "    .dataframe tbody tr th:only-of-type {\n",
       "        vertical-align: middle;\n",
       "    }\n",
       "\n",
       "    .dataframe tbody tr th {\n",
       "        vertical-align: top;\n",
       "    }\n",
       "\n",
       "    .dataframe thead th {\n",
       "        text-align: right;\n",
       "    }\n",
       "</style>\n",
       "<table border=\"1\" class=\"dataframe\">\n",
       "  <thead>\n",
       "    <tr style=\"text-align: right;\">\n",
       "      <th></th>\n",
       "      <th>rent</th>\n",
       "      <th>s</th>\n",
       "      <th>floor</th>\n",
       "      <th>rooms</th>\n",
       "      <th>district</th>\n",
       "      <th>walls</th>\n",
       "      <th>furniture</th>\n",
       "    </tr>\n",
       "  </thead>\n",
       "  <tbody>\n",
       "    <tr>\n",
       "      <th>37</th>\n",
       "      <td>30000</td>\n",
       "      <td>64.0</td>\n",
       "      <td>3</td>\n",
       "      <td>3</td>\n",
       "      <td>2</td>\n",
       "      <td>0</td>\n",
       "      <td>1</td>\n",
       "    </tr>\n",
       "  </tbody>\n",
       "</table>\n",
       "</div>"
      ],
      "text/plain": [
       "     rent     s  floor  rooms  district  walls  furniture\n",
       "37  30000  64.0      3      3         2      0          1"
      ]
     },
     "execution_count": 471,
     "metadata": {},
     "output_type": "execute_result"
    }
   ],
   "source": [
    "df.loc[(df['rent'] > 25000) & (df['district'] == 2)]"
   ]
  },
  {
   "cell_type": "code",
   "execution_count": 472,
   "metadata": {},
   "outputs": [],
   "source": [
    "df=df.drop(df.index[[37]])\n",
    "df.reset_index(inplace=True)"
   ]
  },
  {
   "cell_type": "markdown",
   "metadata": {},
   "source": [
    "Проверим на нормальность"
   ]
  },
  {
   "cell_type": "code",
   "execution_count": 473,
   "metadata": {},
   "outputs": [
    {
     "name": "stdout",
     "output_type": "stream",
     "text": [
      "Распределение \"rent\" по \"district == 1\" -  нормальное (p_value = 0.3939)\n",
      "Распределение \"rent\" по \"district == 2\" - не нормальное (p_value = 0.0152)\n",
      "Распределение \"rent\" по \"district == 3\" - не нормальное (p_value = 0.0335)\n"
     ]
    }
   ],
   "source": [
    "df_d1 = np.array(df[df['district'] == 1]['rent'])\n",
    "df_d2 = np.array(df[df['district'] == 2]['rent'])\n",
    "df_d3 = np.array(df[df['district'] == 3]['rent'])\n",
    "\n",
    "# 1\n",
    "p_val = stats.shapiro(df_d1)[1]\n",
    "print(f'Распределение \"rent\" по \"district == 1\" - {'' if p_val > alpha else 'не'} нормальное (p_value = {p_val:.4f})')\n",
    "\n",
    "# 2\n",
    "p_val = stats.shapiro(df_d2)[1]\n",
    "print(f'Распределение \"rent\" по \"district == 2\" - {'' if p_val > alpha else 'не'} нормальное (p_value = {p_val:.4f})')\n",
    "\n",
    "# 3\n",
    "p_val = stats.shapiro(df_d3)[1]\n",
    "print(f'Распределение \"rent\" по \"district == 3\" - {'' if p_val > alpha else 'не'} нормальное (p_value = {p_val:.4f})')"
   ]
  },
  {
   "cell_type": "markdown",
   "metadata": {},
   "source": [
    "Пусть одно распределение нормальное, одно близко к нему а одно явно не нормальное, будем считать что в совокупности они не являются нормальными"
   ]
  },
  {
   "cell_type": "markdown",
   "metadata": {},
   "source": [
    "Проверим схожесть медиан данных совокупностей по критерию Краскала-Уоллиса"
   ]
  },
  {
   "cell_type": "code",
   "execution_count": 474,
   "metadata": {},
   "outputs": [
    {
     "name": "stdout",
     "output_type": "stream",
     "text": [
      "Медианы распределения \"rent\" по вариациям \"district\" - не схожи (p_value = 2.6e-04)\n"
     ]
    }
   ],
   "source": [
    "p_val = stats.mstats.kruskalwallis(df_d1, df_d2, df_d3)[1]\n",
    "print(f'Медианы распределения \"rent\" по вариациям \"district\" - {'' if p_val > alpha else 'не'} схожи (p_value = {p_val:.1e})')"
   ]
  },
  {
   "cell_type": "markdown",
   "metadata": {},
   "source": [
    "## 3.2. Анализ влияния категориальных признаков на s"
   ]
  },
  {
   "cell_type": "markdown",
   "metadata": {},
   "source": [
    "### Влияние walls на s"
   ]
  },
  {
   "cell_type": "code",
   "execution_count": 475,
   "metadata": {},
   "outputs": [
    {
     "data": {
      "text/html": [
       "<div>\n",
       "<style scoped>\n",
       "    .dataframe tbody tr th:only-of-type {\n",
       "        vertical-align: middle;\n",
       "    }\n",
       "\n",
       "    .dataframe tbody tr th {\n",
       "        vertical-align: top;\n",
       "    }\n",
       "\n",
       "    .dataframe thead th {\n",
       "        text-align: right;\n",
       "    }\n",
       "</style>\n",
       "<table border=\"1\" class=\"dataframe\">\n",
       "  <thead>\n",
       "    <tr style=\"text-align: right;\">\n",
       "      <th></th>\n",
       "      <th>s</th>\n",
       "    </tr>\n",
       "    <tr>\n",
       "      <th>walls</th>\n",
       "      <th></th>\n",
       "    </tr>\n",
       "  </thead>\n",
       "  <tbody>\n",
       "    <tr>\n",
       "      <th>0</th>\n",
       "      <td>39.042857</td>\n",
       "    </tr>\n",
       "    <tr>\n",
       "      <th>1</th>\n",
       "      <td>34.500000</td>\n",
       "    </tr>\n",
       "  </tbody>\n",
       "</table>\n",
       "</div>"
      ],
      "text/plain": [
       "               s\n",
       "walls           \n",
       "0      39.042857\n",
       "1      34.500000"
      ]
     },
     "execution_count": 475,
     "metadata": {},
     "output_type": "execute_result"
    }
   ],
   "source": [
    "# средняя площадь по типу стен\n",
    "df.groupby('walls')[['s']].mean()"
   ]
  },
  {
   "cell_type": "code",
   "execution_count": 476,
   "metadata": {},
   "outputs": [
    {
     "name": "stderr",
     "output_type": "stream",
     "text": [
      "C:\\Users\\torgovatel\\AppData\\Local\\Temp\\ipykernel_17700\\590787749.py:1: FutureWarning: \n",
      "\n",
      "Passing `palette` without assigning `hue` is deprecated and will be removed in v0.14.0. Assign the `x` variable to `hue` and set `legend=False` for the same effect.\n",
      "\n",
      "  sns.boxplot(data=df, x='walls', y='s', showmeans=True, palette=sns.color_palette('colorblind6', 2))\n"
     ]
    },
    {
     "data": {
      "image/png": "[encoded data removed]",
      "text/plain": [
       "<Figure size 640x480 with 1 Axes>"
      ]
     },
     "metadata": {},
     "output_type": "display_data"
    }
   ],
   "source": [
    "sns.boxplot(data=df, x='walls', y='s', showmeans=True, palette=sns.color_palette('colorblind6', 2))\n",
    "plt.title('Barplot распределения s по вариациям walls')\n",
    "plt.show()"
   ]
  },
  {
   "cell_type": "markdown",
   "metadata": {},
   "source": [
    "Проверим на нормальность"
   ]
  },
  {
   "cell_type": "code",
   "execution_count": 477,
   "metadata": {},
   "outputs": [
    {
     "name": "stdout",
     "output_type": "stream",
     "text": [
      "Распределение \"s\" по \"walls == 0\" -  нормальное (p_value = 0.129)\n",
      "Распределение \"s\" по \"walls == 1\" - не нормальное (p_value = 0.003)\n"
     ]
    }
   ],
   "source": [
    "df_w0 = df[df['walls'] == 0]['s']\n",
    "df_w1 = df[df['walls'] == 1]['s']\n",
    "\n",
    "# 0\n",
    "p_val = stats.shapiro(df_w0)[1]\n",
    "print(f'Распределение \"s\" по \"walls == 0\" - {'' if p_val > alpha else 'не'} нормальное (p_value = {p_val:.3f})')\n",
    "\n",
    "# 1\n",
    "p_val = stats.shapiro(df_w1)[1]\n",
    "print(f'Распределение \"s\" по \"walls == 1\" - {'' if p_val > alpha else 'не'} нормальное (p_value = {p_val:.3f})')"
   ]
  },
  {
   "cell_type": "markdown",
   "metadata": {},
   "source": [
    "Проверим на схожесть распределений"
   ]
  },
  {
   "cell_type": "code",
   "execution_count": 478,
   "metadata": {},
   "outputs": [
    {
     "name": "stdout",
     "output_type": "stream",
     "text": [
      "Распределения \"s\" по вариациям \"walls\" -  схожи (p_value = 0.1)\n"
     ]
    }
   ],
   "source": [
    "p_val = scipy.stats.mannwhitneyu(df_w0, df_w1)[1]\n",
    "print(f'Распределения \"s\" по вариациям \"walls\" - {'' if p_val > alpha else 'не'} схожи (p_value = {p_val:.1f})')"
   ]
  },
  {
   "cell_type": "markdown",
   "metadata": {},
   "source": [
    "### Влияние furniture на s"
   ]
  },
  {
   "cell_type": "code",
   "execution_count": 479,
   "metadata": {},
   "outputs": [
    {
     "data": {
      "text/html": [
       "<div>\n",
       "<style scoped>\n",
       "    .dataframe tbody tr th:only-of-type {\n",
       "        vertical-align: middle;\n",
       "    }\n",
       "\n",
       "    .dataframe tbody tr th {\n",
       "        vertical-align: top;\n",
       "    }\n",
       "\n",
       "    .dataframe thead th {\n",
       "        text-align: right;\n",
       "    }\n",
       "</style>\n",
       "<table border=\"1\" class=\"dataframe\">\n",
       "  <thead>\n",
       "    <tr style=\"text-align: right;\">\n",
       "      <th></th>\n",
       "      <th>s</th>\n",
       "    </tr>\n",
       "    <tr>\n",
       "      <th>furniture</th>\n",
       "      <th></th>\n",
       "    </tr>\n",
       "  </thead>\n",
       "  <tbody>\n",
       "    <tr>\n",
       "      <th>0</th>\n",
       "      <td>21.904762</td>\n",
       "    </tr>\n",
       "    <tr>\n",
       "      <th>1</th>\n",
       "      <td>39.010185</td>\n",
       "    </tr>\n",
       "  </tbody>\n",
       "</table>\n",
       "</div>"
      ],
      "text/plain": [
       "                   s\n",
       "furniture           \n",
       "0          21.904762\n",
       "1          39.010185"
      ]
     },
     "execution_count": 479,
     "metadata": {},
     "output_type": "execute_result"
    }
   ],
   "source": [
    "# средняя площадь по наличию мебели\n",
    "df.groupby('furniture')[['s']].mean()"
   ]
  },
  {
   "cell_type": "code",
   "execution_count": 480,
   "metadata": {},
   "outputs": [
    {
     "name": "stderr",
     "output_type": "stream",
     "text": [
      "C:\\Users\\torgovatel\\AppData\\Local\\Temp\\ipykernel_17700\\1662016969.py:1: FutureWarning: \n",
      "\n",
      "Passing `palette` without assigning `hue` is deprecated and will be removed in v0.14.0. Assign the `x` variable to `hue` and set `legend=False` for the same effect.\n",
      "\n",
      "  sns.boxplot(data=df, x='furniture', y='s', showmeans=True, palette=sns.color_palette('colorblind6', 2))\n"
     ]
    },
    {
     "data": {
      "image/png": "[encoded data removed]",
      "text/plain": [
       "<Figure size 640x480 with 1 Axes>"
      ]
     },
     "metadata": {},
     "output_type": "display_data"
    }
   ],
   "source": [
    "sns.boxplot(data=df, x='furniture', y='s', showmeans=True, palette=sns.color_palette('colorblind6', 2))\n",
    "plt.title('Barplot распределения s по вариациям furniture')\n",
    "plt.show()"
   ]
  },
  {
   "cell_type": "markdown",
   "metadata": {},
   "source": [
    "Проверим нормальность"
   ]
  },
  {
   "cell_type": "code",
   "execution_count": 481,
   "metadata": {},
   "outputs": [
    {
     "name": "stdout",
     "output_type": "stream",
     "text": [
      "Распределение \"s\" по \"furniture == 0\" - не нормальное (p_value = 0.010)\n",
      "Распределение \"s\" по \"furniture == 1\" - не нормальное (p_value = 0.028)\n"
     ]
    }
   ],
   "source": [
    "df_f0 = df[df['furniture'] == 0]['s']\n",
    "df_f1 = df[df['furniture'] == 1]['s']\n",
    "\n",
    "# 0\n",
    "p_val = stats.shapiro(df_f0)[1]\n",
    "print(f'Распределение \"s\" по \"furniture == 0\" - {'' if p_val > alpha else 'не'} нормальное (p_value = {p_val:.3f})')\n",
    "\n",
    "# 1\n",
    "p_val = stats.shapiro(df_f1)[1]\n",
    "print(f'Распределение \"s\" по \"furniture == 1\" - {'' if p_val > alpha else 'не'} нормальное (p_value = {p_val:.3f})')"
   ]
  },
  {
   "cell_type": "markdown",
   "metadata": {},
   "source": [
    "Проверим на схожесть распределений"
   ]
  },
  {
   "cell_type": "code",
   "execution_count": 482,
   "metadata": {},
   "outputs": [
    {
     "name": "stdout",
     "output_type": "stream",
     "text": [
      "Распределения \"s\" по вариациям \"furniture\" - не схожи (p_value = 3.6e-06)\n"
     ]
    }
   ],
   "source": [
    "p_val = scipy.stats.mannwhitneyu(df_f0, df_f1)[1]\n",
    "print(f'Распределения \"s\" по вариациям \"furniture\" - {'' if p_val > alpha else 'не'} схожи (p_value = {p_val:.1e})')"
   ]
  },
  {
   "cell_type": "markdown",
   "metadata": {},
   "source": [
    "### Влияние district на rent"
   ]
  },
  {
   "cell_type": "code",
   "execution_count": 483,
   "metadata": {},
   "outputs": [
    {
     "data": {
      "text/html": [
       "<div>\n",
       "<style scoped>\n",
       "    .dataframe tbody tr th:only-of-type {\n",
       "        vertical-align: middle;\n",
       "    }\n",
       "\n",
       "    .dataframe tbody tr th {\n",
       "        vertical-align: top;\n",
       "    }\n",
       "\n",
       "    .dataframe thead th {\n",
       "        text-align: right;\n",
       "    }\n",
       "</style>\n",
       "<table border=\"1\" class=\"dataframe\">\n",
       "  <thead>\n",
       "    <tr style=\"text-align: right;\">\n",
       "      <th></th>\n",
       "      <th>s</th>\n",
       "    </tr>\n",
       "    <tr>\n",
       "      <th>district</th>\n",
       "      <th></th>\n",
       "    </tr>\n",
       "  </thead>\n",
       "  <tbody>\n",
       "    <tr>\n",
       "      <th>1</th>\n",
       "      <td>37.078947</td>\n",
       "    </tr>\n",
       "    <tr>\n",
       "      <th>2</th>\n",
       "      <td>32.711628</td>\n",
       "    </tr>\n",
       "    <tr>\n",
       "      <th>3</th>\n",
       "      <td>38.697917</td>\n",
       "    </tr>\n",
       "  </tbody>\n",
       "</table>\n",
       "</div>"
      ],
      "text/plain": [
       "                  s\n",
       "district           \n",
       "1         37.078947\n",
       "2         32.711628\n",
       "3         38.697917"
      ]
     },
     "execution_count": 483,
     "metadata": {},
     "output_type": "execute_result"
    }
   ],
   "source": [
    "# средняя площадь по району\n",
    "df.groupby('district')[['s']].mean()"
   ]
  },
  {
   "cell_type": "code",
   "execution_count": 484,
   "metadata": {},
   "outputs": [
    {
     "data": {
      "text/plain": [
       "district\n",
       "3    48\n",
       "2    43\n",
       "1    38\n",
       "Name: count, dtype: int64"
      ]
     },
     "execution_count": 484,
     "metadata": {},
     "output_type": "execute_result"
    }
   ],
   "source": [
    "df['district'].value_counts()"
   ]
  },
  {
   "cell_type": "code",
   "execution_count": 485,
   "metadata": {},
   "outputs": [
    {
     "name": "stderr",
     "output_type": "stream",
     "text": [
      "C:\\Users\\torgovatel\\AppData\\Local\\Temp\\ipykernel_17700\\2596932166.py:1: FutureWarning: \n",
      "\n",
      "Passing `palette` without assigning `hue` is deprecated and will be removed in v0.14.0. Assign the `x` variable to `hue` and set `legend=False` for the same effect.\n",
      "\n",
      "  sns.boxplot(data=df, x='district', y='s', showmeans=True, palette=sns.color_palette('colorblind6', 3))\n"
     ]
    },
    {
     "data": {
      "image/png": "[encoded data removed]",
      "text/plain": [
       "<Figure size 640x480 with 1 Axes>"
      ]
     },
     "metadata": {},
     "output_type": "display_data"
    }
   ],
   "source": [
    "sns.boxplot(data=df, x='district', y='s', showmeans=True, palette=sns.color_palette('colorblind6', 3))\n",
    "plt.title('Barplot распределения s по вариациям district')\n",
    "plt.show()"
   ]
  },
  {
   "cell_type": "markdown",
   "metadata": {},
   "source": [
    "Обработаем выброс"
   ]
  },
  {
   "cell_type": "code",
   "execution_count": 486,
   "metadata": {},
   "outputs": [
    {
     "data": {
      "text/html": [
       "<div>\n",
       "<style scoped>\n",
       "    .dataframe tbody tr th:only-of-type {\n",
       "        vertical-align: middle;\n",
       "    }\n",
       "\n",
       "    .dataframe tbody tr th {\n",
       "        vertical-align: top;\n",
       "    }\n",
       "\n",
       "    .dataframe thead th {\n",
       "        text-align: right;\n",
       "    }\n",
       "</style>\n",
       "<table border=\"1\" class=\"dataframe\">\n",
       "  <thead>\n",
       "    <tr style=\"text-align: right;\">\n",
       "      <th></th>\n",
       "      <th>index</th>\n",
       "      <th>rent</th>\n",
       "      <th>s</th>\n",
       "      <th>floor</th>\n",
       "      <th>rooms</th>\n",
       "      <th>district</th>\n",
       "      <th>walls</th>\n",
       "      <th>furniture</th>\n",
       "    </tr>\n",
       "  </thead>\n",
       "  <tbody>\n",
       "    <tr>\n",
       "      <th>66</th>\n",
       "      <td>67</td>\n",
       "      <td>28500</td>\n",
       "      <td>70.0</td>\n",
       "      <td>9</td>\n",
       "      <td>3</td>\n",
       "      <td>1</td>\n",
       "      <td>1</td>\n",
       "      <td>1</td>\n",
       "    </tr>\n",
       "  </tbody>\n",
       "</table>\n",
       "</div>"
      ],
      "text/plain": [
       "    index   rent     s  floor  rooms  district  walls  furniture\n",
       "66     67  28500  70.0      9      3         1      1          1"
      ]
     },
     "execution_count": 486,
     "metadata": {},
     "output_type": "execute_result"
    }
   ],
   "source": [
    "df.loc[(df['s'] >= 70) & (df['district'] == 1)]"
   ]
  },
  {
   "cell_type": "code",
   "execution_count": 487,
   "metadata": {},
   "outputs": [],
   "source": [
    "df=df.drop(df.index[[66]])\n",
    "df.reset_index(inplace=True)"
   ]
  },
  {
   "cell_type": "markdown",
   "metadata": {},
   "source": [
    "Проверим на нормальность"
   ]
  },
  {
   "cell_type": "code",
   "execution_count": 488,
   "metadata": {},
   "outputs": [
    {
     "name": "stdout",
     "output_type": "stream",
     "text": [
      "Распределение \"s\" по \"district == 1\" -  нормальное (p_value = 0.5862)\n",
      "Распределение \"s\" по \"district == 2\" - не нормальное (p_value = 0.0047)\n",
      "Распределение \"s\" по \"district == 3\" -  нормальное (p_value = 0.1030)\n"
     ]
    }
   ],
   "source": [
    "df_d1 = np.array(df[df['district'] == 1]['s'])\n",
    "df_d2 = np.array(df[df['district'] == 2]['s'])\n",
    "df_d3 = np.array(df[df['district'] == 3]['s'])\n",
    "\n",
    "# 1\n",
    "p_val = stats.shapiro(df_d1)[1]\n",
    "print(f'Распределение \"s\" по \"district == 1\" - {'' if p_val > alpha else 'не'} нормальное (p_value = {p_val:.4f})')\n",
    "\n",
    "# 2\n",
    "p_val = stats.shapiro(df_d2)[1]\n",
    "print(f'Распределение \"s\" по \"district == 2\" - {'' if p_val > alpha else 'не'} нормальное (p_value = {p_val:.4f})')\n",
    "\n",
    "# 3\n",
    "p_val = stats.shapiro(df_d3)[1]\n",
    "print(f'Распределение \"s\" по \"district == 3\" - {'' if p_val > alpha else 'не'} нормальное (p_value = {p_val:.4f})')"
   ]
  },
  {
   "cell_type": "markdown",
   "metadata": {},
   "source": [
    "Имеем два нормальных распределения и одно явно не нормальное, что в совокупности следует воспринимать как не нормальное распределение"
   ]
  },
  {
   "cell_type": "markdown",
   "metadata": {},
   "source": [
    "Проверим схожесть медиан данных совокупностей по критерию Краскала-Уоллиса"
   ]
  },
  {
   "cell_type": "code",
   "execution_count": 489,
   "metadata": {},
   "outputs": [
    {
     "name": "stdout",
     "output_type": "stream",
     "text": [
      "Медианы распределения \"s\" по вариациям \"district\" -  схожи (p_value = 1.9e-01)\n"
     ]
    }
   ],
   "source": [
    "p_val = stats.mstats.kruskalwallis(df_d1, df_d2, df_d3)[1]\n",
    "print(f'Медианы распределения \"s\" по вариациям \"district\" - {'' if p_val > alpha else 'не'} схожи (p_value = {p_val:.1e})')"
   ]
  },
  {
   "cell_type": "markdown",
   "metadata": {},
   "source": [
    "# 4. Корреляционный анализ"
   ]
  },
  {
   "cell_type": "markdown",
   "metadata": {},
   "source": [
    "## 4.1. Анализ количественных и порядковых признаков"
   ]
  },
  {
   "cell_type": "code",
   "execution_count": 490,
   "metadata": {},
   "outputs": [
    {
     "data": {
      "image/png": "[encoded data removed]",
      "text/plain": [
       "<Figure size 640x480 with 1 Axes>"
      ]
     },
     "metadata": {},
     "output_type": "display_data"
    }
   ],
   "source": [
    "sns.scatterplot(data=df, x='s', y='rent', edgecolors='none')\n",
    "plt.title('Scatterplot взаимного распределения s и rent')\n",
    "plt.show()"
   ]
  },
  {
   "cell_type": "code",
   "execution_count": 491,
   "metadata": {},
   "outputs": [
    {
     "data": {
      "image/png": "[encoded data removed]",
      "text/plain": [
       "<Figure size 640x480 with 1 Axes>"
      ]
     },
     "metadata": {},
     "output_type": "display_data"
    }
   ],
   "source": [
    "sns.scatterplot(data=df, x='rooms', y='rent', edgecolors='none')\n",
    "plt.title('Scatterplot взаимного распределения rooms и rent')\n",
    "plt.show()"
   ]
  },
  {
   "cell_type": "code",
   "execution_count": 492,
   "metadata": {},
   "outputs": [
    {
     "name": "stderr",
     "output_type": "stream",
     "text": [
      "C:\\Users\\torgovatel\\AppData\\Local\\Temp\\ipykernel_17700\\2452242367.py:1: FutureWarning: \n",
      "\n",
      "Passing `palette` without assigning `hue` is deprecated and will be removed in v0.14.0. Assign the `x` variable to `hue` and set `legend=False` for the same effect.\n",
      "\n",
      "  sns.boxplot(data=df, x='rooms', y='rent', showmeans=True, palette=sns.color_palette('colorblind6', 3))\n"
     ]
    },
    {
     "data": {
      "image/png": "[encoded data removed]",
      "text/plain": [
       "<Figure size 640x480 with 1 Axes>"
      ]
     },
     "metadata": {},
     "output_type": "display_data"
    }
   ],
   "source": [
    "sns.boxplot(data=df, x='rooms', y='rent', showmeans=True, palette=sns.color_palette('colorblind6', 3))\n",
    "plt.title('Barplot распределения rent по rooms')\n",
    "plt.show()"
   ]
  },
  {
   "cell_type": "markdown",
   "metadata": {},
   "source": [
    "Рассчет корреляции Пирсона для непрерывных наблюдений (для эксперимента добавим rooms)"
   ]
  },
  {
   "cell_type": "code",
   "execution_count": 493,
   "metadata": {},
   "outputs": [
    {
     "data": {
      "text/html": [
       "<div>\n",
       "<style scoped>\n",
       "    .dataframe tbody tr th:only-of-type {\n",
       "        vertical-align: middle;\n",
       "    }\n",
       "\n",
       "    .dataframe tbody tr th {\n",
       "        vertical-align: top;\n",
       "    }\n",
       "\n",
       "    .dataframe thead th {\n",
       "        text-align: right;\n",
       "    }\n",
       "</style>\n",
       "<table border=\"1\" class=\"dataframe\">\n",
       "  <thead>\n",
       "    <tr style=\"text-align: right;\">\n",
       "      <th></th>\n",
       "      <th>rent</th>\n",
       "      <th>s</th>\n",
       "      <th>rooms</th>\n",
       "    </tr>\n",
       "  </thead>\n",
       "  <tbody>\n",
       "    <tr>\n",
       "      <th>rent</th>\n",
       "      <td>1.000000</td>\n",
       "      <td>0.823638</td>\n",
       "      <td>0.576642</td>\n",
       "    </tr>\n",
       "    <tr>\n",
       "      <th>s</th>\n",
       "      <td>0.823638</td>\n",
       "      <td>1.000000</td>\n",
       "      <td>0.718317</td>\n",
       "    </tr>\n",
       "    <tr>\n",
       "      <th>rooms</th>\n",
       "      <td>0.576642</td>\n",
       "      <td>0.718317</td>\n",
       "      <td>1.000000</td>\n",
       "    </tr>\n",
       "  </tbody>\n",
       "</table>\n",
       "</div>"
      ],
      "text/plain": [
       "           rent         s     rooms\n",
       "rent   1.000000  0.823638  0.576642\n",
       "s      0.823638  1.000000  0.718317\n",
       "rooms  0.576642  0.718317  1.000000"
      ]
     },
     "execution_count": 493,
     "metadata": {},
     "output_type": "execute_result"
    }
   ],
   "source": [
    "df[['rent','s','rooms']].corr()"
   ]
  },
  {
   "cell_type": "markdown",
   "metadata": {},
   "source": [
    "Рассчет ранговой корреляции Спирмена для непрерывных наблюдений (для эксперимента добавим непрерывные признаки)"
   ]
  },
  {
   "cell_type": "code",
   "execution_count": 494,
   "metadata": {},
   "outputs": [
    {
     "data": {
      "text/html": [
       "<div>\n",
       "<style scoped>\n",
       "    .dataframe tbody tr th:only-of-type {\n",
       "        vertical-align: middle;\n",
       "    }\n",
       "\n",
       "    .dataframe tbody tr th {\n",
       "        vertical-align: top;\n",
       "    }\n",
       "\n",
       "    .dataframe thead th {\n",
       "        text-align: right;\n",
       "    }\n",
       "</style>\n",
       "<table border=\"1\" class=\"dataframe\">\n",
       "  <thead>\n",
       "    <tr style=\"text-align: right;\">\n",
       "      <th></th>\n",
       "      <th>rent</th>\n",
       "      <th>s</th>\n",
       "      <th>rooms</th>\n",
       "      <th>floor</th>\n",
       "    </tr>\n",
       "  </thead>\n",
       "  <tbody>\n",
       "    <tr>\n",
       "      <th>rent</th>\n",
       "      <td>1.000000</td>\n",
       "      <td>0.854181</td>\n",
       "      <td>0.589476</td>\n",
       "      <td>0.372648</td>\n",
       "    </tr>\n",
       "    <tr>\n",
       "      <th>s</th>\n",
       "      <td>0.854181</td>\n",
       "      <td>1.000000</td>\n",
       "      <td>0.707821</td>\n",
       "      <td>0.401158</td>\n",
       "    </tr>\n",
       "    <tr>\n",
       "      <th>rooms</th>\n",
       "      <td>0.589476</td>\n",
       "      <td>0.707821</td>\n",
       "      <td>1.000000</td>\n",
       "      <td>0.136588</td>\n",
       "    </tr>\n",
       "    <tr>\n",
       "      <th>floor</th>\n",
       "      <td>0.372648</td>\n",
       "      <td>0.401158</td>\n",
       "      <td>0.136588</td>\n",
       "      <td>1.000000</td>\n",
       "    </tr>\n",
       "  </tbody>\n",
       "</table>\n",
       "</div>"
      ],
      "text/plain": [
       "           rent         s     rooms     floor\n",
       "rent   1.000000  0.854181  0.589476  0.372648\n",
       "s      0.854181  1.000000  0.707821  0.401158\n",
       "rooms  0.589476  0.707821  1.000000  0.136588\n",
       "floor  0.372648  0.401158  0.136588  1.000000"
      ]
     },
     "execution_count": 494,
     "metadata": {},
     "output_type": "execute_result"
    }
   ],
   "source": [
    "df[['rent','s','rooms','floor']].corr(method='spearman')"
   ]
  },
  {
   "cell_type": "markdown",
   "metadata": {},
   "source": [
    "Визуализация"
   ]
  },
  {
   "cell_type": "code",
   "execution_count": 495,
   "metadata": {},
   "outputs": [
    {
     "data": {
      "image/png": "[encoded data removed]",
      "text/plain": [
       "<Figure size 640x480 with 2 Axes>"
      ]
     },
     "metadata": {},
     "output_type": "display_data"
    }
   ],
   "source": [
    "num_cols = ['rent', 's', 'rooms']\n",
    "hm = sns.heatmap(df[num_cols].corr(), annot=True)\n",
    "plt.show()"
   ]
  },
  {
   "cell_type": "code",
   "execution_count": 496,
   "metadata": {},
   "outputs": [
    {
     "data": {
      "image/png": "[encoded data removed]",
      "text/plain": [
       "<Figure size 640x480 with 2 Axes>"
      ]
     },
     "metadata": {},
     "output_type": "display_data"
    }
   ],
   "source": [
    "ran_cols = ['rent', 's','rooms','floor']\n",
    "hm = sns.heatmap(df[ran_cols].corr(method = 'spearman'), annot=True)"
   ]
  },
  {
   "cell_type": "markdown",
   "metadata": {},
   "source": [
    "Проверим гипотезу $H_0$ о нулевой корреляции для некоторых выявившихся пар признаков"
   ]
  },
  {
   "cell_type": "code",
   "execution_count": 497,
   "metadata": {},
   "outputs": [
    {
     "name": "stdout",
     "output_type": "stream",
     "text": [
      "Теоретическая корреляция признаков (rent, s) != 0 (p_value = 7.9e-33)\n"
     ]
    }
   ],
   "source": [
    "p_val = scipy.stats.pearsonr(df['rent'], df['s'])[1]\n",
    "\n",
    "print(f'Теоретическая корреляция признаков (rent, s) {'=' if p_val > alpha else '!='} 0 (p_value = {p_val:.1e})')"
   ]
  },
  {
   "cell_type": "code",
   "execution_count": 498,
   "metadata": {},
   "outputs": [
    {
     "name": "stdout",
     "output_type": "stream",
     "text": [
      "Теоретическая корреляция признаков (rent, rooms) != 0 (p_value = 1.1e-12)\n"
     ]
    }
   ],
   "source": [
    "p_val = scipy.stats.pearsonr(df['rent'], df['rooms'])[1]\n",
    "\n",
    "print(f'Теоретическая корреляция признаков (rent, rooms) {'=' if p_val > alpha else '!='} 0 (p_value = {p_val:.1e})')"
   ]
  },
  {
   "cell_type": "code",
   "execution_count": 499,
   "metadata": {},
   "outputs": [
    {
     "name": "stdout",
     "output_type": "stream",
     "text": [
      "Теоретическая корреляция признаков (rent, floor) != 0 (p_value = 1.5e-05)\n"
     ]
    }
   ],
   "source": [
    "p_val = scipy.stats.spearmanr(df['rent'], df['floor'])[1]\n",
    "\n",
    "print(f'Теоретическая корреляция признаков (rent, floor) {'=' if p_val > alpha else '!='} 0 (p_value = {p_val:.1e})')"
   ]
  },
  {
   "cell_type": "code",
   "execution_count": 500,
   "metadata": {},
   "outputs": [
    {
     "name": "stdout",
     "output_type": "stream",
     "text": [
      "Теоретическая корреляция признаков (s, rooms) != 0 (p_value = 9.5e-21)\n"
     ]
    }
   ],
   "source": [
    "p_val = scipy.stats.spearmanr(df['s'], df['rooms'])[1]\n",
    "\n",
    "print(f'Теоретическая корреляция признаков (s, rooms) {'=' if p_val > alpha else '!='} 0 (p_value = {p_val:.1e})')"
   ]
  },
  {
   "cell_type": "markdown",
   "metadata": {},
   "source": [
    "## 4.2. Связь категориальных признаков"
   ]
  },
  {
   "cell_type": "markdown",
   "metadata": {},
   "source": [
    "Анализируем через таблицы сопряженности"
   ]
  },
  {
   "cell_type": "markdown",
   "metadata": {},
   "source": [
    "### Связь walls и furniture"
   ]
  },
  {
   "cell_type": "code",
   "execution_count": 501,
   "metadata": {},
   "outputs": [
    {
     "data": {
      "text/html": [
       "<div>\n",
       "<style scoped>\n",
       "    .dataframe tbody tr th:only-of-type {\n",
       "        vertical-align: middle;\n",
       "    }\n",
       "\n",
       "    .dataframe tbody tr th {\n",
       "        vertical-align: top;\n",
       "    }\n",
       "\n",
       "    .dataframe thead th {\n",
       "        text-align: right;\n",
       "    }\n",
       "</style>\n",
       "<table border=\"1\" class=\"dataframe\">\n",
       "  <thead>\n",
       "    <tr style=\"text-align: right;\">\n",
       "      <th>furniture</th>\n",
       "      <th>0</th>\n",
       "      <th>1</th>\n",
       "    </tr>\n",
       "    <tr>\n",
       "      <th>walls</th>\n",
       "      <th></th>\n",
       "      <th></th>\n",
       "    </tr>\n",
       "  </thead>\n",
       "  <tbody>\n",
       "    <tr>\n",
       "      <th>0</th>\n",
       "      <td>7</td>\n",
       "      <td>42</td>\n",
       "    </tr>\n",
       "    <tr>\n",
       "      <th>1</th>\n",
       "      <td>14</td>\n",
       "      <td>65</td>\n",
       "    </tr>\n",
       "  </tbody>\n",
       "</table>\n",
       "</div>"
      ],
      "text/plain": [
       "furniture   0   1\n",
       "walls            \n",
       "0           7  42\n",
       "1          14  65"
      ]
     },
     "execution_count": 501,
     "metadata": {},
     "output_type": "execute_result"
    }
   ],
   "source": [
    "WF = pd.crosstab(df['walls'], df['furniture'])\n",
    "WF"
   ]
  },
  {
   "cell_type": "code",
   "execution_count": 502,
   "metadata": {},
   "outputs": [
    {
     "data": {
      "image/png": "[encoded data removed]",
      "text/plain": [
       "<Figure size 640x480 with 1 Axes>"
      ]
     },
     "metadata": {},
     "output_type": "display_data"
    }
   ],
   "source": [
    "sns.countplot(x=df['walls'], hue=df['furniture'])\n",
    "plt.title('Частота квартир по вариациям walls и furniture')\n",
    "plt.show()"
   ]
  },
  {
   "cell_type": "markdown",
   "metadata": {},
   "source": [
    "Проведем тест по $H_0$ - независимость распределений в вероятностном смысле"
   ]
  },
  {
   "cell_type": "code",
   "execution_count": 503,
   "metadata": {},
   "outputs": [
    {
     "name": "stdout",
     "output_type": "stream",
     "text": [
      "статистика: 0.07006189946191926\n",
      "степени свободы: 1\n",
      "p-value: 0.7912466759255427\n",
      "\n",
      "Зависимость между признками (walls, furniture) присутствует (p_value = 7.9e-01)\n"
     ]
    }
   ],
   "source": [
    "chi2, p_val, f, expected = scipy.stats.chi2_contingency(WF)\n",
    "output = \"статистика: {}\\nстепени свободы: {}\\np-value: {}\\n\"\n",
    "\n",
    "print(output.format( chi2, f, p_val))\n",
    "print(f'Зависимость между признками (walls, furniture) {'присутствует' if p_val >= alpha else 'отсутствует'} (p_value = {p_val:.1e})')"
   ]
  },
  {
   "cell_type": "markdown",
   "metadata": {},
   "source": [
    "Причем исходя из величины p-value видно, что эта зависимость очень надежная"
   ]
  },
  {
   "cell_type": "markdown",
   "metadata": {},
   "source": [
    "### Связь walls и district"
   ]
  },
  {
   "cell_type": "code",
   "execution_count": 504,
   "metadata": {},
   "outputs": [
    {
     "data": {
      "text/html": [
       "<div>\n",
       "<style scoped>\n",
       "    .dataframe tbody tr th:only-of-type {\n",
       "        vertical-align: middle;\n",
       "    }\n",
       "\n",
       "    .dataframe tbody tr th {\n",
       "        vertical-align: top;\n",
       "    }\n",
       "\n",
       "    .dataframe thead th {\n",
       "        text-align: right;\n",
       "    }\n",
       "</style>\n",
       "<table border=\"1\" class=\"dataframe\">\n",
       "  <thead>\n",
       "    <tr style=\"text-align: right;\">\n",
       "      <th>district</th>\n",
       "      <th>1</th>\n",
       "      <th>2</th>\n",
       "      <th>3</th>\n",
       "    </tr>\n",
       "    <tr>\n",
       "      <th>walls</th>\n",
       "      <th></th>\n",
       "      <th></th>\n",
       "      <th></th>\n",
       "    </tr>\n",
       "  </thead>\n",
       "  <tbody>\n",
       "    <tr>\n",
       "      <th>0</th>\n",
       "      <td>9</td>\n",
       "      <td>23</td>\n",
       "      <td>17</td>\n",
       "    </tr>\n",
       "    <tr>\n",
       "      <th>1</th>\n",
       "      <td>28</td>\n",
       "      <td>20</td>\n",
       "      <td>31</td>\n",
       "    </tr>\n",
       "  </tbody>\n",
       "</table>\n",
       "</div>"
      ],
      "text/plain": [
       "district   1   2   3\n",
       "walls               \n",
       "0          9  23  17\n",
       "1         28  20  31"
      ]
     },
     "execution_count": 504,
     "metadata": {},
     "output_type": "execute_result"
    }
   ],
   "source": [
    "WD = pd.crosstab(df['walls'], df['district'])\n",
    "WD"
   ]
  },
  {
   "cell_type": "code",
   "execution_count": 505,
   "metadata": {},
   "outputs": [
    {
     "data": {
      "image/png": "[encoded data removed]",
      "text/plain": [
       "<Figure size 640x480 with 1 Axes>"
      ]
     },
     "metadata": {},
     "output_type": "display_data"
    }
   ],
   "source": [
    "sns.countplot(x=df['district'], hue=df['walls'])\n",
    "plt.title('Частота квартир по вариациям walls и district')\n",
    "plt.show()"
   ]
  },
  {
   "cell_type": "markdown",
   "metadata": {},
   "source": [
    "Проведем тест по $H_0$ - независимость распределений в вероятностном смысле"
   ]
  },
  {
   "cell_type": "code",
   "execution_count": 506,
   "metadata": {},
   "outputs": [
    {
     "name": "stdout",
     "output_type": "stream",
     "text": [
      "статистика: 7.426068544197986\n",
      "степени свободы: 2\n",
      "p-value: 0.024403364371774646\n",
      "\n",
      "Зависимость между признками (walls, district) отсутствует (p_value = 2.4e-02)\n"
     ]
    }
   ],
   "source": [
    "chi2, p_val, f, expected = scipy.stats.chi2_contingency(WD)\n",
    "output = \"статистика: {}\\nстепени свободы: {}\\np-value: {}\\n\"\n",
    "\n",
    "print(output.format( chi2, f, p_val))\n",
    "print(f'Зависимость между признками (walls, district) {'присутствует' if p_val >= alpha else 'отсутствует'} (p_value = {p_val:.1e})')"
   ]
  },
  {
   "cell_type": "markdown",
   "metadata": {},
   "source": [
    "# 5. Регрессионный анализ"
   ]
  },
  {
   "cell_type": "markdown",
   "metadata": {},
   "source": [
    "## 5.1. Парная регрессия"
   ]
  },
  {
   "cell_type": "markdown",
   "metadata": {},
   "source": [
    "Проведем визуализацию по непрерывным признакам, где связь видна невооруженным взглядом"
   ]
  },
  {
   "cell_type": "code",
   "execution_count": 507,
   "metadata": {},
   "outputs": [
    {
     "data": {
      "image/png": "[encoded data removed]",
      "text/plain": [
       "<Figure size 600x600 with 3 Axes>"
      ]
     },
     "metadata": {},
     "output_type": "display_data"
    }
   ],
   "source": [
    "sns.jointplot(data=df, x='s', y='rent', kind='reg')\n",
    "plt.show()"
   ]
  },
  {
   "cell_type": "markdown",
   "metadata": {},
   "source": [
    "Построим модель парной регрессии"
   ]
  },
  {
   "cell_type": "code",
   "execution_count": 508,
   "metadata": {},
   "outputs": [],
   "source": [
    "LR = lm.LinearRegression()\n",
    "pair_model = LR.fit(df[['s']], df[['rent']])"
   ]
  },
  {
   "cell_type": "code",
   "execution_count": 509,
   "metadata": {},
   "outputs": [
    {
     "name": "stdout",
     "output_type": "stream",
     "text": [
      "Уравнение: 292.443*x + 7196.130\n"
     ]
    }
   ],
   "source": [
    "print(f'Уравнение: {pair_model.coef_[0][0]:.3f}*x + {pair_model.intercept_[0]:.3f}')"
   ]
  },
  {
   "cell_type": "markdown",
   "metadata": {},
   "source": [
    "Оцени коэффициент детерминации"
   ]
  },
  {
   "cell_type": "code",
   "execution_count": 510,
   "metadata": {},
   "outputs": [
    {
     "data": {
      "text/plain": [
       "0.678379381541778"
      ]
     },
     "execution_count": 510,
     "metadata": {},
     "output_type": "execute_result"
    }
   ],
   "source": [
    "r2 = pair_model.score(df[['s']], df[['rent']])\n",
    "r2"
   ]
  },
  {
   "cell_type": "markdown",
   "metadata": {},
   "source": [
    "Получается что на $\\approx 67.83%$ прогноз модели обусловлен признаками, а остаток - шумом"
   ]
  },
  {
   "cell_type": "markdown",
   "metadata": {},
   "source": [
    "## 5.2. Парная регрессия (OLS). Статистический подход."
   ]
  },
  {
   "cell_type": "code",
   "execution_count": 511,
   "metadata": {},
   "outputs": [],
   "source": [
    "import statsmodels.api as sm\n",
    "import statsmodels.formula.api as smf"
   ]
  },
  {
   "cell_type": "code",
   "execution_count": 512,
   "metadata": {},
   "outputs": [
    {
     "data": {
      "text/html": [
       "<table class=\"simpletable\">\n",
       "<caption>OLS Regression Results</caption>\n",
       "<tr>\n",
       "  <th>Dep. Variable:</th>          <td>rent</td>       <th>  R-squared:         </th> <td>   0.678</td>\n",
       "</tr>\n",
       "<tr>\n",
       "  <th>Model:</th>                   <td>OLS</td>       <th>  Adj. R-squared:    </th> <td>   0.676</td>\n",
       "</tr>\n",
       "<tr>\n",
       "  <th>Method:</th>             <td>Least Squares</td>  <th>  F-statistic:       </th> <td>   265.8</td>\n",
       "</tr>\n",
       "<tr>\n",
       "  <th>Date:</th>             <td>Thu, 06 Feb 2025</td> <th>  Prob (F-statistic):</th> <td>7.87e-33</td>\n",
       "</tr>\n",
       "<tr>\n",
       "  <th>Time:</th>                 <td>19:57:17</td>     <th>  Log-Likelihood:    </th> <td> -1210.1</td>\n",
       "</tr>\n",
       "<tr>\n",
       "  <th>No. Observations:</th>      <td>   128</td>      <th>  AIC:               </th> <td>   2424.</td>\n",
       "</tr>\n",
       "<tr>\n",
       "  <th>Df Residuals:</th>          <td>   126</td>      <th>  BIC:               </th> <td>   2430.</td>\n",
       "</tr>\n",
       "<tr>\n",
       "  <th>Df Model:</th>              <td>     1</td>      <th>                     </th>     <td> </td>   \n",
       "</tr>\n",
       "<tr>\n",
       "  <th>Covariance Type:</th>      <td>nonrobust</td>    <th>                     </th>     <td> </td>   \n",
       "</tr>\n",
       "</table>\n",
       "<table class=\"simpletable\">\n",
       "<tr>\n",
       "      <td></td>         <th>coef</th>     <th>std err</th>      <th>t</th>      <th>P>|t|</th>  <th>[0.025</th>    <th>0.975]</th>  \n",
       "</tr>\n",
       "<tr>\n",
       "  <th>Intercept</th> <td> 7196.1304</td> <td>  701.312</td> <td>   10.261</td> <td> 0.000</td> <td> 5808.255</td> <td> 8584.006</td>\n",
       "</tr>\n",
       "<tr>\n",
       "  <th>s</th>         <td>  292.4432</td> <td>   17.939</td> <td>   16.302</td> <td> 0.000</td> <td>  256.943</td> <td>  327.943</td>\n",
       "</tr>\n",
       "</table>\n",
       "<table class=\"simpletable\">\n",
       "<tr>\n",
       "  <th>Omnibus:</th>       <td> 4.006</td> <th>  Durbin-Watson:     </th> <td>   1.879</td>\n",
       "</tr>\n",
       "<tr>\n",
       "  <th>Prob(Omnibus):</th> <td> 0.135</td> <th>  Jarque-Bera (JB):  </th> <td>   3.839</td>\n",
       "</tr>\n",
       "<tr>\n",
       "  <th>Skew:</th>          <td> 0.246</td> <th>  Prob(JB):          </th> <td>   0.147</td>\n",
       "</tr>\n",
       "<tr>\n",
       "  <th>Kurtosis:</th>      <td> 3.691</td> <th>  Cond. No.          </th> <td>    99.7</td>\n",
       "</tr>\n",
       "</table><br/><br/>Notes:<br/>[1] Standard Errors assume that the covariance matrix of the errors is correctly specified."
      ],
      "text/latex": [
       "\\begin{center}\n",
       "\\begin{tabular}{lclc}\n",
       "\\toprule\n",
       "\\textbf{Dep. Variable:}    &       rent       & \\textbf{  R-squared:         } &     0.678   \\\\\n",
       "\\textbf{Model:}            &       OLS        & \\textbf{  Adj. R-squared:    } &     0.676   \\\\\n",
       "\\textbf{Method:}           &  Least Squares   & \\textbf{  F-statistic:       } &     265.8   \\\\\n",
       "\\textbf{Date:}             & Thu, 06 Feb 2025 & \\textbf{  Prob (F-statistic):} &  7.87e-33   \\\\\n",
       "\\textbf{Time:}             &     19:57:17     & \\textbf{  Log-Likelihood:    } &   -1210.1   \\\\\n",
       "\\textbf{No. Observations:} &         128      & \\textbf{  AIC:               } &     2424.   \\\\\n",
       "\\textbf{Df Residuals:}     &         126      & \\textbf{  BIC:               } &     2430.   \\\\\n",
       "\\textbf{Df Model:}         &           1      & \\textbf{                     } &             \\\\\n",
       "\\textbf{Covariance Type:}  &    nonrobust     & \\textbf{                     } &             \\\\\n",
       "\\bottomrule\n",
       "\\end{tabular}\n",
       "\\begin{tabular}{lcccccc}\n",
       "                   & \\textbf{coef} & \\textbf{std err} & \\textbf{t} & \\textbf{P$> |$t$|$} & \\textbf{[0.025} & \\textbf{0.975]}  \\\\\n",
       "\\midrule\n",
       "\\textbf{Intercept} &    7196.1304  &      701.312     &    10.261  &         0.000        &     5808.255    &     8584.006     \\\\\n",
       "\\textbf{s}         &     292.4432  &       17.939     &    16.302  &         0.000        &      256.943    &      327.943     \\\\\n",
       "\\bottomrule\n",
       "\\end{tabular}\n",
       "\\begin{tabular}{lclc}\n",
       "\\textbf{Omnibus:}       &  4.006 & \\textbf{  Durbin-Watson:     } &    1.879  \\\\\n",
       "\\textbf{Prob(Omnibus):} &  0.135 & \\textbf{  Jarque-Bera (JB):  } &    3.839  \\\\\n",
       "\\textbf{Skew:}          &  0.246 & \\textbf{  Prob(JB):          } &    0.147  \\\\\n",
       "\\textbf{Kurtosis:}      &  3.691 & \\textbf{  Cond. No.          } &     99.7  \\\\\n",
       "\\bottomrule\n",
       "\\end{tabular}\n",
       "%\\caption{OLS Regression Results}\n",
       "\\end{center}\n",
       "\n",
       "Notes: \\newline\n",
       " [1] Standard Errors assume that the covariance matrix of the errors is correctly specified."
      ],
      "text/plain": [
       "<class 'statsmodels.iolib.summary.Summary'>\n",
       "\"\"\"\n",
       "                            OLS Regression Results                            \n",
       "==============================================================================\n",
       "Dep. Variable:                   rent   R-squared:                       0.678\n",
       "Model:                            OLS   Adj. R-squared:                  0.676\n",
       "Method:                 Least Squares   F-statistic:                     265.8\n",
       "Date:                Thu, 06 Feb 2025   Prob (F-statistic):           7.87e-33\n",
       "Time:                        19:57:17   Log-Likelihood:                -1210.1\n",
       "No. Observations:                 128   AIC:                             2424.\n",
       "Df Residuals:                     126   BIC:                             2430.\n",
       "Df Model:                           1                                         \n",
       "Covariance Type:            nonrobust                                         \n",
       "==============================================================================\n",
       "                 coef    std err          t      P>|t|      [0.025      0.975]\n",
       "------------------------------------------------------------------------------\n",
       "Intercept   7196.1304    701.312     10.261      0.000    5808.255    8584.006\n",
       "s            292.4432     17.939     16.302      0.000     256.943     327.943\n",
       "==============================================================================\n",
       "Omnibus:                        4.006   Durbin-Watson:                   1.879\n",
       "Prob(Omnibus):                  0.135   Jarque-Bera (JB):                3.839\n",
       "Skew:                           0.246   Prob(JB):                        0.147\n",
       "Kurtosis:                       3.691   Cond. No.                         99.7\n",
       "==============================================================================\n",
       "\n",
       "Notes:\n",
       "[1] Standard Errors assume that the covariance matrix of the errors is correctly specified.\n",
       "\"\"\""
      ]
     },
     "execution_count": 512,
     "metadata": {},
     "output_type": "execute_result"
    }
   ],
   "source": [
    "pair_res = smf.ols('rent ~ s', data=df).fit()\n",
    "pair_res.summary()"
   ]
  },
  {
   "cell_type": "markdown",
   "metadata": {},
   "source": [
    "**На основе summary можем сделать выводы о параметрах модели:**  \n",
    "1. F-statistic p_value $< \\alpha=0.05\\ \\Rightarrow$ отклоняем гипотезу $H_0:\\ R^2=0$ о неадекватности модели по теоретической детерминации равной нулю\n",
    "2. Параметры уравнения оба имеют p_value $<\\alpha=0.05 \\Rightarrow$ отклоняем гипотезу $H_0:\\ a_k=0$  \n",
    "\n",
    "**И выводы об остатках:**  \n",
    "1. Статистика Дарбина-Ватсона, принимающая значения в интервале $[0,4]$ в данном случае $\\approx 2 \\Rightarrow$ будем считать что автокорреляции остатков нет\n",
    "2. Небольшая правостороняя ассиметрия остатков\n",
    "3. Эксцесс около 3, что говорит о близости к нормальному распределению\n",
    "4. По критерию Жарка-Бера гипотеза $H_0$ - данные распределены по нормальному закону, принимается, т.к. p_value $\\ge \\alpha=0.05$\n"
   ]
  },
  {
   "cell_type": "markdown",
   "metadata": {},
   "source": [
    "## 5.3. Множественная регрессия"
   ]
  },
  {
   "cell_type": "code",
   "execution_count": 513,
   "metadata": {},
   "outputs": [
    {
     "data": {
      "text/html": [
       "<div>\n",
       "<style scoped>\n",
       "    .dataframe tbody tr th:only-of-type {\n",
       "        vertical-align: middle;\n",
       "    }\n",
       "\n",
       "    .dataframe tbody tr th {\n",
       "        vertical-align: top;\n",
       "    }\n",
       "\n",
       "    .dataframe thead th {\n",
       "        text-align: right;\n",
       "    }\n",
       "</style>\n",
       "<table border=\"1\" class=\"dataframe\">\n",
       "  <thead>\n",
       "    <tr style=\"text-align: right;\">\n",
       "      <th></th>\n",
       "      <th>s</th>\n",
       "      <th>rooms</th>\n",
       "      <th>floor</th>\n",
       "      <th>walls</th>\n",
       "      <th>furniture</th>\n",
       "    </tr>\n",
       "  </thead>\n",
       "  <tbody>\n",
       "    <tr>\n",
       "      <th>0</th>\n",
       "      <td>35.0</td>\n",
       "      <td>1</td>\n",
       "      <td>5</td>\n",
       "      <td>1</td>\n",
       "      <td>1</td>\n",
       "    </tr>\n",
       "    <tr>\n",
       "      <th>1</th>\n",
       "      <td>31.0</td>\n",
       "      <td>1</td>\n",
       "      <td>2</td>\n",
       "      <td>0</td>\n",
       "      <td>1</td>\n",
       "    </tr>\n",
       "    <tr>\n",
       "      <th>2</th>\n",
       "      <td>30.0</td>\n",
       "      <td>1</td>\n",
       "      <td>4</td>\n",
       "      <td>1</td>\n",
       "      <td>1</td>\n",
       "    </tr>\n",
       "    <tr>\n",
       "      <th>3</th>\n",
       "      <td>55.0</td>\n",
       "      <td>2</td>\n",
       "      <td>1</td>\n",
       "      <td>1</td>\n",
       "      <td>1</td>\n",
       "    </tr>\n",
       "    <tr>\n",
       "      <th>4</th>\n",
       "      <td>19.0</td>\n",
       "      <td>1</td>\n",
       "      <td>3</td>\n",
       "      <td>1</td>\n",
       "      <td>1</td>\n",
       "    </tr>\n",
       "    <tr>\n",
       "      <th>...</th>\n",
       "      <td>...</td>\n",
       "      <td>...</td>\n",
       "      <td>...</td>\n",
       "      <td>...</td>\n",
       "      <td>...</td>\n",
       "    </tr>\n",
       "    <tr>\n",
       "      <th>123</th>\n",
       "      <td>54.0</td>\n",
       "      <td>2</td>\n",
       "      <td>7</td>\n",
       "      <td>1</td>\n",
       "      <td>1</td>\n",
       "    </tr>\n",
       "    <tr>\n",
       "      <th>124</th>\n",
       "      <td>54.0</td>\n",
       "      <td>2</td>\n",
       "      <td>1</td>\n",
       "      <td>1</td>\n",
       "      <td>1</td>\n",
       "    </tr>\n",
       "    <tr>\n",
       "      <th>125</th>\n",
       "      <td>54.0</td>\n",
       "      <td>2</td>\n",
       "      <td>3</td>\n",
       "      <td>0</td>\n",
       "      <td>1</td>\n",
       "    </tr>\n",
       "    <tr>\n",
       "      <th>126</th>\n",
       "      <td>12.0</td>\n",
       "      <td>1</td>\n",
       "      <td>4</td>\n",
       "      <td>1</td>\n",
       "      <td>0</td>\n",
       "    </tr>\n",
       "    <tr>\n",
       "      <th>127</th>\n",
       "      <td>68.0</td>\n",
       "      <td>2</td>\n",
       "      <td>4</td>\n",
       "      <td>0</td>\n",
       "      <td>1</td>\n",
       "    </tr>\n",
       "  </tbody>\n",
       "</table>\n",
       "<p>128 rows × 5 columns</p>\n",
       "</div>"
      ],
      "text/plain": [
       "        s  rooms  floor  walls  furniture\n",
       "0    35.0      1      5      1          1\n",
       "1    31.0      1      2      0          1\n",
       "2    30.0      1      4      1          1\n",
       "3    55.0      2      1      1          1\n",
       "4    19.0      1      3      1          1\n",
       "..    ...    ...    ...    ...        ...\n",
       "123  54.0      2      7      1          1\n",
       "124  54.0      2      1      1          1\n",
       "125  54.0      2      3      0          1\n",
       "126  12.0      1      4      1          0\n",
       "127  68.0      2      4      0          1\n",
       "\n",
       "[128 rows x 5 columns]"
      ]
     },
     "execution_count": 513,
     "metadata": {},
     "output_type": "execute_result"
    }
   ],
   "source": [
    "X = df[['s','rooms','floor','walls','furniture']]\n",
    "X"
   ]
  },
  {
   "cell_type": "code",
   "execution_count": 514,
   "metadata": {},
   "outputs": [
    {
     "data": {
      "text/html": [
       "<div>\n",
       "<style scoped>\n",
       "    .dataframe tbody tr th:only-of-type {\n",
       "        vertical-align: middle;\n",
       "    }\n",
       "\n",
       "    .dataframe tbody tr th {\n",
       "        vertical-align: top;\n",
       "    }\n",
       "\n",
       "    .dataframe thead th {\n",
       "        text-align: right;\n",
       "    }\n",
       "</style>\n",
       "<table border=\"1\" class=\"dataframe\">\n",
       "  <thead>\n",
       "    <tr style=\"text-align: right;\">\n",
       "      <th></th>\n",
       "      <th>rent</th>\n",
       "    </tr>\n",
       "  </thead>\n",
       "  <tbody>\n",
       "    <tr>\n",
       "      <th>0</th>\n",
       "      <td>15000</td>\n",
       "    </tr>\n",
       "    <tr>\n",
       "      <th>1</th>\n",
       "      <td>16500</td>\n",
       "    </tr>\n",
       "    <tr>\n",
       "      <th>2</th>\n",
       "      <td>18000</td>\n",
       "    </tr>\n",
       "    <tr>\n",
       "      <th>3</th>\n",
       "      <td>30000</td>\n",
       "    </tr>\n",
       "    <tr>\n",
       "      <th>4</th>\n",
       "      <td>12000</td>\n",
       "    </tr>\n",
       "    <tr>\n",
       "      <th>...</th>\n",
       "      <td>...</td>\n",
       "    </tr>\n",
       "    <tr>\n",
       "      <th>123</th>\n",
       "      <td>30000</td>\n",
       "    </tr>\n",
       "    <tr>\n",
       "      <th>124</th>\n",
       "      <td>28500</td>\n",
       "    </tr>\n",
       "    <tr>\n",
       "      <th>125</th>\n",
       "      <td>19500</td>\n",
       "    </tr>\n",
       "    <tr>\n",
       "      <th>126</th>\n",
       "      <td>10500</td>\n",
       "    </tr>\n",
       "    <tr>\n",
       "      <th>127</th>\n",
       "      <td>19500</td>\n",
       "    </tr>\n",
       "  </tbody>\n",
       "</table>\n",
       "<p>128 rows × 1 columns</p>\n",
       "</div>"
      ],
      "text/plain": [
       "      rent\n",
       "0    15000\n",
       "1    16500\n",
       "2    18000\n",
       "3    30000\n",
       "4    12000\n",
       "..     ...\n",
       "123  30000\n",
       "124  28500\n",
       "125  19500\n",
       "126  10500\n",
       "127  19500\n",
       "\n",
       "[128 rows x 1 columns]"
      ]
     },
     "execution_count": 514,
     "metadata": {},
     "output_type": "execute_result"
    }
   ],
   "source": [
    "Y = df[['rent']]\n",
    "Y"
   ]
  },
  {
   "cell_type": "code",
   "execution_count": 515,
   "metadata": {},
   "outputs": [
    {
     "name": "stdout",
     "output_type": "stream",
     "text": [
      "Свободный член уравнения:\n",
      "5150.136081894318\n",
      "\n",
      "Коэффициенты уравнения:\n",
      "291.0669311990992\n",
      "-122.86079126357578\n",
      "-12.822905917068482\n",
      "1758.5656735555858\n",
      "1470.2907805315247\n"
     ]
    }
   ],
   "source": [
    "mlt_model = LR.fit(X, Y)\n",
    "\n",
    "print('Свободный член уравнения:')\n",
    "print(mlt_model.intercept_[0])\n",
    "print()\n",
    "\n",
    "print('Коэффициенты уравнения:')\n",
    "print(*mlt_model.coef_[0], sep='\\n')"
   ]
  },
  {
   "cell_type": "markdown",
   "metadata": {},
   "source": [
    "Посмотрим на коэффициент детерминации модели"
   ]
  },
  {
   "cell_type": "code",
   "execution_count": 516,
   "metadata": {},
   "outputs": [
    {
     "data": {
      "text/plain": [
       "0.7115775361988548"
      ]
     },
     "execution_count": 516,
     "metadata": {},
     "output_type": "execute_result"
    }
   ],
   "source": [
    "r2 = mlt_model.score(X,Y)\n",
    "r2"
   ]
  },
  {
   "cell_type": "markdown",
   "metadata": {},
   "source": [
    "Произведем прогноз"
   ]
  },
  {
   "cell_type": "code",
   "execution_count": 517,
   "metadata": {},
   "outputs": [
    {
     "name": "stdout",
     "output_type": "stream",
     "text": [
      "Прогноз цены:  23787.0\n"
     ]
    },
    {
     "name": "stderr",
     "output_type": "stream",
     "text": [
      "c:\\Users\\torgovatel\\AppData\\Local\\Programs\\Python\\Python312\\Lib\\site-packages\\sklearn\\utils\\validation.py:2739: UserWarning: X does not have valid feature names, but LinearRegression was fitted with feature names\n",
      "  warnings.warn(\n"
     ]
    }
   ],
   "source": [
    "x_new = [[54, 2, 5, 1, 1]] # s, rooms, floor, walls, furniture\n",
    "y_new = mlt_model.predict(x_new)[0][0]\n",
    "\n",
    "print(\"Прогноз цены: \", y_new.round(0))"
   ]
  },
  {
   "cell_type": "markdown",
   "metadata": {},
   "source": [
    "### 5.4. Множественная регрессия (OLS)"
   ]
  },
  {
   "cell_type": "code",
   "execution_count": 518,
   "metadata": {},
   "outputs": [
    {
     "data": {
      "text/html": [
       "<table class=\"simpletable\">\n",
       "<caption>OLS Regression Results</caption>\n",
       "<tr>\n",
       "  <th>Dep. Variable:</th>          <td>rent</td>       <th>  R-squared:         </th> <td>   0.712</td>\n",
       "</tr>\n",
       "<tr>\n",
       "  <th>Model:</th>                   <td>OLS</td>       <th>  Adj. R-squared:    </th> <td>   0.700</td>\n",
       "</tr>\n",
       "<tr>\n",
       "  <th>Method:</th>             <td>Least Squares</td>  <th>  F-statistic:       </th> <td>   60.20</td>\n",
       "</tr>\n",
       "<tr>\n",
       "  <th>Date:</th>             <td>Thu, 06 Feb 2025</td> <th>  Prob (F-statistic):</th> <td>2.58e-31</td>\n",
       "</tr>\n",
       "<tr>\n",
       "  <th>Time:</th>                 <td>19:57:17</td>     <th>  Log-Likelihood:    </th> <td> -1203.2</td>\n",
       "</tr>\n",
       "<tr>\n",
       "  <th>No. Observations:</th>      <td>   128</td>      <th>  AIC:               </th> <td>   2418.</td>\n",
       "</tr>\n",
       "<tr>\n",
       "  <th>Df Residuals:</th>          <td>   122</td>      <th>  BIC:               </th> <td>   2435.</td>\n",
       "</tr>\n",
       "<tr>\n",
       "  <th>Df Model:</th>              <td>     5</td>      <th>                     </th>     <td> </td>   \n",
       "</tr>\n",
       "<tr>\n",
       "  <th>Covariance Type:</th>      <td>nonrobust</td>    <th>                     </th>     <td> </td>   \n",
       "</tr>\n",
       "</table>\n",
       "<table class=\"simpletable\">\n",
       "<tr>\n",
       "      <td></td>         <th>coef</th>     <th>std err</th>      <th>t</th>      <th>P>|t|</th>  <th>[0.025</th>    <th>0.975]</th>  \n",
       "</tr>\n",
       "<tr>\n",
       "  <th>Intercept</th> <td> 5150.1361</td> <td>  957.620</td> <td>    5.378</td> <td> 0.000</td> <td> 3254.432</td> <td> 7045.840</td>\n",
       "</tr>\n",
       "<tr>\n",
       "  <th>s</th>         <td>  291.0669</td> <td>   28.880</td> <td>   10.079</td> <td> 0.000</td> <td>  233.897</td> <td>  348.237</td>\n",
       "</tr>\n",
       "<tr>\n",
       "  <th>rooms</th>     <td> -122.8608</td> <td>  675.669</td> <td>   -0.182</td> <td> 0.856</td> <td>-1460.415</td> <td> 1214.694</td>\n",
       "</tr>\n",
       "<tr>\n",
       "  <th>floor</th>     <td>  -12.8229</td> <td>  111.934</td> <td>   -0.115</td> <td> 0.909</td> <td> -234.407</td> <td>  208.761</td>\n",
       "</tr>\n",
       "<tr>\n",
       "  <th>walls</th>     <td> 1758.5657</td> <td>  553.610</td> <td>    3.177</td> <td> 0.002</td> <td>  662.640</td> <td> 2854.491</td>\n",
       "</tr>\n",
       "<tr>\n",
       "  <th>furniture</th> <td> 1470.2908</td> <td>  782.964</td> <td>    1.878</td> <td> 0.063</td> <td>  -79.665</td> <td> 3020.247</td>\n",
       "</tr>\n",
       "</table>\n",
       "<table class=\"simpletable\">\n",
       "<tr>\n",
       "  <th>Omnibus:</th>       <td> 0.251</td> <th>  Durbin-Watson:     </th> <td>   1.856</td>\n",
       "</tr>\n",
       "<tr>\n",
       "  <th>Prob(Omnibus):</th> <td> 0.882</td> <th>  Jarque-Bera (JB):  </th> <td>   0.092</td>\n",
       "</tr>\n",
       "<tr>\n",
       "  <th>Skew:</th>          <td> 0.062</td> <th>  Prob(JB):          </th> <td>   0.955</td>\n",
       "</tr>\n",
       "<tr>\n",
       "  <th>Kurtosis:</th>      <td> 3.046</td> <th>  Cond. No.          </th> <td>    163.</td>\n",
       "</tr>\n",
       "</table><br/><br/>Notes:<br/>[1] Standard Errors assume that the covariance matrix of the errors is correctly specified."
      ],
      "text/latex": [
       "\\begin{center}\n",
       "\\begin{tabular}{lclc}\n",
       "\\toprule\n",
       "\\textbf{Dep. Variable:}    &       rent       & \\textbf{  R-squared:         } &     0.712   \\\\\n",
       "\\textbf{Model:}            &       OLS        & \\textbf{  Adj. R-squared:    } &     0.700   \\\\\n",
       "\\textbf{Method:}           &  Least Squares   & \\textbf{  F-statistic:       } &     60.20   \\\\\n",
       "\\textbf{Date:}             & Thu, 06 Feb 2025 & \\textbf{  Prob (F-statistic):} &  2.58e-31   \\\\\n",
       "\\textbf{Time:}             &     19:57:17     & \\textbf{  Log-Likelihood:    } &   -1203.2   \\\\\n",
       "\\textbf{No. Observations:} &         128      & \\textbf{  AIC:               } &     2418.   \\\\\n",
       "\\textbf{Df Residuals:}     &         122      & \\textbf{  BIC:               } &     2435.   \\\\\n",
       "\\textbf{Df Model:}         &           5      & \\textbf{                     } &             \\\\\n",
       "\\textbf{Covariance Type:}  &    nonrobust     & \\textbf{                     } &             \\\\\n",
       "\\bottomrule\n",
       "\\end{tabular}\n",
       "\\begin{tabular}{lcccccc}\n",
       "                   & \\textbf{coef} & \\textbf{std err} & \\textbf{t} & \\textbf{P$> |$t$|$} & \\textbf{[0.025} & \\textbf{0.975]}  \\\\\n",
       "\\midrule\n",
       "\\textbf{Intercept} &    5150.1361  &      957.620     &     5.378  &         0.000        &     3254.432    &     7045.840     \\\\\n",
       "\\textbf{s}         &     291.0669  &       28.880     &    10.079  &         0.000        &      233.897    &      348.237     \\\\\n",
       "\\textbf{rooms}     &    -122.8608  &      675.669     &    -0.182  &         0.856        &    -1460.415    &     1214.694     \\\\\n",
       "\\textbf{floor}     &     -12.8229  &      111.934     &    -0.115  &         0.909        &     -234.407    &      208.761     \\\\\n",
       "\\textbf{walls}     &    1758.5657  &      553.610     &     3.177  &         0.002        &      662.640    &     2854.491     \\\\\n",
       "\\textbf{furniture} &    1470.2908  &      782.964     &     1.878  &         0.063        &      -79.665    &     3020.247     \\\\\n",
       "\\bottomrule\n",
       "\\end{tabular}\n",
       "\\begin{tabular}{lclc}\n",
       "\\textbf{Omnibus:}       &  0.251 & \\textbf{  Durbin-Watson:     } &    1.856  \\\\\n",
       "\\textbf{Prob(Omnibus):} &  0.882 & \\textbf{  Jarque-Bera (JB):  } &    0.092  \\\\\n",
       "\\textbf{Skew:}          &  0.062 & \\textbf{  Prob(JB):          } &    0.955  \\\\\n",
       "\\textbf{Kurtosis:}      &  3.046 & \\textbf{  Cond. No.          } &     163.  \\\\\n",
       "\\bottomrule\n",
       "\\end{tabular}\n",
       "%\\caption{OLS Regression Results}\n",
       "\\end{center}\n",
       "\n",
       "Notes: \\newline\n",
       " [1] Standard Errors assume that the covariance matrix of the errors is correctly specified."
      ],
      "text/plain": [
       "<class 'statsmodels.iolib.summary.Summary'>\n",
       "\"\"\"\n",
       "                            OLS Regression Results                            \n",
       "==============================================================================\n",
       "Dep. Variable:                   rent   R-squared:                       0.712\n",
       "Model:                            OLS   Adj. R-squared:                  0.700\n",
       "Method:                 Least Squares   F-statistic:                     60.20\n",
       "Date:                Thu, 06 Feb 2025   Prob (F-statistic):           2.58e-31\n",
       "Time:                        19:57:17   Log-Likelihood:                -1203.2\n",
       "No. Observations:                 128   AIC:                             2418.\n",
       "Df Residuals:                     122   BIC:                             2435.\n",
       "Df Model:                           5                                         \n",
       "Covariance Type:            nonrobust                                         \n",
       "==============================================================================\n",
       "                 coef    std err          t      P>|t|      [0.025      0.975]\n",
       "------------------------------------------------------------------------------\n",
       "Intercept   5150.1361    957.620      5.378      0.000    3254.432    7045.840\n",
       "s            291.0669     28.880     10.079      0.000     233.897     348.237\n",
       "rooms       -122.8608    675.669     -0.182      0.856   -1460.415    1214.694\n",
       "floor        -12.8229    111.934     -0.115      0.909    -234.407     208.761\n",
       "walls       1758.5657    553.610      3.177      0.002     662.640    2854.491\n",
       "furniture   1470.2908    782.964      1.878      0.063     -79.665    3020.247\n",
       "==============================================================================\n",
       "Omnibus:                        0.251   Durbin-Watson:                   1.856\n",
       "Prob(Omnibus):                  0.882   Jarque-Bera (JB):                0.092\n",
       "Skew:                           0.062   Prob(JB):                        0.955\n",
       "Kurtosis:                       3.046   Cond. No.                         163.\n",
       "==============================================================================\n",
       "\n",
       "Notes:\n",
       "[1] Standard Errors assume that the covariance matrix of the errors is correctly specified.\n",
       "\"\"\""
      ]
     },
     "execution_count": 518,
     "metadata": {},
     "output_type": "execute_result"
    }
   ],
   "source": [
    "mlt_res1 = smf.ols('rent ~ s + rooms + floor + walls + furniture' , data=df).fit()\n",
    "mlt_res1.summary()"
   ]
  },
  {
   "cell_type": "markdown",
   "metadata": {},
   "source": [
    "**Результат:*\n",
    "- Нормальное распределение остатков\n",
    "- Подорительные коэффициенты при *rooms, floor*\n",
    "- Выполнение гипотезы о равенстве нулю коэффициентов при *rooms, floor*\n",
    "\n",
    "Ситуация с коэффициентами и гипотезой связана с мультиколлинеарностью в случае rooms, т.к. выше доказана его связь с признаком s\n",
    "\n",
    "Признак *floors* уберем, т.к. p_value крайне высокое и подтверждает равенство коэффициента нулю, а *furniture* оставим, т.к. значение граничное и возможно из-за перераспределения дисперсии в последствии изменится в лучшую сторону"
   ]
  },
  {
   "cell_type": "markdown",
   "metadata": {},
   "source": [
    "## 5.5. Кодирование категориальных значений"
   ]
  },
  {
   "cell_type": "code",
   "execution_count": 519,
   "metadata": {},
   "outputs": [
    {
     "data": {
      "text/html": [
       "<div>\n",
       "<style scoped>\n",
       "    .dataframe tbody tr th:only-of-type {\n",
       "        vertical-align: middle;\n",
       "    }\n",
       "\n",
       "    .dataframe tbody tr th {\n",
       "        vertical-align: top;\n",
       "    }\n",
       "\n",
       "    .dataframe thead th {\n",
       "        text-align: right;\n",
       "    }\n",
       "</style>\n",
       "<table border=\"1\" class=\"dataframe\">\n",
       "  <thead>\n",
       "    <tr style=\"text-align: right;\">\n",
       "      <th></th>\n",
       "      <th>level_0</th>\n",
       "      <th>index</th>\n",
       "      <th>rent</th>\n",
       "      <th>s</th>\n",
       "      <th>floor</th>\n",
       "      <th>rooms</th>\n",
       "      <th>district</th>\n",
       "      <th>walls</th>\n",
       "      <th>furniture</th>\n",
       "      <th>d1</th>\n",
       "      <th>d2</th>\n",
       "      <th>d3</th>\n",
       "    </tr>\n",
       "  </thead>\n",
       "  <tbody>\n",
       "    <tr>\n",
       "      <th>0</th>\n",
       "      <td>0</td>\n",
       "      <td>0</td>\n",
       "      <td>15000</td>\n",
       "      <td>35.0</td>\n",
       "      <td>5</td>\n",
       "      <td>1</td>\n",
       "      <td>3</td>\n",
       "      <td>1</td>\n",
       "      <td>1</td>\n",
       "      <td>False</td>\n",
       "      <td>False</td>\n",
       "      <td>True</td>\n",
       "    </tr>\n",
       "    <tr>\n",
       "      <th>1</th>\n",
       "      <td>1</td>\n",
       "      <td>1</td>\n",
       "      <td>16500</td>\n",
       "      <td>31.0</td>\n",
       "      <td>2</td>\n",
       "      <td>1</td>\n",
       "      <td>2</td>\n",
       "      <td>0</td>\n",
       "      <td>1</td>\n",
       "      <td>False</td>\n",
       "      <td>True</td>\n",
       "      <td>False</td>\n",
       "    </tr>\n",
       "    <tr>\n",
       "      <th>2</th>\n",
       "      <td>2</td>\n",
       "      <td>2</td>\n",
       "      <td>18000</td>\n",
       "      <td>30.0</td>\n",
       "      <td>4</td>\n",
       "      <td>1</td>\n",
       "      <td>3</td>\n",
       "      <td>1</td>\n",
       "      <td>1</td>\n",
       "      <td>False</td>\n",
       "      <td>False</td>\n",
       "      <td>True</td>\n",
       "    </tr>\n",
       "    <tr>\n",
       "      <th>3</th>\n",
       "      <td>3</td>\n",
       "      <td>3</td>\n",
       "      <td>30000</td>\n",
       "      <td>55.0</td>\n",
       "      <td>1</td>\n",
       "      <td>2</td>\n",
       "      <td>3</td>\n",
       "      <td>1</td>\n",
       "      <td>1</td>\n",
       "      <td>False</td>\n",
       "      <td>False</td>\n",
       "      <td>True</td>\n",
       "    </tr>\n",
       "    <tr>\n",
       "      <th>4</th>\n",
       "      <td>4</td>\n",
       "      <td>4</td>\n",
       "      <td>12000</td>\n",
       "      <td>19.0</td>\n",
       "      <td>3</td>\n",
       "      <td>1</td>\n",
       "      <td>2</td>\n",
       "      <td>1</td>\n",
       "      <td>1</td>\n",
       "      <td>False</td>\n",
       "      <td>True</td>\n",
       "      <td>False</td>\n",
       "    </tr>\n",
       "    <tr>\n",
       "      <th>...</th>\n",
       "      <td>...</td>\n",
       "      <td>...</td>\n",
       "      <td>...</td>\n",
       "      <td>...</td>\n",
       "      <td>...</td>\n",
       "      <td>...</td>\n",
       "      <td>...</td>\n",
       "      <td>...</td>\n",
       "      <td>...</td>\n",
       "      <td>...</td>\n",
       "      <td>...</td>\n",
       "      <td>...</td>\n",
       "    </tr>\n",
       "    <tr>\n",
       "      <th>123</th>\n",
       "      <td>124</td>\n",
       "      <td>125</td>\n",
       "      <td>30000</td>\n",
       "      <td>54.0</td>\n",
       "      <td>7</td>\n",
       "      <td>2</td>\n",
       "      <td>1</td>\n",
       "      <td>1</td>\n",
       "      <td>1</td>\n",
       "      <td>True</td>\n",
       "      <td>False</td>\n",
       "      <td>False</td>\n",
       "    </tr>\n",
       "    <tr>\n",
       "      <th>124</th>\n",
       "      <td>125</td>\n",
       "      <td>126</td>\n",
       "      <td>28500</td>\n",
       "      <td>54.0</td>\n",
       "      <td>1</td>\n",
       "      <td>2</td>\n",
       "      <td>1</td>\n",
       "      <td>1</td>\n",
       "      <td>1</td>\n",
       "      <td>True</td>\n",
       "      <td>False</td>\n",
       "      <td>False</td>\n",
       "    </tr>\n",
       "    <tr>\n",
       "      <th>125</th>\n",
       "      <td>126</td>\n",
       "      <td>127</td>\n",
       "      <td>19500</td>\n",
       "      <td>54.0</td>\n",
       "      <td>3</td>\n",
       "      <td>2</td>\n",
       "      <td>2</td>\n",
       "      <td>0</td>\n",
       "      <td>1</td>\n",
       "      <td>False</td>\n",
       "      <td>True</td>\n",
       "      <td>False</td>\n",
       "    </tr>\n",
       "    <tr>\n",
       "      <th>126</th>\n",
       "      <td>127</td>\n",
       "      <td>128</td>\n",
       "      <td>10500</td>\n",
       "      <td>12.0</td>\n",
       "      <td>4</td>\n",
       "      <td>1</td>\n",
       "      <td>3</td>\n",
       "      <td>1</td>\n",
       "      <td>0</td>\n",
       "      <td>False</td>\n",
       "      <td>False</td>\n",
       "      <td>True</td>\n",
       "    </tr>\n",
       "    <tr>\n",
       "      <th>127</th>\n",
       "      <td>128</td>\n",
       "      <td>129</td>\n",
       "      <td>19500</td>\n",
       "      <td>68.0</td>\n",
       "      <td>4</td>\n",
       "      <td>2</td>\n",
       "      <td>2</td>\n",
       "      <td>0</td>\n",
       "      <td>1</td>\n",
       "      <td>False</td>\n",
       "      <td>True</td>\n",
       "      <td>False</td>\n",
       "    </tr>\n",
       "  </tbody>\n",
       "</table>\n",
       "<p>128 rows × 12 columns</p>\n",
       "</div>"
      ],
      "text/plain": [
       "     level_0  index   rent     s  floor  rooms  district  walls  furniture  \\\n",
       "0          0      0  15000  35.0      5      1         3      1          1   \n",
       "1          1      1  16500  31.0      2      1         2      0          1   \n",
       "2          2      2  18000  30.0      4      1         3      1          1   \n",
       "3          3      3  30000  55.0      1      2         3      1          1   \n",
       "4          4      4  12000  19.0      3      1         2      1          1   \n",
       "..       ...    ...    ...   ...    ...    ...       ...    ...        ...   \n",
       "123      124    125  30000  54.0      7      2         1      1          1   \n",
       "124      125    126  28500  54.0      1      2         1      1          1   \n",
       "125      126    127  19500  54.0      3      2         2      0          1   \n",
       "126      127    128  10500  12.0      4      1         3      1          0   \n",
       "127      128    129  19500  68.0      4      2         2      0          1   \n",
       "\n",
       "        d1     d2     d3  \n",
       "0    False  False   True  \n",
       "1    False   True  False  \n",
       "2    False  False   True  \n",
       "3    False  False   True  \n",
       "4    False   True  False  \n",
       "..     ...    ...    ...  \n",
       "123   True  False  False  \n",
       "124   True  False  False  \n",
       "125  False   True  False  \n",
       "126  False  False   True  \n",
       "127  False   True  False  \n",
       "\n",
       "[128 rows x 12 columns]"
      ]
     },
     "execution_count": 519,
     "metadata": {},
     "output_type": "execute_result"
    }
   ],
   "source": [
    "df01 = pd.concat((df, pd.get_dummies(df.district, prefix=\"d\", prefix_sep='')), axis=1)\n",
    "df01"
   ]
  },
  {
   "cell_type": "markdown",
   "metadata": {},
   "source": [
    "Убираем признак d3 т.к. он выражается через d1 и d2 и порождает мультиколлинеарность"
   ]
  },
  {
   "cell_type": "code",
   "execution_count": 520,
   "metadata": {},
   "outputs": [
    {
     "data": {
      "text/html": [
       "<table class=\"simpletable\">\n",
       "<caption>OLS Regression Results</caption>\n",
       "<tr>\n",
       "  <th>Dep. Variable:</th>          <td>rent</td>       <th>  R-squared:         </th> <td>   0.767</td>\n",
       "</tr>\n",
       "<tr>\n",
       "  <th>Model:</th>                   <td>OLS</td>       <th>  Adj. R-squared:    </th> <td>   0.757</td>\n",
       "</tr>\n",
       "<tr>\n",
       "  <th>Method:</th>             <td>Least Squares</td>  <th>  F-statistic:       </th> <td>   80.27</td>\n",
       "</tr>\n",
       "<tr>\n",
       "  <th>Date:</th>             <td>Thu, 06 Feb 2025</td> <th>  Prob (F-statistic):</th> <td>6.60e-37</td>\n",
       "</tr>\n",
       "<tr>\n",
       "  <th>Time:</th>                 <td>19:57:17</td>     <th>  Log-Likelihood:    </th> <td> -1189.5</td>\n",
       "</tr>\n",
       "<tr>\n",
       "  <th>No. Observations:</th>      <td>   128</td>      <th>  AIC:               </th> <td>   2391.</td>\n",
       "</tr>\n",
       "<tr>\n",
       "  <th>Df Residuals:</th>          <td>   122</td>      <th>  BIC:               </th> <td>   2408.</td>\n",
       "</tr>\n",
       "<tr>\n",
       "  <th>Df Model:</th>              <td>     5</td>      <th>                     </th>     <td> </td>   \n",
       "</tr>\n",
       "<tr>\n",
       "  <th>Covariance Type:</th>      <td>nonrobust</td>    <th>                     </th>     <td> </td>   \n",
       "</tr>\n",
       "</table>\n",
       "<table class=\"simpletable\">\n",
       "<tr>\n",
       "       <td></td>         <th>coef</th>     <th>std err</th>      <th>t</th>      <th>P>|t|</th>  <th>[0.025</th>    <th>0.975]</th>  \n",
       "</tr>\n",
       "<tr>\n",
       "  <th>Intercept</th>  <td> 5794.0951</td> <td>  932.331</td> <td>    6.215</td> <td> 0.000</td> <td> 3948.452</td> <td> 7639.738</td>\n",
       "</tr>\n",
       "<tr>\n",
       "  <th>d1[T.True]</th> <td> 1846.3753</td> <td>  597.661</td> <td>    3.089</td> <td> 0.002</td> <td>  663.246</td> <td> 3029.504</td>\n",
       "</tr>\n",
       "<tr>\n",
       "  <th>d2[T.True]</th> <td>-1533.5026</td> <td>  585.775</td> <td>   -2.618</td> <td> 0.010</td> <td>-2693.102</td> <td> -373.903</td>\n",
       "</tr>\n",
       "<tr>\n",
       "  <th>s</th>          <td>  273.5371</td> <td>   17.436</td> <td>   15.688</td> <td> 0.000</td> <td>  239.022</td> <td>  308.052</td>\n",
       "</tr>\n",
       "<tr>\n",
       "  <th>walls</th>      <td> 1055.5335</td> <td>  514.444</td> <td>    2.052</td> <td> 0.042</td> <td>   37.140</td> <td> 2073.927</td>\n",
       "</tr>\n",
       "<tr>\n",
       "  <th>furniture</th>  <td> 1689.0177</td> <td>  709.819</td> <td>    2.380</td> <td> 0.019</td> <td>  283.860</td> <td> 3094.175</td>\n",
       "</tr>\n",
       "</table>\n",
       "<table class=\"simpletable\">\n",
       "<tr>\n",
       "  <th>Omnibus:</th>       <td> 0.325</td> <th>  Durbin-Watson:     </th> <td>   1.720</td>\n",
       "</tr>\n",
       "<tr>\n",
       "  <th>Prob(Omnibus):</th> <td> 0.850</td> <th>  Jarque-Bera (JB):  </th> <td>   0.434</td>\n",
       "</tr>\n",
       "<tr>\n",
       "  <th>Skew:</th>          <td>-0.111</td> <th>  Prob(JB):          </th> <td>   0.805</td>\n",
       "</tr>\n",
       "<tr>\n",
       "  <th>Kurtosis:</th>      <td> 2.821</td> <th>  Cond. No.          </th> <td>    181.</td>\n",
       "</tr>\n",
       "</table><br/><br/>Notes:<br/>[1] Standard Errors assume that the covariance matrix of the errors is correctly specified."
      ],
      "text/latex": [
       "\\begin{center}\n",
       "\\begin{tabular}{lclc}\n",
       "\\toprule\n",
       "\\textbf{Dep. Variable:}    &       rent       & \\textbf{  R-squared:         } &     0.767   \\\\\n",
       "\\textbf{Model:}            &       OLS        & \\textbf{  Adj. R-squared:    } &     0.757   \\\\\n",
       "\\textbf{Method:}           &  Least Squares   & \\textbf{  F-statistic:       } &     80.27   \\\\\n",
       "\\textbf{Date:}             & Thu, 06 Feb 2025 & \\textbf{  Prob (F-statistic):} &  6.60e-37   \\\\\n",
       "\\textbf{Time:}             &     19:57:17     & \\textbf{  Log-Likelihood:    } &   -1189.5   \\\\\n",
       "\\textbf{No. Observations:} &         128      & \\textbf{  AIC:               } &     2391.   \\\\\n",
       "\\textbf{Df Residuals:}     &         122      & \\textbf{  BIC:               } &     2408.   \\\\\n",
       "\\textbf{Df Model:}         &           5      & \\textbf{                     } &             \\\\\n",
       "\\textbf{Covariance Type:}  &    nonrobust     & \\textbf{                     } &             \\\\\n",
       "\\bottomrule\n",
       "\\end{tabular}\n",
       "\\begin{tabular}{lcccccc}\n",
       "                    & \\textbf{coef} & \\textbf{std err} & \\textbf{t} & \\textbf{P$> |$t$|$} & \\textbf{[0.025} & \\textbf{0.975]}  \\\\\n",
       "\\midrule\n",
       "\\textbf{Intercept}  &    5794.0951  &      932.331     &     6.215  &         0.000        &     3948.452    &     7639.738     \\\\\n",
       "\\textbf{d1[T.True]} &    1846.3753  &      597.661     &     3.089  &         0.002        &      663.246    &     3029.504     \\\\\n",
       "\\textbf{d2[T.True]} &   -1533.5026  &      585.775     &    -2.618  &         0.010        &    -2693.102    &     -373.903     \\\\\n",
       "\\textbf{s}          &     273.5371  &       17.436     &    15.688  &         0.000        &      239.022    &      308.052     \\\\\n",
       "\\textbf{walls}      &    1055.5335  &      514.444     &     2.052  &         0.042        &       37.140    &     2073.927     \\\\\n",
       "\\textbf{furniture}  &    1689.0177  &      709.819     &     2.380  &         0.019        &      283.860    &     3094.175     \\\\\n",
       "\\bottomrule\n",
       "\\end{tabular}\n",
       "\\begin{tabular}{lclc}\n",
       "\\textbf{Omnibus:}       &  0.325 & \\textbf{  Durbin-Watson:     } &    1.720  \\\\\n",
       "\\textbf{Prob(Omnibus):} &  0.850 & \\textbf{  Jarque-Bera (JB):  } &    0.434  \\\\\n",
       "\\textbf{Skew:}          & -0.111 & \\textbf{  Prob(JB):          } &    0.805  \\\\\n",
       "\\textbf{Kurtosis:}      &  2.821 & \\textbf{  Cond. No.          } &     181.  \\\\\n",
       "\\bottomrule\n",
       "\\end{tabular}\n",
       "%\\caption{OLS Regression Results}\n",
       "\\end{center}\n",
       "\n",
       "Notes: \\newline\n",
       " [1] Standard Errors assume that the covariance matrix of the errors is correctly specified."
      ],
      "text/plain": [
       "<class 'statsmodels.iolib.summary.Summary'>\n",
       "\"\"\"\n",
       "                            OLS Regression Results                            \n",
       "==============================================================================\n",
       "Dep. Variable:                   rent   R-squared:                       0.767\n",
       "Model:                            OLS   Adj. R-squared:                  0.757\n",
       "Method:                 Least Squares   F-statistic:                     80.27\n",
       "Date:                Thu, 06 Feb 2025   Prob (F-statistic):           6.60e-37\n",
       "Time:                        19:57:17   Log-Likelihood:                -1189.5\n",
       "No. Observations:                 128   AIC:                             2391.\n",
       "Df Residuals:                     122   BIC:                             2408.\n",
       "Df Model:                           5                                         \n",
       "Covariance Type:            nonrobust                                         \n",
       "==============================================================================\n",
       "                 coef    std err          t      P>|t|      [0.025      0.975]\n",
       "------------------------------------------------------------------------------\n",
       "Intercept   5794.0951    932.331      6.215      0.000    3948.452    7639.738\n",
       "d1[T.True]  1846.3753    597.661      3.089      0.002     663.246    3029.504\n",
       "d2[T.True] -1533.5026    585.775     -2.618      0.010   -2693.102    -373.903\n",
       "s            273.5371     17.436     15.688      0.000     239.022     308.052\n",
       "walls       1055.5335    514.444      2.052      0.042      37.140    2073.927\n",
       "furniture   1689.0177    709.819      2.380      0.019     283.860    3094.175\n",
       "==============================================================================\n",
       "Omnibus:                        0.325   Durbin-Watson:                   1.720\n",
       "Prob(Omnibus):                  0.850   Jarque-Bera (JB):                0.434\n",
       "Skew:                          -0.111   Prob(JB):                        0.805\n",
       "Kurtosis:                       2.821   Cond. No.                         181.\n",
       "==============================================================================\n",
       "\n",
       "Notes:\n",
       "[1] Standard Errors assume that the covariance matrix of the errors is correctly specified.\n",
       "\"\"\""
      ]
     },
     "execution_count": 520,
     "metadata": {},
     "output_type": "execute_result"
    }
   ],
   "source": [
    "mlt_res2 = smf.ols('rent ~ s + walls + furniture + d1 + d2 ', data=df01).fit()\n",
    "mlt_res2.summary()"
   ]
  },
  {
   "cell_type": "markdown",
   "metadata": {},
   "source": [
    "**Результат:**\n",
    "- Нормальное распределение остатков\n",
    "- Все коэффициенты значимы\n",
    "- Автокорреляция остатков практически отсутствует\n",
    "- Высокая деретминация $R^2\\approx 0.767$, значимость которой подтверждается p-value по F-статистике.\n",
    "\n",
    "Это и будет финальной моделью.\n",
    "\n",
    "**P.S.** Из интересного - по свободному члену можем понять что за сам факт аренды платится 5794 рубля"
   ]
  },
  {
   "cell_type": "markdown",
   "metadata": {},
   "source": [
    "И на всякий случай, окончательно убедимся что число комнат влияет на арендную плату"
   ]
  },
  {
   "cell_type": "code",
   "execution_count": 521,
   "metadata": {},
   "outputs": [
    {
     "data": {
      "text/html": [
       "<table class=\"simpletable\">\n",
       "<caption>OLS Regression Results</caption>\n",
       "<tr>\n",
       "  <th>Dep. Variable:</th>          <td>rent</td>       <th>  R-squared:         </th> <td>   0.333</td>\n",
       "</tr>\n",
       "<tr>\n",
       "  <th>Model:</th>                   <td>OLS</td>       <th>  Adj. R-squared:    </th> <td>   0.327</td>\n",
       "</tr>\n",
       "<tr>\n",
       "  <th>Method:</th>             <td>Least Squares</td>  <th>  F-statistic:       </th> <td>   62.77</td>\n",
       "</tr>\n",
       "<tr>\n",
       "  <th>Date:</th>             <td>Thu, 06 Feb 2025</td> <th>  Prob (F-statistic):</th> <td>1.05e-12</td>\n",
       "</tr>\n",
       "<tr>\n",
       "  <th>Time:</th>                 <td>19:57:18</td>     <th>  Log-Likelihood:    </th> <td> -1256.9</td>\n",
       "</tr>\n",
       "<tr>\n",
       "  <th>No. Observations:</th>      <td>   128</td>      <th>  AIC:               </th> <td>   2518.</td>\n",
       "</tr>\n",
       "<tr>\n",
       "  <th>Df Residuals:</th>          <td>   126</td>      <th>  BIC:               </th> <td>   2523.</td>\n",
       "</tr>\n",
       "<tr>\n",
       "  <th>Df Model:</th>              <td>     1</td>      <th>                     </th>     <td> </td>   \n",
       "</tr>\n",
       "<tr>\n",
       "  <th>Covariance Type:</th>      <td>nonrobust</td>    <th>                     </th>     <td> </td>   \n",
       "</tr>\n",
       "</table>\n",
       "<table class=\"simpletable\">\n",
       "<tr>\n",
       "      <td></td>         <th>coef</th>     <th>std err</th>      <th>t</th>      <th>P>|t|</th>  <th>[0.025</th>    <th>0.975]</th>  \n",
       "</tr>\n",
       "<tr>\n",
       "  <th>Intercept</th> <td> 1.041e+04</td> <td> 1003.743</td> <td>   10.368</td> <td> 0.000</td> <td> 8420.261</td> <td> 1.24e+04</td>\n",
       "</tr>\n",
       "<tr>\n",
       "  <th>rooms</th>     <td> 5405.7807</td> <td>  682.320</td> <td>    7.923</td> <td> 0.000</td> <td> 4055.490</td> <td> 6756.071</td>\n",
       "</tr>\n",
       "</table>\n",
       "<table class=\"simpletable\">\n",
       "<tr>\n",
       "  <th>Omnibus:</th>       <td> 4.078</td> <th>  Durbin-Watson:     </th> <td>   2.123</td>\n",
       "</tr>\n",
       "<tr>\n",
       "  <th>Prob(Omnibus):</th> <td> 0.130</td> <th>  Jarque-Bera (JB):  </th> <td>   3.708</td>\n",
       "</tr>\n",
       "<tr>\n",
       "  <th>Skew:</th>          <td> 0.413</td> <th>  Prob(JB):          </th> <td>   0.157</td>\n",
       "</tr>\n",
       "<tr>\n",
       "  <th>Kurtosis:</th>      <td> 3.116</td> <th>  Cond. No.          </th> <td>    5.26</td>\n",
       "</tr>\n",
       "</table><br/><br/>Notes:<br/>[1] Standard Errors assume that the covariance matrix of the errors is correctly specified."
      ],
      "text/latex": [
       "\\begin{center}\n",
       "\\begin{tabular}{lclc}\n",
       "\\toprule\n",
       "\\textbf{Dep. Variable:}    &       rent       & \\textbf{  R-squared:         } &     0.333   \\\\\n",
       "\\textbf{Model:}            &       OLS        & \\textbf{  Adj. R-squared:    } &     0.327   \\\\\n",
       "\\textbf{Method:}           &  Least Squares   & \\textbf{  F-statistic:       } &     62.77   \\\\\n",
       "\\textbf{Date:}             & Thu, 06 Feb 2025 & \\textbf{  Prob (F-statistic):} &  1.05e-12   \\\\\n",
       "\\textbf{Time:}             &     19:57:18     & \\textbf{  Log-Likelihood:    } &   -1256.9   \\\\\n",
       "\\textbf{No. Observations:} &         128      & \\textbf{  AIC:               } &     2518.   \\\\\n",
       "\\textbf{Df Residuals:}     &         126      & \\textbf{  BIC:               } &     2523.   \\\\\n",
       "\\textbf{Df Model:}         &           1      & \\textbf{                     } &             \\\\\n",
       "\\textbf{Covariance Type:}  &    nonrobust     & \\textbf{                     } &             \\\\\n",
       "\\bottomrule\n",
       "\\end{tabular}\n",
       "\\begin{tabular}{lcccccc}\n",
       "                   & \\textbf{coef} & \\textbf{std err} & \\textbf{t} & \\textbf{P$> |$t$|$} & \\textbf{[0.025} & \\textbf{0.975]}  \\\\\n",
       "\\midrule\n",
       "\\textbf{Intercept} &    1.041e+04  &     1003.743     &    10.368  &         0.000        &     8420.261    &     1.24e+04     \\\\\n",
       "\\textbf{rooms}     &    5405.7807  &      682.320     &     7.923  &         0.000        &     4055.490    &     6756.071     \\\\\n",
       "\\bottomrule\n",
       "\\end{tabular}\n",
       "\\begin{tabular}{lclc}\n",
       "\\textbf{Omnibus:}       &  4.078 & \\textbf{  Durbin-Watson:     } &    2.123  \\\\\n",
       "\\textbf{Prob(Omnibus):} &  0.130 & \\textbf{  Jarque-Bera (JB):  } &    3.708  \\\\\n",
       "\\textbf{Skew:}          &  0.413 & \\textbf{  Prob(JB):          } &    0.157  \\\\\n",
       "\\textbf{Kurtosis:}      &  3.116 & \\textbf{  Cond. No.          } &     5.26  \\\\\n",
       "\\bottomrule\n",
       "\\end{tabular}\n",
       "%\\caption{OLS Regression Results}\n",
       "\\end{center}\n",
       "\n",
       "Notes: \\newline\n",
       " [1] Standard Errors assume that the covariance matrix of the errors is correctly specified."
      ],
      "text/plain": [
       "<class 'statsmodels.iolib.summary.Summary'>\n",
       "\"\"\"\n",
       "                            OLS Regression Results                            \n",
       "==============================================================================\n",
       "Dep. Variable:                   rent   R-squared:                       0.333\n",
       "Model:                            OLS   Adj. R-squared:                  0.327\n",
       "Method:                 Least Squares   F-statistic:                     62.77\n",
       "Date:                Thu, 06 Feb 2025   Prob (F-statistic):           1.05e-12\n",
       "Time:                        19:57:18   Log-Likelihood:                -1256.9\n",
       "No. Observations:                 128   AIC:                             2518.\n",
       "Df Residuals:                     126   BIC:                             2523.\n",
       "Df Model:                           1                                         \n",
       "Covariance Type:            nonrobust                                         \n",
       "==============================================================================\n",
       "                 coef    std err          t      P>|t|      [0.025      0.975]\n",
       "------------------------------------------------------------------------------\n",
       "Intercept   1.041e+04   1003.743     10.368      0.000    8420.261    1.24e+04\n",
       "rooms       5405.7807    682.320      7.923      0.000    4055.490    6756.071\n",
       "==============================================================================\n",
       "Omnibus:                        4.078   Durbin-Watson:                   2.123\n",
       "Prob(Omnibus):                  0.130   Jarque-Bera (JB):                3.708\n",
       "Skew:                           0.413   Prob(JB):                        0.157\n",
       "Kurtosis:                       3.116   Cond. No.                         5.26\n",
       "==============================================================================\n",
       "\n",
       "Notes:\n",
       "[1] Standard Errors assume that the covariance matrix of the errors is correctly specified.\n",
       "\"\"\""
      ]
     },
     "execution_count": 521,
     "metadata": {},
     "output_type": "execute_result"
    }
   ],
   "source": [
    "results2 = smf.ols('rent ~ rooms', data=df01).fit()\n",
    "results2.summary()"
   ]
  },
  {
   "cell_type": "markdown",
   "metadata": {},
   "source": [
    "Модель адекватная, коэффициенты значимы а детерминация от одного фактора *rooms* достигает $\\frac{1}{3}$, что доказывает влияние признака на целевой показатель"
   ]
  }
 ],
 "metadata": {
  "kernelspec": {
   "display_name": "Python 3",
   "language": "python",
   "name": "python3"
  },
  "language_info": {
   "codemirror_mode": {
    "name": "ipython",
    "version": 3
   },
   "file_extension": ".py",
   "mimetype": "text/x-python",
   "name": "python",
   "nbconvert_exporter": "python",
   "pygments_lexer": "ipython3",
   "version": "3.12.8"
  }
 },
 "nbformat": 4,
 "nbformat_minor": 2
}
